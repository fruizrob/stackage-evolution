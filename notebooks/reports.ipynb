{
 "cells": [
  {
   "cell_type": "markdown",
   "metadata": {},
   "source": [
    "# Setup"
   ]
  },
  {
   "cell_type": "code",
   "execution_count": 437,
   "metadata": {},
   "outputs": [
    {
     "name": "stdout",
     "output_type": "stream",
     "text": [
      "/Users/fruiz/Desktop/github/papers-stackage/pipelines/scripts/dataframes\r\n"
     ]
    }
   ],
   "source": [
    "%matplotlib inline\n",
    "\n",
    "import pandas as pd\n",
    "import numpy as np\n",
    "import re\n",
    "import squarify\n",
    "import copy\n",
    "\n",
    "import matplotlib.pyplot as plt\n",
    "import matplotlib\n",
    "\n",
    "#Config metaplotlib\n",
    "matplotlib.rcParams.update({'font.size': 20 }) #, 'font.weight' : 'bold'})\n",
    "matplotlib.rc('xtick', labelsize=20) \n",
    "matplotlib.rc('ytick', labelsize=20) \n",
    "\n",
    "!pwd\n",
    "\n",
    "pd.set_option('display.max_columns', None)"
   ]
  },
  {
   "cell_type": "code",
   "execution_count": 846,
   "metadata": {},
   "outputs": [],
   "source": [
    "lts_version = 'lts-0-7'\n",
    "path_figure = f'/Users/fruiz/Desktop/github/papers-stackage/pipelines/scripts/dataframes/{lts_version}/'\n",
    "\n",
    "df = pd.read_pickle(f'{lts_version}.df')\n",
    "mtl_df = df[df['mtl-direct'] == 1]\n",
    "df_by_cat = pd.read_pickle(f'{lts_version}-by-category.df')"
   ]
  },
  {
   "cell_type": "code",
   "execution_count": 847,
   "metadata": {},
   "outputs": [
    {
     "data": {
      "text/plain": [
       "package                                                                BlastHTTP\n",
       "version                                                                    1.0.1\n",
       "stability                                                                       \n",
       "cabal-file                     /Users/fruiz/Desktop/github/papers-stackage/pi...\n",
       "categories                                                      [bioinformatics]\n",
       "deps                           [http, base, biocore, blastxml, bytestring, co...\n",
       "provided-modules                                                 [Bio.BlastHTTP]\n",
       "src-dirs                                                                   [src]\n",
       "main-modules                                                                  []\n",
       "mtl-direct                                                                     1\n",
       "provided-modules-found         [(Bio.BlastHTTP, ./StackageDownload/lts-0.7/Bl...\n",
       "provided-modules-notfound                                                     []\n",
       "main-modules-found                                                            []\n",
       "main-modules-notfound                                                         []\n",
       "imported-modules               [Network.HTTP.Conduit, Data.Conduit, Data.Byte...\n",
       "Control.Monad.Cont                                                             0\n",
       "Control.Monad.Cont.Class                                                       0\n",
       "Control.Monad.Error                                                            1\n",
       "Control.Monad.Error.Class                                                      0\n",
       "Control.Monad.Except                                                           0\n",
       "Control.Monad.Identity                                                         0\n",
       "Control.Monad.List                                                             0\n",
       "Control.Monad.RWS                                                              0\n",
       "Control.Monad.RWS.Class                                                        0\n",
       "Control.Monad.RWS.Lazy                                                         0\n",
       "Control.Monad.RWS.Strict                                                       0\n",
       "Control.Monad.Reader                                                           0\n",
       "Control.Monad.Reader.Class                                                     0\n",
       "Control.Monad.State                                                            0\n",
       "Control.Monad.State.Class                                                      0\n",
       "Control.Monad.State.Lazy                                                       0\n",
       "Control.Monad.State.Strict                                                     0\n",
       "Control.Monad.Trans                                                            0\n",
       "Control.Monad.Writer                                                           0\n",
       "Control.Monad.Writer.Class                                                     0\n",
       "Control.Monad.Writer.Lazy                                                      0\n",
       "Control.Monad.Writer.Strict                                                    0\n",
       "Control.Monad.Trans.Class                                                      0\n",
       "Control.Monad                                                                  1\n",
       "System.IO                                                                      0\n",
       "Name: BlastHTTP-1.0.1, dtype: object"
      ]
     },
     "execution_count": 847,
     "metadata": {},
     "output_type": "execute_result"
    }
   ],
   "source": [
    "mtl_df.iloc[0]"
   ]
  },
  {
   "cell_type": "markdown",
   "metadata": {},
   "source": [
    "# General statistics"
   ]
  },
  {
   "cell_type": "code",
   "execution_count": 848,
   "metadata": {},
   "outputs": [
    {
     "name": "stdout",
     "output_type": "stream",
     "text": [
      "Total packages = 815\n",
      "Total packages using mtl directly = 174\n",
      "Percentage of packges using mtl directly = 21.35%\n"
     ]
    }
   ],
   "source": [
    "total_pkgs = len(df)\n",
    "total_pkgs_mtl = len(mtl_df)\n",
    "per_pkgs_mtl = total_pkgs_mtl * 100 / total_pkgs\n",
    "\n",
    "print(f'Total packages = {total_pkgs}')\n",
    "print(f'Total packages using mtl directly = {total_pkgs_mtl}')\n",
    "print(f'Percentage of packges using mtl directly = {per_pkgs_mtl:.2f}%')"
   ]
  },
  {
   "cell_type": "code",
   "execution_count": 849,
   "metadata": {},
   "outputs": [
    {
     "data": {
      "image/png": "[encoded data removed]",
      "text/plain": [
       "<Figure size 864x288 with 1 Axes>"
      ]
     },
     "metadata": {
      "needs_background": "light"
     },
     "output_type": "display_data"
    }
   ],
   "source": [
    "# to do: preguntar el tema de los \"imported-modules\", contienen rutas\n",
    "\n",
    "qtyProvidedModules = df['provided-modules'].map(lambda x: len(x))\n",
    "qtyImportedModules = df['imported-modules'].map(lambda x: len(x))\n",
    "qtyDepsPerPackage  = df['deps'].map(lambda x: len(x))\n",
    "\n",
    "desc_plotdf = pd.concat([qtyProvidedModules,qtyImportedModules, qtyDepsPerPackage], axis=1)\n",
    "desc_plotdf.columns = [\"Provided modules\", \"Imported modules\", \"Dependencies\"]\n",
    "\n",
    "ax, boxplot_1 = desc_plotdf.boxplot(\n",
    "    figsize=(12, 4),\n",
    "    vert=True,\n",
    "    showmeans=True,\n",
    "    showfliers=True,\n",
    "    return_type='both'\n",
    ")\n",
    "\n",
    "ax.set_yscale('log')\n",
    "ax.set_yticks([10, 100, 1000, 10000])\n",
    "ax.set_yticklabels([\"10\", \"100\", \"1000\", \"10000\"])\n",
    "\n",
    "plt.savefig(f\"{path_figure}/modules_{lts_version}.png\", bbox_inches='tight')"
   ]
  },
  {
   "cell_type": "markdown",
   "metadata": {},
   "source": [
    "# By Category"
   ]
  },
  {
   "cell_type": "code",
   "execution_count": 850,
   "metadata": {},
   "outputs": [],
   "source": [
    "def generateDataframeByCategory(df):\n",
    "    \"\"\"Takes a dataframe where a package has 1+ categories, and generates a new \n",
    "    dataframe with unique package-category combinations, hence reflecting\n",
    "    the multiplicity of categories by package\n",
    "    \"\"\"\n",
    "    \n",
    "    multicat_criteria = df['category'].map(lambda x: len(x) > 1)    \n",
    "\n",
    "    catdf = df.copy()\n",
    "    for idx in catdf.index:\n",
    "        if(len(catdf.loc[idx]['category']) == 1):\n",
    "            theCat = catdf.loc[idx]['category'][0]\n",
    "            catdf.loc[idx, 'category'] = theCat\n",
    "\n",
    "    additionalrows = []\n",
    "\n",
    "    for idx in catdf[multicat_criteria].index:\n",
    "        currentRow = copy.deepcopy(df.loc[idx])\n",
    "        for cat in currentRow['category']:        \n",
    "            newRow = copy.deepcopy(currentRow)\n",
    "            newRow['category'] = cat\n",
    "            additionalrows.append(newRow)\n",
    "\n",
    "    catdf = catdf.drop(catdf[multicat_criteria].index)\n",
    "    catdf = catdf.append(additionalrows)\n",
    "    catdf = catdf.sort_index()\n",
    "    catdf.columns = [\"category\" if x == \"categories\" else x for x in catdf.columns.tolist()]\n",
    "    catdf['category'] = catdf['category'].apply(str)\n",
    "    \n",
    "    return catdf"
   ]
  },
  {
   "cell_type": "code",
   "execution_count": 851,
   "metadata": {},
   "outputs": [
    {
     "name": "stdout",
     "output_type": "stream",
     "text": [
      "Total packages by categories = 1118\n"
     ]
    }
   ],
   "source": [
    "df_by_cat.head(3)\n",
    "print(f'Total packages by categories = {len(df_by_cat)}')"
   ]
  },
  {
   "cell_type": "code",
   "execution_count": 852,
   "metadata": {},
   "outputs": [
    {
     "data": {
      "text/html": [
       "<div>\n",
       "<style scoped>\n",
       "    .dataframe tbody tr th:only-of-type {\n",
       "        vertical-align: middle;\n",
       "    }\n",
       "\n",
       "    .dataframe tbody tr th {\n",
       "        vertical-align: top;\n",
       "    }\n",
       "\n",
       "    .dataframe thead th {\n",
       "        text-align: right;\n",
       "    }\n",
       "</style>\n",
       "<table border=\"1\" class=\"dataframe\">\n",
       "  <thead>\n",
       "    <tr style=\"text-align: right;\">\n",
       "      <th></th>\n",
       "      <th>stability</th>\n",
       "      <th>category</th>\n",
       "      <th>mtl-direct</th>\n",
       "    </tr>\n",
       "    <tr>\n",
       "      <th>package</th>\n",
       "      <th></th>\n",
       "      <th></th>\n",
       "      <th></th>\n",
       "    </tr>\n",
       "  </thead>\n",
       "  <tbody>\n",
       "    <tr>\n",
       "      <th>AC-Vector</th>\n",
       "      <td>[experimental]</td>\n",
       "      <td>[numerical, math, data, graphics]</td>\n",
       "      <td>0</td>\n",
       "    </tr>\n",
       "    <tr>\n",
       "      <th>BlastHTTP</th>\n",
       "      <td>[]</td>\n",
       "      <td>[bioinformatics]</td>\n",
       "      <td>1</td>\n",
       "    </tr>\n",
       "    <tr>\n",
       "      <th>BlogLiterately</th>\n",
       "      <td>[experimental]</td>\n",
       "      <td>[web]</td>\n",
       "      <td>1</td>\n",
       "    </tr>\n",
       "    <tr>\n",
       "      <th>BlogLiterately-diagrams</th>\n",
       "      <td>[]</td>\n",
       "      <td>[web]</td>\n",
       "      <td>0</td>\n",
       "    </tr>\n",
       "    <tr>\n",
       "      <th>Boolean</th>\n",
       "      <td>[experimental]</td>\n",
       "      <td>[data]</td>\n",
       "      <td>0</td>\n",
       "    </tr>\n",
       "    <tr>\n",
       "      <th>...</th>\n",
       "      <td>...</td>\n",
       "      <td>...</td>\n",
       "      <td>...</td>\n",
       "    </tr>\n",
       "    <tr>\n",
       "      <th>zip-archive</th>\n",
       "      <td>[]</td>\n",
       "      <td>[codec]</td>\n",
       "      <td>1</td>\n",
       "    </tr>\n",
       "    <tr>\n",
       "      <th>zlib</th>\n",
       "      <td>[]</td>\n",
       "      <td>[codec]</td>\n",
       "      <td>0</td>\n",
       "    </tr>\n",
       "    <tr>\n",
       "      <th>zlib-bindings</th>\n",
       "      <td>[experimental]</td>\n",
       "      <td>[codec]</td>\n",
       "      <td>0</td>\n",
       "    </tr>\n",
       "    <tr>\n",
       "      <th>zlib-enum</th>\n",
       "      <td>[experimental]</td>\n",
       "      <td>[enumerator, compression, codec]</td>\n",
       "      <td>0</td>\n",
       "    </tr>\n",
       "    <tr>\n",
       "      <th>zlib-lens</th>\n",
       "      <td>[]</td>\n",
       "      <td>[codec]</td>\n",
       "      <td>0</td>\n",
       "    </tr>\n",
       "  </tbody>\n",
       "</table>\n",
       "<p>815 rows × 3 columns</p>\n",
       "</div>"
      ],
      "text/plain": [
       "                              stability                           category  \\\n",
       "package                                                                      \n",
       "AC-Vector                [experimental]  [numerical, math, data, graphics]   \n",
       "BlastHTTP                            []                   [bioinformatics]   \n",
       "BlogLiterately           [experimental]                              [web]   \n",
       "BlogLiterately-diagrams              []                              [web]   \n",
       "Boolean                  [experimental]                             [data]   \n",
       "...                                 ...                                ...   \n",
       "zip-archive                          []                            [codec]   \n",
       "zlib                                 []                            [codec]   \n",
       "zlib-bindings            [experimental]                            [codec]   \n",
       "zlib-enum                [experimental]   [enumerator, compression, codec]   \n",
       "zlib-lens                            []                            [codec]   \n",
       "\n",
       "                         mtl-direct  \n",
       "package                              \n",
       "AC-Vector                         0  \n",
       "BlastHTTP                         1  \n",
       "BlogLiterately                    1  \n",
       "BlogLiterately-diagrams           0  \n",
       "Boolean                           0  \n",
       "...                             ...  \n",
       "zip-archive                       1  \n",
       "zlib                              0  \n",
       "zlib-bindings                     0  \n",
       "zlib-enum                         0  \n",
       "zlib-lens                         0  \n",
       "\n",
       "[815 rows x 3 columns]"
      ]
     },
     "execution_count": 852,
     "metadata": {},
     "output_type": "execute_result"
    }
   ],
   "source": [
    "def mergeUnique(values):\n",
    "    return list(set(values))\n",
    "\n",
    "cat_mtl_df = df_by_cat\n",
    "cat_mtl_grouped = cat_mtl_df[[\"package\",\"stability\", \"category\", \"mtl-direct\"]].groupby('package')\n",
    "cat_mtl_grouped = cat_mtl_grouped.agg({\"stability\": mergeUnique, \"category\": mergeUnique, \"mtl-direct\": np.max})\n",
    "\n",
    "cat_mtl_grouped"
   ]
  },
  {
   "cell_type": "code",
   "execution_count": 853,
   "metadata": {},
   "outputs": [
    {
     "data": {
      "text/html": [
       "<div>\n",
       "<style scoped>\n",
       "    .dataframe tbody tr th:only-of-type {\n",
       "        vertical-align: middle;\n",
       "    }\n",
       "\n",
       "    .dataframe tbody tr th {\n",
       "        vertical-align: top;\n",
       "    }\n",
       "\n",
       "    .dataframe thead th {\n",
       "        text-align: right;\n",
       "    }\n",
       "</style>\n",
       "<table border=\"1\" class=\"dataframe\">\n",
       "  <thead>\n",
       "    <tr style=\"text-align: right;\">\n",
       "      <th></th>\n",
       "      <th>stability</th>\n",
       "      <th>category</th>\n",
       "      <th>mtl-direct</th>\n",
       "    </tr>\n",
       "  </thead>\n",
       "  <tbody>\n",
       "    <tr>\n",
       "      <th>AC-Vector</th>\n",
       "      <td>[experimental]</td>\n",
       "      <td>numerical</td>\n",
       "      <td>0</td>\n",
       "    </tr>\n",
       "    <tr>\n",
       "      <th>AC-Vector</th>\n",
       "      <td>[experimental]</td>\n",
       "      <td>data</td>\n",
       "      <td>0</td>\n",
       "    </tr>\n",
       "    <tr>\n",
       "      <th>AC-Vector</th>\n",
       "      <td>[experimental]</td>\n",
       "      <td>graphics</td>\n",
       "      <td>0</td>\n",
       "    </tr>\n",
       "    <tr>\n",
       "      <th>AC-Vector</th>\n",
       "      <td>[experimental]</td>\n",
       "      <td>math</td>\n",
       "      <td>0</td>\n",
       "    </tr>\n",
       "    <tr>\n",
       "      <th>BlastHTTP</th>\n",
       "      <td>[]</td>\n",
       "      <td>bioinformatics</td>\n",
       "      <td>1</td>\n",
       "    </tr>\n",
       "    <tr>\n",
       "      <th>...</th>\n",
       "      <td>...</td>\n",
       "      <td>...</td>\n",
       "      <td>...</td>\n",
       "    </tr>\n",
       "    <tr>\n",
       "      <th>zlib-bindings</th>\n",
       "      <td>[experimental]</td>\n",
       "      <td>codec</td>\n",
       "      <td>0</td>\n",
       "    </tr>\n",
       "    <tr>\n",
       "      <th>zlib-enum</th>\n",
       "      <td>[experimental]</td>\n",
       "      <td>compression</td>\n",
       "      <td>0</td>\n",
       "    </tr>\n",
       "    <tr>\n",
       "      <th>zlib-enum</th>\n",
       "      <td>[experimental]</td>\n",
       "      <td>enumerator</td>\n",
       "      <td>0</td>\n",
       "    </tr>\n",
       "    <tr>\n",
       "      <th>zlib-enum</th>\n",
       "      <td>[experimental]</td>\n",
       "      <td>codec</td>\n",
       "      <td>0</td>\n",
       "    </tr>\n",
       "    <tr>\n",
       "      <th>zlib-lens</th>\n",
       "      <td>[]</td>\n",
       "      <td>codec</td>\n",
       "      <td>0</td>\n",
       "    </tr>\n",
       "  </tbody>\n",
       "</table>\n",
       "<p>1118 rows × 3 columns</p>\n",
       "</div>"
      ],
      "text/plain": [
       "                    stability        category  mtl-direct\n",
       "AC-Vector      [experimental]       numerical           0\n",
       "AC-Vector      [experimental]            data           0\n",
       "AC-Vector      [experimental]        graphics           0\n",
       "AC-Vector      [experimental]            math           0\n",
       "BlastHTTP                  []  bioinformatics           1\n",
       "...                       ...             ...         ...\n",
       "zlib-bindings  [experimental]           codec           0\n",
       "zlib-enum      [experimental]     compression           0\n",
       "zlib-enum      [experimental]      enumerator           0\n",
       "zlib-enum      [experimental]           codec           0\n",
       "zlib-lens                  []           codec           0\n",
       "\n",
       "[1118 rows x 3 columns]"
      ]
     },
     "execution_count": 853,
     "metadata": {},
     "output_type": "execute_result"
    }
   ],
   "source": [
    "catsplit_df = generateDataframeByCategory(cat_mtl_grouped)\n",
    "\n",
    "catsplit_df"
   ]
  },
  {
   "cell_type": "code",
   "execution_count": 854,
   "metadata": {},
   "outputs": [
    {
     "data": {
      "image/png": "[encoded data removed]",
      "text/plain": [
       "<Figure size 432x288 with 1 Axes>"
      ]
     },
     "metadata": {},
     "output_type": "display_data"
    }
   ],
   "source": [
    "cat_groups = catsplit_df.groupby(['category', 'mtl-direct'])['mtl-direct'].count().unstack().fillna(0).rename(columns={0 : 'No direct dependency', 1:'Direct dependency'})\n",
    "cat_groups['mtl-cat-pct'] = 100 * (cat_groups['Direct dependency']/(cat_groups['No direct dependency']+cat_groups['Direct dependency']))\n",
    "total_cat_df_mtl_pkgs = cat_groups['Direct dependency'].sum()\n",
    "total_cat_df_nomtl_pkgs = cat_groups['No direct dependency'].sum()\n",
    "cat_groups_threshold = 5 #4\n",
    "cat_groups['mtl-total-pct'] = 100 * (cat_groups['Direct dependency']/total_cat_df_mtl_pkgs)\n",
    "\n",
    "totalCats = len(cat_groups)\n",
    "catsNoMtl = cat_groups[cat_groups['mtl-total-pct'] == 0]\n",
    "catsMtl = cat_groups[cat_groups['mtl-total-pct'] > 0]\n",
    "\n",
    "cat_groups_no_others = cat_groups.copy(deep=True)\n",
    "\n",
    "cat_groups.index = map(lambda x: u\"{}\".format(x.Index) if x._4 >= cat_groups_threshold else u\"Others\".format(cat_groups_threshold), cat_groups.itertuples())\n",
    "cat_groups.index.name = 'category'\n",
    "cat_groups = cat_groups.groupby(cat_groups.index).sum()\n",
    "cat_groups = cat_groups.sort_values(\"mtl-total-pct\")\n",
    "cat_pie_colors = ['tab:red', 'tab:pink', 'tab:orange', 'tab:purple', 'tab:grey']\n",
    "cat_groups['mtl-total-pct'].plot(kind='pie', colors=cat_pie_colors, labels=cat_groups.index.map(lambda x: \"%s (%s)\" % (x, \"%1.1f%%\" % cat_groups.loc[x]['mtl-total-pct']) if cat_groups.loc[x]['mtl-total-pct'] >= cat_groups_threshold else '')).set_ylabel('')\n",
    "\n",
    "plt.savefig(f\"{path_figure}/category_pie_{lts_version}.png\", bbox_inches='tight')"
   ]
  },
  {
   "cell_type": "code",
   "execution_count": 855,
   "metadata": {},
   "outputs": [
    {
     "data": {
      "text/plain": [
       "241.0"
      ]
     },
     "execution_count": 855,
     "metadata": {},
     "output_type": "execute_result"
    }
   ],
   "source": [
    "total_cat_df_mtl_pkgs"
   ]
  },
  {
   "cell_type": "code",
   "execution_count": 856,
   "metadata": {},
   "outputs": [
    {
     "data": {
      "text/plain": [
       "877.0"
      ]
     },
     "execution_count": 856,
     "metadata": {},
     "output_type": "execute_result"
    }
   ],
   "source": [
    "total_cat_df_nomtl_pkgs"
   ]
  },
  {
   "cell_type": "code",
   "execution_count": 857,
   "metadata": {},
   "outputs": [],
   "source": [
    "cat_groups_no_others['total-pkgs'] = cat_groups_no_others['No direct dependency'] + cat_groups_no_others['Direct dependency']\n",
    "cat_groups_no_others.to_csv('categorys')"
   ]
  },
  {
   "cell_type": "code",
   "execution_count": 858,
   "metadata": {},
   "outputs": [
    {
     "data": {
      "text/plain": [
       "mtl-direct\n",
       "No direct dependency     877.000000\n",
       "Direct dependency        241.000000\n",
       "mtl-cat-pct             2736.507478\n",
       "mtl-total-pct            100.000000\n",
       "total-pkgs              1118.000000\n",
       "dtype: float64"
      ]
     },
     "execution_count": 858,
     "metadata": {},
     "output_type": "execute_result"
    }
   ],
   "source": [
    "cat_groups_no_others.sum()"
   ]
  },
  {
   "cell_type": "code",
   "execution_count": 859,
   "metadata": {},
   "outputs": [
    {
     "name": "stdout",
     "output_type": "stream",
     "text": [
      "\\begin{tabular}{lrr}\n",
      "\\toprule\n",
      "mtl-direct &  total-pkgs &  pkg-pct-of-total \\\\\n",
      "category    &             &                   \\\\\n",
      "\\midrule\n",
      "data        &       155.0 &               4.3 \\\\\n",
      "web         &        93.0 &               2.6 \\\\\n",
      "control     &        78.0 &               2.2 \\\\\n",
      "text        &        77.0 &               2.1 \\\\\n",
      "system      &        49.0 &               1.4 \\\\\n",
      "testing     &        41.0 &               1.1 \\\\\n",
      "development &        37.0 &               1.0 \\\\\n",
      "network     &        37.0 &               1.0 \\\\\n",
      "yesod       &        36.0 &               1.0 \\\\\n",
      "graphics    &        34.0 &               0.9 \\\\\n",
      "\\bottomrule\n",
      "\\end{tabular}\n",
      "\n"
     ]
    }
   ],
   "source": [
    "total_pkgs = 3612\n",
    "cat_groups_no_others['pkg-pct-of-total'] = np.round((cat_groups_no_others['total-pkgs'] / total_pkgs) *100, 1)\n",
    "print(cat_groups_no_others.sort_values(by=['pkg-pct-of-total', 'total-pkgs'], ascending=False)[0:10][['total-pkgs', 'pkg-pct-of-total']].to_latex())"
   ]
  },
  {
   "cell_type": "code",
   "execution_count": 860,
   "metadata": {},
   "outputs": [
    {
     "data": {
      "image/png": "[encoded data removed]",
      "text/plain": [
       "<Figure size 432x288 with 1 Axes>"
      ]
     },
     "metadata": {
      "needs_background": "light"
     },
     "output_type": "display_data"
    }
   ],
   "source": [
    "# to do: utililizar el top 10 de las categorias\n",
    "\n",
    "import matplotlib.ticker as mtick\n",
    "\n",
    "cat_groups_no_others = cat_groups_no_others.sort_values(by=\"mtl-cat-pct\")\n",
    "cat_groups_no_others['nomtl-cat-pct'] = 100 - cat_groups_no_others['mtl-cat-pct']\n",
    "cat_groups_no_others[cat_groups_no_others['mtl-cat-pct'] > 0][['mtl-cat-pct', 'nomtl-cat-pct']].loc[['language', 'data', 'development', 'web']].plot(kind='barh', stacked=True, legend=True).set_ylabel(' ')\n",
    "\n",
    "L = plt.legend(fontsize=12)\n",
    "L.get_texts()[0].set_text('mtl packages')\n",
    "L.get_texts()[1].set_text('no-mtl packages')\n",
    "\n",
    "plt.savefig(f\"{path_figure}/category_mtl_{lts_version}.png\", bbox_inches='tight')"
   ]
  },
  {
   "cell_type": "code",
   "execution_count": 861,
   "metadata": {},
   "outputs": [
    {
     "data": {
      "text/plain": [
       "124"
      ]
     },
     "execution_count": 861,
     "metadata": {},
     "output_type": "execute_result"
    }
   ],
   "source": [
    "len(cat_groups_no_others)"
   ]
  },
  {
   "cell_type": "code",
   "execution_count": 862,
   "metadata": {},
   "outputs": [
    {
     "data": {
      "text/plain": [
       "mtl-direct\n",
       "No direct dependency    13.000000\n",
       "Direct dependency        8.000000\n",
       "mtl-cat-pct             38.095238\n",
       "mtl-total-pct            3.319502\n",
       "total-pkgs              21.000000\n",
       "pkg-pct-of-total         0.600000\n",
       "nomtl-cat-pct           61.904762\n",
       "Name: language, dtype: float64"
      ]
     },
     "execution_count": 862,
     "metadata": {},
     "output_type": "execute_result"
    }
   ],
   "source": [
    "cat_groups_no_others.loc[\"language\"]"
   ]
  },
  {
   "cell_type": "code",
   "execution_count": 863,
   "metadata": {},
   "outputs": [
    {
     "data": {
      "text/html": [
       "<div>\n",
       "<style scoped>\n",
       "    .dataframe tbody tr th:only-of-type {\n",
       "        vertical-align: middle;\n",
       "    }\n",
       "\n",
       "    .dataframe tbody tr th {\n",
       "        vertical-align: top;\n",
       "    }\n",
       "\n",
       "    .dataframe thead th {\n",
       "        text-align: right;\n",
       "    }\n",
       "</style>\n",
       "<table border=\"1\" class=\"dataframe\">\n",
       "  <thead>\n",
       "    <tr style=\"text-align: right;\">\n",
       "      <th>mtl-direct</th>\n",
       "      <th>No direct dependency</th>\n",
       "      <th>Direct dependency</th>\n",
       "      <th>mtl-cat-pct</th>\n",
       "      <th>mtl-total-pct</th>\n",
       "      <th>total-pkgs</th>\n",
       "      <th>pkg-pct-of-total</th>\n",
       "      <th>nomtl-cat-pct</th>\n",
       "    </tr>\n",
       "    <tr>\n",
       "      <th>category</th>\n",
       "      <th></th>\n",
       "      <th></th>\n",
       "      <th></th>\n",
       "      <th></th>\n",
       "      <th></th>\n",
       "      <th></th>\n",
       "      <th></th>\n",
       "    </tr>\n",
       "  </thead>\n",
       "  <tbody>\n",
       "    <tr>\n",
       "      <th>benchmarking</th>\n",
       "      <td>0.0</td>\n",
       "      <td>1.0</td>\n",
       "      <td>100.000000</td>\n",
       "      <td>0.414938</td>\n",
       "      <td>1.0</td>\n",
       "      <td>0.0</td>\n",
       "      <td>0.000000</td>\n",
       "    </tr>\n",
       "    <tr>\n",
       "      <th>adjunctions</th>\n",
       "      <td>0.0</td>\n",
       "      <td>1.0</td>\n",
       "      <td>100.000000</td>\n",
       "      <td>0.414938</td>\n",
       "      <td>1.0</td>\n",
       "      <td>0.0</td>\n",
       "      <td>0.000000</td>\n",
       "    </tr>\n",
       "    <tr>\n",
       "      <th>interfaces</th>\n",
       "      <td>0.0</td>\n",
       "      <td>1.0</td>\n",
       "      <td>100.000000</td>\n",
       "      <td>0.414938</td>\n",
       "      <td>1.0</td>\n",
       "      <td>0.0</td>\n",
       "      <td>0.000000</td>\n",
       "    </tr>\n",
       "    <tr>\n",
       "      <th>education</th>\n",
       "      <td>0.0</td>\n",
       "      <td>1.0</td>\n",
       "      <td>100.000000</td>\n",
       "      <td>0.414938</td>\n",
       "      <td>1.0</td>\n",
       "      <td>0.0</td>\n",
       "      <td>0.000000</td>\n",
       "    </tr>\n",
       "    <tr>\n",
       "      <th>aws</th>\n",
       "      <td>0.0</td>\n",
       "      <td>1.0</td>\n",
       "      <td>100.000000</td>\n",
       "      <td>0.414938</td>\n",
       "      <td>1.0</td>\n",
       "      <td>0.0</td>\n",
       "      <td>0.000000</td>\n",
       "    </tr>\n",
       "    <tr>\n",
       "      <th>image</th>\n",
       "      <td>0.0</td>\n",
       "      <td>1.0</td>\n",
       "      <td>100.000000</td>\n",
       "      <td>0.414938</td>\n",
       "      <td>1.0</td>\n",
       "      <td>0.0</td>\n",
       "      <td>0.000000</td>\n",
       "    </tr>\n",
       "    <tr>\n",
       "      <th>number theory</th>\n",
       "      <td>0.0</td>\n",
       "      <td>1.0</td>\n",
       "      <td>100.000000</td>\n",
       "      <td>0.414938</td>\n",
       "      <td>1.0</td>\n",
       "      <td>0.0</td>\n",
       "      <td>0.000000</td>\n",
       "    </tr>\n",
       "    <tr>\n",
       "      <th>performance</th>\n",
       "      <td>0.0</td>\n",
       "      <td>1.0</td>\n",
       "      <td>100.000000</td>\n",
       "      <td>0.414938</td>\n",
       "      <td>1.0</td>\n",
       "      <td>0.0</td>\n",
       "      <td>0.000000</td>\n",
       "    </tr>\n",
       "    <tr>\n",
       "      <th>happstack</th>\n",
       "      <td>0.0</td>\n",
       "      <td>1.0</td>\n",
       "      <td>100.000000</td>\n",
       "      <td>0.414938</td>\n",
       "      <td>1.0</td>\n",
       "      <td>0.0</td>\n",
       "      <td>0.000000</td>\n",
       "    </tr>\n",
       "    <tr>\n",
       "      <th>cloud</th>\n",
       "      <td>0.0</td>\n",
       "      <td>1.0</td>\n",
       "      <td>100.000000</td>\n",
       "      <td>0.414938</td>\n",
       "      <td>1.0</td>\n",
       "      <td>0.0</td>\n",
       "      <td>0.000000</td>\n",
       "    </tr>\n",
       "    <tr>\n",
       "      <th>browser</th>\n",
       "      <td>0.0</td>\n",
       "      <td>1.0</td>\n",
       "      <td>100.000000</td>\n",
       "      <td>0.414938</td>\n",
       "      <td>1.0</td>\n",
       "      <td>0.0</td>\n",
       "      <td>0.000000</td>\n",
       "    </tr>\n",
       "    <tr>\n",
       "      <th>finance</th>\n",
       "      <td>0.0</td>\n",
       "      <td>2.0</td>\n",
       "      <td>100.000000</td>\n",
       "      <td>0.829876</td>\n",
       "      <td>2.0</td>\n",
       "      <td>0.1</td>\n",
       "      <td>0.000000</td>\n",
       "    </tr>\n",
       "    <tr>\n",
       "      <th>serialization</th>\n",
       "      <td>0.0</td>\n",
       "      <td>2.0</td>\n",
       "      <td>100.000000</td>\n",
       "      <td>0.829876</td>\n",
       "      <td>2.0</td>\n",
       "      <td>0.1</td>\n",
       "      <td>0.000000</td>\n",
       "    </tr>\n",
       "    <tr>\n",
       "      <th>functors</th>\n",
       "      <td>1.0</td>\n",
       "      <td>1.0</td>\n",
       "      <td>50.000000</td>\n",
       "      <td>0.414938</td>\n",
       "      <td>2.0</td>\n",
       "      <td>0.1</td>\n",
       "      <td>50.000000</td>\n",
       "    </tr>\n",
       "    <tr>\n",
       "      <th>dependent types</th>\n",
       "      <td>1.0</td>\n",
       "      <td>1.0</td>\n",
       "      <td>50.000000</td>\n",
       "      <td>0.414938</td>\n",
       "      <td>2.0</td>\n",
       "      <td>0.1</td>\n",
       "      <td>50.000000</td>\n",
       "    </tr>\n",
       "    <tr>\n",
       "      <th>csv</th>\n",
       "      <td>1.0</td>\n",
       "      <td>1.0</td>\n",
       "      <td>50.000000</td>\n",
       "      <td>0.414938</td>\n",
       "      <td>2.0</td>\n",
       "      <td>0.1</td>\n",
       "      <td>50.000000</td>\n",
       "    </tr>\n",
       "    <tr>\n",
       "      <th>frp</th>\n",
       "      <td>1.0</td>\n",
       "      <td>1.0</td>\n",
       "      <td>50.000000</td>\n",
       "      <td>0.414938</td>\n",
       "      <td>2.0</td>\n",
       "      <td>0.1</td>\n",
       "      <td>50.000000</td>\n",
       "    </tr>\n",
       "    <tr>\n",
       "      <th>unclassified</th>\n",
       "      <td>1.0</td>\n",
       "      <td>1.0</td>\n",
       "      <td>50.000000</td>\n",
       "      <td>0.414938</td>\n",
       "      <td>2.0</td>\n",
       "      <td>0.1</td>\n",
       "      <td>50.000000</td>\n",
       "    </tr>\n",
       "    <tr>\n",
       "      <th>distributed computing</th>\n",
       "      <td>1.0</td>\n",
       "      <td>1.0</td>\n",
       "      <td>50.000000</td>\n",
       "      <td>0.414938</td>\n",
       "      <td>2.0</td>\n",
       "      <td>0.1</td>\n",
       "      <td>50.000000</td>\n",
       "    </tr>\n",
       "    <tr>\n",
       "      <th>lenses</th>\n",
       "      <td>0.0</td>\n",
       "      <td>3.0</td>\n",
       "      <td>100.000000</td>\n",
       "      <td>1.244813</td>\n",
       "      <td>3.0</td>\n",
       "      <td>0.1</td>\n",
       "      <td>0.000000</td>\n",
       "    </tr>\n",
       "    <tr>\n",
       "      <th>exceptions</th>\n",
       "      <td>2.0</td>\n",
       "      <td>1.0</td>\n",
       "      <td>33.333333</td>\n",
       "      <td>0.414938</td>\n",
       "      <td>3.0</td>\n",
       "      <td>0.1</td>\n",
       "      <td>66.666667</td>\n",
       "    </tr>\n",
       "    <tr>\n",
       "      <th>graphs</th>\n",
       "      <td>2.0</td>\n",
       "      <td>1.0</td>\n",
       "      <td>33.333333</td>\n",
       "      <td>0.414938</td>\n",
       "      <td>3.0</td>\n",
       "      <td>0.1</td>\n",
       "      <td>66.666667</td>\n",
       "    </tr>\n",
       "    <tr>\n",
       "      <th>pipes</th>\n",
       "      <td>2.0</td>\n",
       "      <td>1.0</td>\n",
       "      <td>33.333333</td>\n",
       "      <td>0.414938</td>\n",
       "      <td>3.0</td>\n",
       "      <td>0.1</td>\n",
       "      <td>66.666667</td>\n",
       "    </tr>\n",
       "    <tr>\n",
       "      <th>json</th>\n",
       "      <td>2.0</td>\n",
       "      <td>1.0</td>\n",
       "      <td>33.333333</td>\n",
       "      <td>0.414938</td>\n",
       "      <td>3.0</td>\n",
       "      <td>0.1</td>\n",
       "      <td>66.666667</td>\n",
       "    </tr>\n",
       "    <tr>\n",
       "      <th>monad</th>\n",
       "      <td>3.0</td>\n",
       "      <td>1.0</td>\n",
       "      <td>25.000000</td>\n",
       "      <td>0.414938</td>\n",
       "      <td>4.0</td>\n",
       "      <td>0.1</td>\n",
       "      <td>75.000000</td>\n",
       "    </tr>\n",
       "    <tr>\n",
       "      <th>distribution</th>\n",
       "      <td>3.0</td>\n",
       "      <td>2.0</td>\n",
       "      <td>40.000000</td>\n",
       "      <td>0.829876</td>\n",
       "      <td>5.0</td>\n",
       "      <td>0.1</td>\n",
       "      <td>60.000000</td>\n",
       "    </tr>\n",
       "    <tr>\n",
       "      <th>enumerator</th>\n",
       "      <td>4.0</td>\n",
       "      <td>1.0</td>\n",
       "      <td>20.000000</td>\n",
       "      <td>0.414938</td>\n",
       "      <td>5.0</td>\n",
       "      <td>0.1</td>\n",
       "      <td>80.000000</td>\n",
       "    </tr>\n",
       "    <tr>\n",
       "      <th>user interfaces</th>\n",
       "      <td>4.0</td>\n",
       "      <td>1.0</td>\n",
       "      <td>20.000000</td>\n",
       "      <td>0.414938</td>\n",
       "      <td>5.0</td>\n",
       "      <td>0.1</td>\n",
       "      <td>80.000000</td>\n",
       "    </tr>\n",
       "    <tr>\n",
       "      <th>compilers/interpreters</th>\n",
       "      <td>4.0</td>\n",
       "      <td>1.0</td>\n",
       "      <td>20.000000</td>\n",
       "      <td>0.414938</td>\n",
       "      <td>5.0</td>\n",
       "      <td>0.1</td>\n",
       "      <td>80.000000</td>\n",
       "    </tr>\n",
       "    <tr>\n",
       "      <th>snap</th>\n",
       "      <td>0.0</td>\n",
       "      <td>5.0</td>\n",
       "      <td>100.000000</td>\n",
       "      <td>2.074689</td>\n",
       "      <td>5.0</td>\n",
       "      <td>0.1</td>\n",
       "      <td>0.000000</td>\n",
       "    </tr>\n",
       "    <tr>\n",
       "      <th>console</th>\n",
       "      <td>3.0</td>\n",
       "      <td>2.0</td>\n",
       "      <td>40.000000</td>\n",
       "      <td>0.829876</td>\n",
       "      <td>5.0</td>\n",
       "      <td>0.1</td>\n",
       "      <td>60.000000</td>\n",
       "    </tr>\n",
       "    <tr>\n",
       "      <th>fay</th>\n",
       "      <td>4.0</td>\n",
       "      <td>2.0</td>\n",
       "      <td>33.333333</td>\n",
       "      <td>0.829876</td>\n",
       "      <td>6.0</td>\n",
       "      <td>0.2</td>\n",
       "      <td>66.666667</td>\n",
       "    </tr>\n",
       "    <tr>\n",
       "      <th>comonads</th>\n",
       "      <td>5.0</td>\n",
       "      <td>1.0</td>\n",
       "      <td>16.666667</td>\n",
       "      <td>0.414938</td>\n",
       "      <td>6.0</td>\n",
       "      <td>0.2</td>\n",
       "      <td>83.333333</td>\n",
       "    </tr>\n",
       "    <tr>\n",
       "      <th>parallelism</th>\n",
       "      <td>5.0</td>\n",
       "      <td>2.0</td>\n",
       "      <td>28.571429</td>\n",
       "      <td>0.829876</td>\n",
       "      <td>7.0</td>\n",
       "      <td>0.2</td>\n",
       "      <td>71.428571</td>\n",
       "    </tr>\n",
       "    <tr>\n",
       "      <th>generics</th>\n",
       "      <td>5.0</td>\n",
       "      <td>2.0</td>\n",
       "      <td>28.571429</td>\n",
       "      <td>0.829876</td>\n",
       "      <td>7.0</td>\n",
       "      <td>0.2</td>\n",
       "      <td>71.428571</td>\n",
       "    </tr>\n",
       "    <tr>\n",
       "      <th>prelude</th>\n",
       "      <td>6.0</td>\n",
       "      <td>2.0</td>\n",
       "      <td>25.000000</td>\n",
       "      <td>0.829876</td>\n",
       "      <td>8.0</td>\n",
       "      <td>0.2</td>\n",
       "      <td>75.000000</td>\n",
       "    </tr>\n",
       "    <tr>\n",
       "      <th>algorithms</th>\n",
       "      <td>7.0</td>\n",
       "      <td>1.0</td>\n",
       "      <td>12.500000</td>\n",
       "      <td>0.414938</td>\n",
       "      <td>8.0</td>\n",
       "      <td>0.2</td>\n",
       "      <td>87.500000</td>\n",
       "    </tr>\n",
       "    <tr>\n",
       "      <th>template haskell</th>\n",
       "      <td>7.0</td>\n",
       "      <td>2.0</td>\n",
       "      <td>22.222222</td>\n",
       "      <td>0.829876</td>\n",
       "      <td>9.0</td>\n",
       "      <td>0.2</td>\n",
       "      <td>77.777778</td>\n",
       "    </tr>\n",
       "    <tr>\n",
       "      <th>xml</th>\n",
       "      <td>9.0</td>\n",
       "      <td>3.0</td>\n",
       "      <td>25.000000</td>\n",
       "      <td>1.244813</td>\n",
       "      <td>12.0</td>\n",
       "      <td>0.3</td>\n",
       "      <td>75.000000</td>\n",
       "    </tr>\n",
       "    <tr>\n",
       "      <th>bioinformatics</th>\n",
       "      <td>9.0</td>\n",
       "      <td>4.0</td>\n",
       "      <td>30.769231</td>\n",
       "      <td>1.659751</td>\n",
       "      <td>13.0</td>\n",
       "      <td>0.4</td>\n",
       "      <td>69.230769</td>\n",
       "    </tr>\n",
       "    <tr>\n",
       "      <th>monads</th>\n",
       "      <td>9.0</td>\n",
       "      <td>6.0</td>\n",
       "      <td>40.000000</td>\n",
       "      <td>2.489627</td>\n",
       "      <td>15.0</td>\n",
       "      <td>0.4</td>\n",
       "      <td>60.000000</td>\n",
       "    </tr>\n",
       "    <tr>\n",
       "      <th>parsing</th>\n",
       "      <td>14.0</td>\n",
       "      <td>3.0</td>\n",
       "      <td>17.647059</td>\n",
       "      <td>1.244813</td>\n",
       "      <td>17.0</td>\n",
       "      <td>0.5</td>\n",
       "      <td>82.352941</td>\n",
       "    </tr>\n",
       "    <tr>\n",
       "      <th>codec</th>\n",
       "      <td>13.0</td>\n",
       "      <td>4.0</td>\n",
       "      <td>23.529412</td>\n",
       "      <td>1.659751</td>\n",
       "      <td>17.0</td>\n",
       "      <td>0.5</td>\n",
       "      <td>76.470588</td>\n",
       "    </tr>\n",
       "    <tr>\n",
       "      <th>conduit</th>\n",
       "      <td>13.0</td>\n",
       "      <td>5.0</td>\n",
       "      <td>27.777778</td>\n",
       "      <td>2.074689</td>\n",
       "      <td>18.0</td>\n",
       "      <td>0.5</td>\n",
       "      <td>72.222222</td>\n",
       "    </tr>\n",
       "    <tr>\n",
       "      <th>language</th>\n",
       "      <td>13.0</td>\n",
       "      <td>8.0</td>\n",
       "      <td>38.095238</td>\n",
       "      <td>3.319502</td>\n",
       "      <td>21.0</td>\n",
       "      <td>0.6</td>\n",
       "      <td>61.904762</td>\n",
       "    </tr>\n",
       "    <tr>\n",
       "      <th>cryptography</th>\n",
       "      <td>25.0</td>\n",
       "      <td>2.0</td>\n",
       "      <td>7.407407</td>\n",
       "      <td>0.829876</td>\n",
       "      <td>27.0</td>\n",
       "      <td>0.7</td>\n",
       "      <td>92.592593</td>\n",
       "    </tr>\n",
       "    <tr>\n",
       "      <th>database</th>\n",
       "      <td>25.0</td>\n",
       "      <td>3.0</td>\n",
       "      <td>10.714286</td>\n",
       "      <td>1.244813</td>\n",
       "      <td>28.0</td>\n",
       "      <td>0.8</td>\n",
       "      <td>89.285714</td>\n",
       "    </tr>\n",
       "    <tr>\n",
       "      <th>data structures</th>\n",
       "      <td>24.0</td>\n",
       "      <td>5.0</td>\n",
       "      <td>17.241379</td>\n",
       "      <td>2.074689</td>\n",
       "      <td>29.0</td>\n",
       "      <td>0.8</td>\n",
       "      <td>82.758621</td>\n",
       "    </tr>\n",
       "    <tr>\n",
       "      <th>math</th>\n",
       "      <td>28.0</td>\n",
       "      <td>1.0</td>\n",
       "      <td>3.448276</td>\n",
       "      <td>0.414938</td>\n",
       "      <td>29.0</td>\n",
       "      <td>0.8</td>\n",
       "      <td>96.551724</td>\n",
       "    </tr>\n",
       "    <tr>\n",
       "      <th>graphics</th>\n",
       "      <td>21.0</td>\n",
       "      <td>13.0</td>\n",
       "      <td>38.235294</td>\n",
       "      <td>5.394191</td>\n",
       "      <td>34.0</td>\n",
       "      <td>0.9</td>\n",
       "      <td>61.764706</td>\n",
       "    </tr>\n",
       "    <tr>\n",
       "      <th>yesod</th>\n",
       "      <td>33.0</td>\n",
       "      <td>3.0</td>\n",
       "      <td>8.333333</td>\n",
       "      <td>1.244813</td>\n",
       "      <td>36.0</td>\n",
       "      <td>1.0</td>\n",
       "      <td>91.666667</td>\n",
       "    </tr>\n",
       "    <tr>\n",
       "      <th>network</th>\n",
       "      <td>32.0</td>\n",
       "      <td>5.0</td>\n",
       "      <td>13.513514</td>\n",
       "      <td>2.074689</td>\n",
       "      <td>37.0</td>\n",
       "      <td>1.0</td>\n",
       "      <td>86.486486</td>\n",
       "    </tr>\n",
       "    <tr>\n",
       "      <th>development</th>\n",
       "      <td>24.0</td>\n",
       "      <td>13.0</td>\n",
       "      <td>35.135135</td>\n",
       "      <td>5.394191</td>\n",
       "      <td>37.0</td>\n",
       "      <td>1.0</td>\n",
       "      <td>64.864865</td>\n",
       "    </tr>\n",
       "    <tr>\n",
       "      <th>testing</th>\n",
       "      <td>31.0</td>\n",
       "      <td>10.0</td>\n",
       "      <td>24.390244</td>\n",
       "      <td>4.149378</td>\n",
       "      <td>41.0</td>\n",
       "      <td>1.1</td>\n",
       "      <td>75.609756</td>\n",
       "    </tr>\n",
       "    <tr>\n",
       "      <th>system</th>\n",
       "      <td>43.0</td>\n",
       "      <td>6.0</td>\n",
       "      <td>12.244898</td>\n",
       "      <td>2.489627</td>\n",
       "      <td>49.0</td>\n",
       "      <td>1.4</td>\n",
       "      <td>87.755102</td>\n",
       "    </tr>\n",
       "    <tr>\n",
       "      <th>text</th>\n",
       "      <td>59.0</td>\n",
       "      <td>18.0</td>\n",
       "      <td>23.376623</td>\n",
       "      <td>7.468880</td>\n",
       "      <td>77.0</td>\n",
       "      <td>2.1</td>\n",
       "      <td>76.623377</td>\n",
       "    </tr>\n",
       "    <tr>\n",
       "      <th>control</th>\n",
       "      <td>57.0</td>\n",
       "      <td>21.0</td>\n",
       "      <td>26.923077</td>\n",
       "      <td>8.713693</td>\n",
       "      <td>78.0</td>\n",
       "      <td>2.2</td>\n",
       "      <td>73.076923</td>\n",
       "    </tr>\n",
       "    <tr>\n",
       "      <th>web</th>\n",
       "      <td>65.0</td>\n",
       "      <td>28.0</td>\n",
       "      <td>30.107527</td>\n",
       "      <td>11.618257</td>\n",
       "      <td>93.0</td>\n",
       "      <td>2.6</td>\n",
       "      <td>69.892473</td>\n",
       "    </tr>\n",
       "    <tr>\n",
       "      <th>data</th>\n",
       "      <td>128.0</td>\n",
       "      <td>27.0</td>\n",
       "      <td>17.419355</td>\n",
       "      <td>11.203320</td>\n",
       "      <td>155.0</td>\n",
       "      <td>4.3</td>\n",
       "      <td>82.580645</td>\n",
       "    </tr>\n",
       "  </tbody>\n",
       "</table>\n",
       "</div>"
      ],
      "text/plain": [
       "mtl-direct              No direct dependency  Direct dependency  mtl-cat-pct  \\\n",
       "category                                                                       \n",
       "benchmarking                             0.0                1.0   100.000000   \n",
       "adjunctions                              0.0                1.0   100.000000   \n",
       "interfaces                               0.0                1.0   100.000000   \n",
       "education                                0.0                1.0   100.000000   \n",
       "aws                                      0.0                1.0   100.000000   \n",
       "image                                    0.0                1.0   100.000000   \n",
       "number theory                            0.0                1.0   100.000000   \n",
       "performance                              0.0                1.0   100.000000   \n",
       "happstack                                0.0                1.0   100.000000   \n",
       "cloud                                    0.0                1.0   100.000000   \n",
       "browser                                  0.0                1.0   100.000000   \n",
       "finance                                  0.0                2.0   100.000000   \n",
       "serialization                            0.0                2.0   100.000000   \n",
       "functors                                 1.0                1.0    50.000000   \n",
       "dependent types                          1.0                1.0    50.000000   \n",
       "csv                                      1.0                1.0    50.000000   \n",
       "frp                                      1.0                1.0    50.000000   \n",
       "unclassified                             1.0                1.0    50.000000   \n",
       "distributed computing                    1.0                1.0    50.000000   \n",
       "lenses                                   0.0                3.0   100.000000   \n",
       "exceptions                               2.0                1.0    33.333333   \n",
       "graphs                                   2.0                1.0    33.333333   \n",
       "pipes                                    2.0                1.0    33.333333   \n",
       "json                                     2.0                1.0    33.333333   \n",
       "monad                                    3.0                1.0    25.000000   \n",
       "distribution                             3.0                2.0    40.000000   \n",
       "enumerator                               4.0                1.0    20.000000   \n",
       "user interfaces                          4.0                1.0    20.000000   \n",
       "compilers/interpreters                   4.0                1.0    20.000000   \n",
       "snap                                     0.0                5.0   100.000000   \n",
       "console                                  3.0                2.0    40.000000   \n",
       "fay                                      4.0                2.0    33.333333   \n",
       "comonads                                 5.0                1.0    16.666667   \n",
       "parallelism                              5.0                2.0    28.571429   \n",
       "generics                                 5.0                2.0    28.571429   \n",
       "prelude                                  6.0                2.0    25.000000   \n",
       "algorithms                               7.0                1.0    12.500000   \n",
       "template haskell                         7.0                2.0    22.222222   \n",
       "xml                                      9.0                3.0    25.000000   \n",
       "bioinformatics                           9.0                4.0    30.769231   \n",
       "monads                                   9.0                6.0    40.000000   \n",
       "parsing                                 14.0                3.0    17.647059   \n",
       "codec                                   13.0                4.0    23.529412   \n",
       "conduit                                 13.0                5.0    27.777778   \n",
       "language                                13.0                8.0    38.095238   \n",
       "cryptography                            25.0                2.0     7.407407   \n",
       "database                                25.0                3.0    10.714286   \n",
       "data structures                         24.0                5.0    17.241379   \n",
       "math                                    28.0                1.0     3.448276   \n",
       "graphics                                21.0               13.0    38.235294   \n",
       "yesod                                   33.0                3.0     8.333333   \n",
       "network                                 32.0                5.0    13.513514   \n",
       "development                             24.0               13.0    35.135135   \n",
       "testing                                 31.0               10.0    24.390244   \n",
       "system                                  43.0                6.0    12.244898   \n",
       "text                                    59.0               18.0    23.376623   \n",
       "control                                 57.0               21.0    26.923077   \n",
       "web                                     65.0               28.0    30.107527   \n",
       "data                                   128.0               27.0    17.419355   \n",
       "\n",
       "mtl-direct              mtl-total-pct  total-pkgs  pkg-pct-of-total  \\\n",
       "category                                                              \n",
       "benchmarking                 0.414938         1.0               0.0   \n",
       "adjunctions                  0.414938         1.0               0.0   \n",
       "interfaces                   0.414938         1.0               0.0   \n",
       "education                    0.414938         1.0               0.0   \n",
       "aws                          0.414938         1.0               0.0   \n",
       "image                        0.414938         1.0               0.0   \n",
       "number theory                0.414938         1.0               0.0   \n",
       "performance                  0.414938         1.0               0.0   \n",
       "happstack                    0.414938         1.0               0.0   \n",
       "cloud                        0.414938         1.0               0.0   \n",
       "browser                      0.414938         1.0               0.0   \n",
       "finance                      0.829876         2.0               0.1   \n",
       "serialization                0.829876         2.0               0.1   \n",
       "functors                     0.414938         2.0               0.1   \n",
       "dependent types              0.414938         2.0               0.1   \n",
       "csv                          0.414938         2.0               0.1   \n",
       "frp                          0.414938         2.0               0.1   \n",
       "unclassified                 0.414938         2.0               0.1   \n",
       "distributed computing        0.414938         2.0               0.1   \n",
       "lenses                       1.244813         3.0               0.1   \n",
       "exceptions                   0.414938         3.0               0.1   \n",
       "graphs                       0.414938         3.0               0.1   \n",
       "pipes                        0.414938         3.0               0.1   \n",
       "json                         0.414938         3.0               0.1   \n",
       "monad                        0.414938         4.0               0.1   \n",
       "distribution                 0.829876         5.0               0.1   \n",
       "enumerator                   0.414938         5.0               0.1   \n",
       "user interfaces              0.414938         5.0               0.1   \n",
       "compilers/interpreters       0.414938         5.0               0.1   \n",
       "snap                         2.074689         5.0               0.1   \n",
       "console                      0.829876         5.0               0.1   \n",
       "fay                          0.829876         6.0               0.2   \n",
       "comonads                     0.414938         6.0               0.2   \n",
       "parallelism                  0.829876         7.0               0.2   \n",
       "generics                     0.829876         7.0               0.2   \n",
       "prelude                      0.829876         8.0               0.2   \n",
       "algorithms                   0.414938         8.0               0.2   \n",
       "template haskell             0.829876         9.0               0.2   \n",
       "xml                          1.244813        12.0               0.3   \n",
       "bioinformatics               1.659751        13.0               0.4   \n",
       "monads                       2.489627        15.0               0.4   \n",
       "parsing                      1.244813        17.0               0.5   \n",
       "codec                        1.659751        17.0               0.5   \n",
       "conduit                      2.074689        18.0               0.5   \n",
       "language                     3.319502        21.0               0.6   \n",
       "cryptography                 0.829876        27.0               0.7   \n",
       "database                     1.244813        28.0               0.8   \n",
       "data structures              2.074689        29.0               0.8   \n",
       "math                         0.414938        29.0               0.8   \n",
       "graphics                     5.394191        34.0               0.9   \n",
       "yesod                        1.244813        36.0               1.0   \n",
       "network                      2.074689        37.0               1.0   \n",
       "development                  5.394191        37.0               1.0   \n",
       "testing                      4.149378        41.0               1.1   \n",
       "system                       2.489627        49.0               1.4   \n",
       "text                         7.468880        77.0               2.1   \n",
       "control                      8.713693        78.0               2.2   \n",
       "web                         11.618257        93.0               2.6   \n",
       "data                        11.203320       155.0               4.3   \n",
       "\n",
       "mtl-direct              nomtl-cat-pct  \n",
       "category                               \n",
       "benchmarking                 0.000000  \n",
       "adjunctions                  0.000000  \n",
       "interfaces                   0.000000  \n",
       "education                    0.000000  \n",
       "aws                          0.000000  \n",
       "image                        0.000000  \n",
       "number theory                0.000000  \n",
       "performance                  0.000000  \n",
       "happstack                    0.000000  \n",
       "cloud                        0.000000  \n",
       "browser                      0.000000  \n",
       "finance                      0.000000  \n",
       "serialization                0.000000  \n",
       "functors                    50.000000  \n",
       "dependent types             50.000000  \n",
       "csv                         50.000000  \n",
       "frp                         50.000000  \n",
       "unclassified                50.000000  \n",
       "distributed computing       50.000000  \n",
       "lenses                       0.000000  \n",
       "exceptions                  66.666667  \n",
       "graphs                      66.666667  \n",
       "pipes                       66.666667  \n",
       "json                        66.666667  \n",
       "monad                       75.000000  \n",
       "distribution                60.000000  \n",
       "enumerator                  80.000000  \n",
       "user interfaces             80.000000  \n",
       "compilers/interpreters      80.000000  \n",
       "snap                         0.000000  \n",
       "console                     60.000000  \n",
       "fay                         66.666667  \n",
       "comonads                    83.333333  \n",
       "parallelism                 71.428571  \n",
       "generics                    71.428571  \n",
       "prelude                     75.000000  \n",
       "algorithms                  87.500000  \n",
       "template haskell            77.777778  \n",
       "xml                         75.000000  \n",
       "bioinformatics              69.230769  \n",
       "monads                      60.000000  \n",
       "parsing                     82.352941  \n",
       "codec                       76.470588  \n",
       "conduit                     72.222222  \n",
       "language                    61.904762  \n",
       "cryptography                92.592593  \n",
       "database                    89.285714  \n",
       "data structures             82.758621  \n",
       "math                        96.551724  \n",
       "graphics                    61.764706  \n",
       "yesod                       91.666667  \n",
       "network                     86.486486  \n",
       "development                 64.864865  \n",
       "testing                     75.609756  \n",
       "system                      87.755102  \n",
       "text                        76.623377  \n",
       "control                     73.076923  \n",
       "web                         69.892473  \n",
       "data                        82.580645  "
      ]
     },
     "execution_count": 863,
     "metadata": {},
     "output_type": "execute_result"
    }
   ],
   "source": [
    "cat_groups_no_others['total-pkgs'] = cat_groups_no_others['No direct dependency'] + cat_groups_no_others['Direct dependency']\n",
    "cat_groups_no_others[cat_groups_no_others['mtl-cat-pct'] > 0].sort_values(by=\"total-pkgs\")"
   ]
  },
  {
   "cell_type": "code",
   "execution_count": 864,
   "metadata": {},
   "outputs": [
    {
     "data": {
      "text/html": [
       "<div>\n",
       "<style scoped>\n",
       "    .dataframe tbody tr th:only-of-type {\n",
       "        vertical-align: middle;\n",
       "    }\n",
       "\n",
       "    .dataframe tbody tr th {\n",
       "        vertical-align: top;\n",
       "    }\n",
       "\n",
       "    .dataframe thead th {\n",
       "        text-align: right;\n",
       "    }\n",
       "</style>\n",
       "<table border=\"1\" class=\"dataframe\">\n",
       "  <thead>\n",
       "    <tr style=\"text-align: right;\">\n",
       "      <th>mtl-direct</th>\n",
       "      <th>No direct dependency</th>\n",
       "      <th>Direct dependency</th>\n",
       "      <th>mtl-cat-pct</th>\n",
       "      <th>mtl-total-pct</th>\n",
       "      <th>total-pkgs</th>\n",
       "      <th>pkg-pct-of-total</th>\n",
       "      <th>nomtl-cat-pct</th>\n",
       "    </tr>\n",
       "    <tr>\n",
       "      <th>category</th>\n",
       "      <th></th>\n",
       "      <th></th>\n",
       "      <th></th>\n",
       "      <th></th>\n",
       "      <th></th>\n",
       "      <th></th>\n",
       "      <th></th>\n",
       "    </tr>\n",
       "  </thead>\n",
       "  <tbody>\n",
       "    <tr>\n",
       "      <th>data</th>\n",
       "      <td>128.0</td>\n",
       "      <td>27.0</td>\n",
       "      <td>17.419355</td>\n",
       "      <td>11.203320</td>\n",
       "      <td>155.0</td>\n",
       "      <td>4.3</td>\n",
       "      <td>82.580645</td>\n",
       "    </tr>\n",
       "    <tr>\n",
       "      <th>web</th>\n",
       "      <td>65.0</td>\n",
       "      <td>28.0</td>\n",
       "      <td>30.107527</td>\n",
       "      <td>11.618257</td>\n",
       "      <td>93.0</td>\n",
       "      <td>2.6</td>\n",
       "      <td>69.892473</td>\n",
       "    </tr>\n",
       "    <tr>\n",
       "      <th>control</th>\n",
       "      <td>57.0</td>\n",
       "      <td>21.0</td>\n",
       "      <td>26.923077</td>\n",
       "      <td>8.713693</td>\n",
       "      <td>78.0</td>\n",
       "      <td>2.2</td>\n",
       "      <td>73.076923</td>\n",
       "    </tr>\n",
       "    <tr>\n",
       "      <th>text</th>\n",
       "      <td>59.0</td>\n",
       "      <td>18.0</td>\n",
       "      <td>23.376623</td>\n",
       "      <td>7.468880</td>\n",
       "      <td>77.0</td>\n",
       "      <td>2.1</td>\n",
       "      <td>76.623377</td>\n",
       "    </tr>\n",
       "    <tr>\n",
       "      <th>system</th>\n",
       "      <td>43.0</td>\n",
       "      <td>6.0</td>\n",
       "      <td>12.244898</td>\n",
       "      <td>2.489627</td>\n",
       "      <td>49.0</td>\n",
       "      <td>1.4</td>\n",
       "      <td>87.755102</td>\n",
       "    </tr>\n",
       "    <tr>\n",
       "      <th>testing</th>\n",
       "      <td>31.0</td>\n",
       "      <td>10.0</td>\n",
       "      <td>24.390244</td>\n",
       "      <td>4.149378</td>\n",
       "      <td>41.0</td>\n",
       "      <td>1.1</td>\n",
       "      <td>75.609756</td>\n",
       "    </tr>\n",
       "    <tr>\n",
       "      <th>development</th>\n",
       "      <td>24.0</td>\n",
       "      <td>13.0</td>\n",
       "      <td>35.135135</td>\n",
       "      <td>5.394191</td>\n",
       "      <td>37.0</td>\n",
       "      <td>1.0</td>\n",
       "      <td>64.864865</td>\n",
       "    </tr>\n",
       "    <tr>\n",
       "      <th>network</th>\n",
       "      <td>32.0</td>\n",
       "      <td>5.0</td>\n",
       "      <td>13.513514</td>\n",
       "      <td>2.074689</td>\n",
       "      <td>37.0</td>\n",
       "      <td>1.0</td>\n",
       "      <td>86.486486</td>\n",
       "    </tr>\n",
       "    <tr>\n",
       "      <th>yesod</th>\n",
       "      <td>33.0</td>\n",
       "      <td>3.0</td>\n",
       "      <td>8.333333</td>\n",
       "      <td>1.244813</td>\n",
       "      <td>36.0</td>\n",
       "      <td>1.0</td>\n",
       "      <td>91.666667</td>\n",
       "    </tr>\n",
       "    <tr>\n",
       "      <th>graphics</th>\n",
       "      <td>21.0</td>\n",
       "      <td>13.0</td>\n",
       "      <td>38.235294</td>\n",
       "      <td>5.394191</td>\n",
       "      <td>34.0</td>\n",
       "      <td>0.9</td>\n",
       "      <td>61.764706</td>\n",
       "    </tr>\n",
       "    <tr>\n",
       "      <th>data structures</th>\n",
       "      <td>24.0</td>\n",
       "      <td>5.0</td>\n",
       "      <td>17.241379</td>\n",
       "      <td>2.074689</td>\n",
       "      <td>29.0</td>\n",
       "      <td>0.8</td>\n",
       "      <td>82.758621</td>\n",
       "    </tr>\n",
       "    <tr>\n",
       "      <th>math</th>\n",
       "      <td>28.0</td>\n",
       "      <td>1.0</td>\n",
       "      <td>3.448276</td>\n",
       "      <td>0.414938</td>\n",
       "      <td>29.0</td>\n",
       "      <td>0.8</td>\n",
       "      <td>96.551724</td>\n",
       "    </tr>\n",
       "    <tr>\n",
       "      <th>database</th>\n",
       "      <td>25.0</td>\n",
       "      <td>3.0</td>\n",
       "      <td>10.714286</td>\n",
       "      <td>1.244813</td>\n",
       "      <td>28.0</td>\n",
       "      <td>0.8</td>\n",
       "      <td>89.285714</td>\n",
       "    </tr>\n",
       "    <tr>\n",
       "      <th>cryptography</th>\n",
       "      <td>25.0</td>\n",
       "      <td>2.0</td>\n",
       "      <td>7.407407</td>\n",
       "      <td>0.829876</td>\n",
       "      <td>27.0</td>\n",
       "      <td>0.7</td>\n",
       "      <td>92.592593</td>\n",
       "    </tr>\n",
       "    <tr>\n",
       "      <th>language</th>\n",
       "      <td>13.0</td>\n",
       "      <td>8.0</td>\n",
       "      <td>38.095238</td>\n",
       "      <td>3.319502</td>\n",
       "      <td>21.0</td>\n",
       "      <td>0.6</td>\n",
       "      <td>61.904762</td>\n",
       "    </tr>\n",
       "    <tr>\n",
       "      <th>concurrency</th>\n",
       "      <td>20.0</td>\n",
       "      <td>0.0</td>\n",
       "      <td>0.000000</td>\n",
       "      <td>0.000000</td>\n",
       "      <td>20.0</td>\n",
       "      <td>0.6</td>\n",
       "      <td>100.000000</td>\n",
       "    </tr>\n",
       "    <tr>\n",
       "      <th>conduit</th>\n",
       "      <td>13.0</td>\n",
       "      <td>5.0</td>\n",
       "      <td>27.777778</td>\n",
       "      <td>2.074689</td>\n",
       "      <td>18.0</td>\n",
       "      <td>0.5</td>\n",
       "      <td>72.222222</td>\n",
       "    </tr>\n",
       "    <tr>\n",
       "      <th>codec</th>\n",
       "      <td>13.0</td>\n",
       "      <td>4.0</td>\n",
       "      <td>23.529412</td>\n",
       "      <td>1.659751</td>\n",
       "      <td>17.0</td>\n",
       "      <td>0.5</td>\n",
       "      <td>76.470588</td>\n",
       "    </tr>\n",
       "    <tr>\n",
       "      <th>parsing</th>\n",
       "      <td>14.0</td>\n",
       "      <td>3.0</td>\n",
       "      <td>17.647059</td>\n",
       "      <td>1.244813</td>\n",
       "      <td>17.0</td>\n",
       "      <td>0.5</td>\n",
       "      <td>82.352941</td>\n",
       "    </tr>\n",
       "    <tr>\n",
       "      <th>monads</th>\n",
       "      <td>9.0</td>\n",
       "      <td>6.0</td>\n",
       "      <td>40.000000</td>\n",
       "      <td>2.489627</td>\n",
       "      <td>15.0</td>\n",
       "      <td>0.4</td>\n",
       "      <td>60.000000</td>\n",
       "    </tr>\n",
       "  </tbody>\n",
       "</table>\n",
       "</div>"
      ],
      "text/plain": [
       "mtl-direct       No direct dependency  Direct dependency  mtl-cat-pct  \\\n",
       "category                                                                \n",
       "data                            128.0               27.0    17.419355   \n",
       "web                              65.0               28.0    30.107527   \n",
       "control                          57.0               21.0    26.923077   \n",
       "text                             59.0               18.0    23.376623   \n",
       "system                           43.0                6.0    12.244898   \n",
       "testing                          31.0               10.0    24.390244   \n",
       "development                      24.0               13.0    35.135135   \n",
       "network                          32.0                5.0    13.513514   \n",
       "yesod                            33.0                3.0     8.333333   \n",
       "graphics                         21.0               13.0    38.235294   \n",
       "data structures                  24.0                5.0    17.241379   \n",
       "math                             28.0                1.0     3.448276   \n",
       "database                         25.0                3.0    10.714286   \n",
       "cryptography                     25.0                2.0     7.407407   \n",
       "language                         13.0                8.0    38.095238   \n",
       "concurrency                      20.0                0.0     0.000000   \n",
       "conduit                          13.0                5.0    27.777778   \n",
       "codec                            13.0                4.0    23.529412   \n",
       "parsing                          14.0                3.0    17.647059   \n",
       "monads                            9.0                6.0    40.000000   \n",
       "\n",
       "mtl-direct       mtl-total-pct  total-pkgs  pkg-pct-of-total  nomtl-cat-pct  \n",
       "category                                                                     \n",
       "data                 11.203320       155.0               4.3      82.580645  \n",
       "web                  11.618257        93.0               2.6      69.892473  \n",
       "control               8.713693        78.0               2.2      73.076923  \n",
       "text                  7.468880        77.0               2.1      76.623377  \n",
       "system                2.489627        49.0               1.4      87.755102  \n",
       "testing               4.149378        41.0               1.1      75.609756  \n",
       "development           5.394191        37.0               1.0      64.864865  \n",
       "network               2.074689        37.0               1.0      86.486486  \n",
       "yesod                 1.244813        36.0               1.0      91.666667  \n",
       "graphics              5.394191        34.0               0.9      61.764706  \n",
       "data structures       2.074689        29.0               0.8      82.758621  \n",
       "math                  0.414938        29.0               0.8      96.551724  \n",
       "database              1.244813        28.0               0.8      89.285714  \n",
       "cryptography          0.829876        27.0               0.7      92.592593  \n",
       "language              3.319502        21.0               0.6      61.904762  \n",
       "concurrency           0.000000        20.0               0.6     100.000000  \n",
       "conduit               2.074689        18.0               0.5      72.222222  \n",
       "codec                 1.659751        17.0               0.5      76.470588  \n",
       "parsing               1.244813        17.0               0.5      82.352941  \n",
       "monads                2.489627        15.0               0.4      60.000000  "
      ]
     },
     "execution_count": 864,
     "metadata": {},
     "output_type": "execute_result"
    }
   ],
   "source": [
    "cat_groups_no_others.sort_values(by=['total-pkgs','mtl-cat-pct'], ascending=False)[0:20]"
   ]
  },
  {
   "cell_type": "code",
   "execution_count": 865,
   "metadata": {},
   "outputs": [
    {
     "name": "stderr",
     "output_type": "stream",
     "text": [
      "<ipython-input-865-4255ee901e7c>:5: MatplotlibDeprecationWarning: Adding an axes using the same arguments as a previous axes currently reuses the earlier instance.  In a future version, a new instance will always be created and returned.  Meanwhile, this warning can be suppressed, and the future behavior ensured, by passing a unique label to each axes instance.\n",
      "  ax1_cat = plt.axes()\n"
     ]
    },
    {
     "data": {
      "image/png": "[encoded data removed]",
      "text/plain": [
       "<Figure size 432x288 with 1 Axes>"
      ]
     },
     "metadata": {
      "needs_background": "light"
     },
     "output_type": "display_data"
    }
   ],
   "source": [
    "# distribucion de los paquetes\n",
    "# todo: \n",
    "\n",
    "cat_groups_no_others.sort_values(by='total-pkgs', ascending=False)['total-pkgs'].plot(kind='bar', legend=False, width=5)\n",
    "ax1_cat = plt.axes()\n",
    "x_axis_cat = ax1_cat.axes.get_xaxis()\n",
    "x_axis_cat.set_visible(False)\n",
    "\n",
    "plt.savefig(f\"{path_figure}/category_distribution_{lts_version}.png\", bbox_inches='tight')"
   ]
  },
  {
   "cell_type": "markdown",
   "metadata": {},
   "source": [
    "# By Stability"
   ]
  },
  {
   "cell_type": "code",
   "execution_count": 866,
   "metadata": {},
   "outputs": [],
   "source": [
    "def generateDataframeByStability(df):\n",
    "    \"\"\"Takes a dataframe where a package has 1+ stabilities, and generates a new \n",
    "    dataframe with unique package-stability combinations, hence reflecting\n",
    "    the multiplicity of stabilities by package\n",
    "    \"\"\"\n",
    "    \n",
    "    multicat_criteria = df['stability'].map(lambda x: len(x) > 1)    \n",
    "\n",
    "    catdf = df.copy()\n",
    "    for idx in catdf.index:\n",
    "        if(len(catdf.loc[idx]['stability']) == 1):\n",
    "            theCat = catdf.loc[idx]['stability'][0]\n",
    "            catdf.loc[idx, 'stability'] = theCat\n",
    "\n",
    "    additionalrows = []\n",
    "\n",
    "    for idx in catdf[multicat_criteria].index:\n",
    "        currentRow = copy.deepcopy(df.loc[idx])\n",
    "        for cat in currentRow['stability']:        \n",
    "            newRow = copy.deepcopy(currentRow)\n",
    "            newRow['stability'] = cat\n",
    "            additionalrows.append(newRow)\n",
    "\n",
    "    catdf = catdf.drop(catdf[multicat_criteria].index)\n",
    "    catdf = catdf.append(additionalrows)\n",
    "    catdf = catdf.sort_index()\n",
    "    catdf.columns = [\"stability\" if x == \"stability\" else x for x in catdf.columns.tolist()]\n",
    "    catdf['stability'] = catdf['stability'].apply(str)\n",
    "    \n",
    "    return catdf"
   ]
  },
  {
   "cell_type": "code",
   "execution_count": 867,
   "metadata": {},
   "outputs": [
    {
     "data": {
      "text/html": [
       "<div>\n",
       "<style scoped>\n",
       "    .dataframe tbody tr th:only-of-type {\n",
       "        vertical-align: middle;\n",
       "    }\n",
       "\n",
       "    .dataframe tbody tr th {\n",
       "        vertical-align: top;\n",
       "    }\n",
       "\n",
       "    .dataframe thead th {\n",
       "        text-align: right;\n",
       "    }\n",
       "</style>\n",
       "<table border=\"1\" class=\"dataframe\">\n",
       "  <thead>\n",
       "    <tr style=\"text-align: right;\">\n",
       "      <th></th>\n",
       "      <th>stability</th>\n",
       "      <th>category</th>\n",
       "      <th>mtl-direct</th>\n",
       "    </tr>\n",
       "    <tr>\n",
       "      <th>package</th>\n",
       "      <th></th>\n",
       "      <th></th>\n",
       "      <th></th>\n",
       "    </tr>\n",
       "  </thead>\n",
       "  <tbody>\n",
       "    <tr>\n",
       "      <th>AC-Vector</th>\n",
       "      <td>experimental</td>\n",
       "      <td>[numerical, math, data, graphics]</td>\n",
       "      <td>0</td>\n",
       "    </tr>\n",
       "    <tr>\n",
       "      <th>BlastHTTP</th>\n",
       "      <td></td>\n",
       "      <td>[bioinformatics]</td>\n",
       "      <td>1</td>\n",
       "    </tr>\n",
       "    <tr>\n",
       "      <th>BlogLiterately</th>\n",
       "      <td>experimental</td>\n",
       "      <td>[web]</td>\n",
       "      <td>1</td>\n",
       "    </tr>\n",
       "    <tr>\n",
       "      <th>BlogLiterately-diagrams</th>\n",
       "      <td></td>\n",
       "      <td>[web]</td>\n",
       "      <td>0</td>\n",
       "    </tr>\n",
       "    <tr>\n",
       "      <th>Boolean</th>\n",
       "      <td>experimental</td>\n",
       "      <td>[data]</td>\n",
       "      <td>0</td>\n",
       "    </tr>\n",
       "    <tr>\n",
       "      <th>...</th>\n",
       "      <td>...</td>\n",
       "      <td>...</td>\n",
       "      <td>...</td>\n",
       "    </tr>\n",
       "    <tr>\n",
       "      <th>zip-archive</th>\n",
       "      <td></td>\n",
       "      <td>[codec]</td>\n",
       "      <td>1</td>\n",
       "    </tr>\n",
       "    <tr>\n",
       "      <th>zlib</th>\n",
       "      <td></td>\n",
       "      <td>[codec]</td>\n",
       "      <td>0</td>\n",
       "    </tr>\n",
       "    <tr>\n",
       "      <th>zlib-bindings</th>\n",
       "      <td>experimental</td>\n",
       "      <td>[codec]</td>\n",
       "      <td>0</td>\n",
       "    </tr>\n",
       "    <tr>\n",
       "      <th>zlib-enum</th>\n",
       "      <td>experimental</td>\n",
       "      <td>[enumerator, compression, codec]</td>\n",
       "      <td>0</td>\n",
       "    </tr>\n",
       "    <tr>\n",
       "      <th>zlib-lens</th>\n",
       "      <td></td>\n",
       "      <td>[codec]</td>\n",
       "      <td>0</td>\n",
       "    </tr>\n",
       "  </tbody>\n",
       "</table>\n",
       "<p>815 rows × 3 columns</p>\n",
       "</div>"
      ],
      "text/plain": [
       "                            stability                           category  \\\n",
       "package                                                                    \n",
       "AC-Vector                experimental  [numerical, math, data, graphics]   \n",
       "BlastHTTP                                               [bioinformatics]   \n",
       "BlogLiterately           experimental                              [web]   \n",
       "BlogLiterately-diagrams                                            [web]   \n",
       "Boolean                  experimental                             [data]   \n",
       "...                               ...                                ...   \n",
       "zip-archive                                                      [codec]   \n",
       "zlib                                                             [codec]   \n",
       "zlib-bindings            experimental                            [codec]   \n",
       "zlib-enum                experimental   [enumerator, compression, codec]   \n",
       "zlib-lens                                                        [codec]   \n",
       "\n",
       "                         mtl-direct  \n",
       "package                              \n",
       "AC-Vector                         0  \n",
       "BlastHTTP                         1  \n",
       "BlogLiterately                    1  \n",
       "BlogLiterately-diagrams           0  \n",
       "Boolean                           0  \n",
       "...                             ...  \n",
       "zip-archive                       1  \n",
       "zlib                              0  \n",
       "zlib-bindings                     0  \n",
       "zlib-enum                         0  \n",
       "zlib-lens                         0  \n",
       "\n",
       "[815 rows x 3 columns]"
      ]
     },
     "execution_count": 867,
     "metadata": {},
     "output_type": "execute_result"
    }
   ],
   "source": [
    "stabsplit_df = generateDataframeByStability(cat_mtl_grouped)\n",
    "stabsplit_df"
   ]
  },
  {
   "cell_type": "code",
   "execution_count": 868,
   "metadata": {},
   "outputs": [
    {
     "data": {
      "text/plain": [
       "815"
      ]
     },
     "execution_count": 868,
     "metadata": {},
     "output_type": "execute_result"
    }
   ],
   "source": [
    "len(stabsplit_df)"
   ]
  },
  {
   "cell_type": "code",
   "execution_count": 869,
   "metadata": {},
   "outputs": [
    {
     "data": {
      "image/png": "[encoded data removed]",
      "text/plain": [
       "<Figure size 432x288 with 1 Axes>"
      ]
     },
     "metadata": {},
     "output_type": "display_data"
    }
   ],
   "source": [
    "stab_groups = stabsplit_df.groupby(['stability', 'mtl-direct'])['mtl-direct'].count().unstack().fillna(0).rename(columns={0 : 'No direct dependency', 1:'Direct dependency'})\n",
    "stab_groups['mtl-stab-pct'] = 100 * (stab_groups['Direct dependency']/(stab_groups['No direct dependency']+stab_groups['Direct dependency']))\n",
    "total_stab_df_mtl_pkgs = stab_groups['Direct dependency'].sum()\n",
    "\n",
    "stab_groups_threshold = 3\n",
    "stab_groups['mtl-total-pct'] = 100 * (stab_groups['Direct dependency']/total_stab_df_mtl_pkgs)\n",
    "\n",
    "totalStabs = len(stab_groups)\n",
    "stabsNoMtl = stab_groups[stab_groups['mtl-total-pct'] == 0]\n",
    "stabsMtl = stab_groups[stab_groups['mtl-total-pct'] > 0]\n",
    "\n",
    "stab_groups_no_others = stab_groups.copy(deep=True)\n",
    "stab_groups_no_others = stab_groups_no_others.rename(index={'': 'n/a'})\n",
    "\n",
    "stab_groups.index = map(lambda x: u\"{}\".format(x.Index) if x._4 >= stab_groups_threshold else u\"Others\", stab_groups.itertuples())\n",
    "stab_groups.index.name = 'stability'\n",
    "stab_groups = stab_groups.groupby(stab_groups.index).sum()\n",
    "stab_groups = stab_groups.sort_values(\"mtl-total-pct\")\n",
    "\n",
    "stab_pie_colors = ['tab:cyan', 'tab:pink', 'tab:red', 'tab:orange', 'tab:green', 'tab:grey']\n",
    "stab_groups['mtl-total-pct'].plot(kind='pie', colors=stab_pie_colors, labels = stab_groups.index.map(lambda x: \"%s (%s)\" % (x if x else \"n/a\",  \"%1.1f%%\" % stab_groups.loc[x]['mtl-total-pct']) if stab_groups.loc[x]['mtl-total-pct'] >= stab_groups_threshold else ''), legend=False).set_ylabel('')\n",
    "\n",
    "plt.savefig(f\"{path_figure}/stability_pie_{lts_version}.png\", bbox_inches='tight')"
   ]
  },
  {
   "cell_type": "code",
   "execution_count": 870,
   "metadata": {},
   "outputs": [
    {
     "data": {
      "text/plain": [
       "174.0"
      ]
     },
     "execution_count": 870,
     "metadata": {},
     "output_type": "execute_result"
    }
   ],
   "source": [
    "total_stab_df_mtl_pkgs"
   ]
  },
  {
   "cell_type": "code",
   "execution_count": 871,
   "metadata": {},
   "outputs": [
    {
     "data": {
      "text/plain": [
       "mtl-direct\n",
       "No direct dependency    641.000000\n",
       "Direct dependency       174.000000\n",
       "mtl-stab-pct            191.210215\n",
       "mtl-total-pct           100.000000\n",
       "dtype: float64"
      ]
     },
     "execution_count": 871,
     "metadata": {},
     "output_type": "execute_result"
    }
   ],
   "source": [
    "stab_groups.sum()"
   ]
  },
  {
   "cell_type": "code",
   "execution_count": 872,
   "metadata": {},
   "outputs": [
    {
     "data": {
      "image/png": "[encoded data removed]",
      "text/plain": [
       "<Figure size 432x288 with 1 Axes>"
      ]
     },
     "metadata": {
      "needs_background": "light"
     },
     "output_type": "display_data"
    }
   ],
   "source": [
    "stab_groups_no_others['total-pkgs'] = stab_groups_no_others['No direct dependency'] + stab_groups_no_others['Direct dependency']\n",
    "stab_groups_no_others = stab_groups_no_others.sort_values(by=\"mtl-stab-pct\")\n",
    "stab_groups_no_others['nomtl-stab-pct'] = 100 - stab_groups_no_others['mtl-stab-pct']\n",
    "\n",
    "stab_groups_no_others[['mtl-stab-pct', 'nomtl-stab-pct']].loc[['provisional', 'alpha', 'stable', 'experimental', 'n/a']].plot(kind='barh', stacked=True).set_ylabel(' ')\n",
    "\n",
    "Lstab = plt.legend(fontsize=12)\n",
    "Lstab.get_texts()[0].set_text('mtl packages')\n",
    "Lstab.get_texts()[1].set_text('no-mtl packages')\n",
    "\n",
    "plt.savefig(f\"{path_figure}/stability_mtl_{lts_version}.png\", bbox_inches='tight')"
   ]
  },
  {
   "cell_type": "code",
   "execution_count": 873,
   "metadata": {},
   "outputs": [
    {
     "data": {
      "text/plain": [
       "mtl-direct\n",
       "No direct dependency     641.000000\n",
       "Direct dependency        174.000000\n",
       "mtl-stab-pct             191.210215\n",
       "mtl-total-pct            100.000000\n",
       "total-pkgs               815.000000\n",
       "nomtl-stab-pct          1008.789785\n",
       "dtype: float64"
      ]
     },
     "execution_count": 873,
     "metadata": {},
     "output_type": "execute_result"
    }
   ],
   "source": [
    "stab_groups_no_others.sum()"
   ]
  },
  {
   "cell_type": "code",
   "execution_count": 874,
   "metadata": {},
   "outputs": [
    {
     "data": {
      "text/html": [
       "<div>\n",
       "<style scoped>\n",
       "    .dataframe tbody tr th:only-of-type {\n",
       "        vertical-align: middle;\n",
       "    }\n",
       "\n",
       "    .dataframe tbody tr th {\n",
       "        vertical-align: top;\n",
       "    }\n",
       "\n",
       "    .dataframe thead th {\n",
       "        text-align: right;\n",
       "    }\n",
       "</style>\n",
       "<table border=\"1\" class=\"dataframe\">\n",
       "  <thead>\n",
       "    <tr style=\"text-align: right;\">\n",
       "      <th>mtl-direct</th>\n",
       "      <th>No direct dependency</th>\n",
       "      <th>Direct dependency</th>\n",
       "      <th>mtl-stab-pct</th>\n",
       "      <th>mtl-total-pct</th>\n",
       "      <th>total-pkgs</th>\n",
       "      <th>nomtl-stab-pct</th>\n",
       "    </tr>\n",
       "    <tr>\n",
       "      <th>stability</th>\n",
       "      <th></th>\n",
       "      <th></th>\n",
       "      <th></th>\n",
       "      <th></th>\n",
       "      <th></th>\n",
       "      <th></th>\n",
       "    </tr>\n",
       "  </thead>\n",
       "  <tbody>\n",
       "    <tr>\n",
       "      <th>n/a</th>\n",
       "      <td>373.0</td>\n",
       "      <td>97.0</td>\n",
       "      <td>20.638298</td>\n",
       "      <td>55.747126</td>\n",
       "      <td>470.0</td>\n",
       "      <td>79.361702</td>\n",
       "    </tr>\n",
       "    <tr>\n",
       "      <th>experimental</th>\n",
       "      <td>122.0</td>\n",
       "      <td>39.0</td>\n",
       "      <td>24.223602</td>\n",
       "      <td>22.413793</td>\n",
       "      <td>161.0</td>\n",
       "      <td>75.776398</td>\n",
       "    </tr>\n",
       "    <tr>\n",
       "      <th>stable</th>\n",
       "      <td>70.0</td>\n",
       "      <td>19.0</td>\n",
       "      <td>21.348315</td>\n",
       "      <td>10.919540</td>\n",
       "      <td>89.0</td>\n",
       "      <td>78.651685</td>\n",
       "    </tr>\n",
       "    <tr>\n",
       "      <th>provisional</th>\n",
       "      <td>55.0</td>\n",
       "      <td>11.0</td>\n",
       "      <td>16.666667</td>\n",
       "      <td>6.321839</td>\n",
       "      <td>66.0</td>\n",
       "      <td>83.333333</td>\n",
       "    </tr>\n",
       "    <tr>\n",
       "      <th>beta</th>\n",
       "      <td>4.0</td>\n",
       "      <td>4.0</td>\n",
       "      <td>50.000000</td>\n",
       "      <td>2.298851</td>\n",
       "      <td>8.0</td>\n",
       "      <td>50.000000</td>\n",
       "    </tr>\n",
       "    <tr>\n",
       "      <th>alpha</th>\n",
       "      <td>6.0</td>\n",
       "      <td>2.0</td>\n",
       "      <td>25.000000</td>\n",
       "      <td>1.149425</td>\n",
       "      <td>8.0</td>\n",
       "      <td>75.000000</td>\n",
       "    </tr>\n",
       "    <tr>\n",
       "      <th>seems to work</th>\n",
       "      <td>4.0</td>\n",
       "      <td>2.0</td>\n",
       "      <td>33.333333</td>\n",
       "      <td>1.149425</td>\n",
       "      <td>6.0</td>\n",
       "      <td>66.666667</td>\n",
       "    </tr>\n",
       "    <tr>\n",
       "      <th>unstable</th>\n",
       "      <td>3.0</td>\n",
       "      <td>0.0</td>\n",
       "      <td>0.000000</td>\n",
       "      <td>0.000000</td>\n",
       "      <td>3.0</td>\n",
       "      <td>100.000000</td>\n",
       "    </tr>\n",
       "    <tr>\n",
       "      <th>stable api</th>\n",
       "      <td>1.0</td>\n",
       "      <td>0.0</td>\n",
       "      <td>0.000000</td>\n",
       "      <td>0.000000</td>\n",
       "      <td>1.0</td>\n",
       "      <td>100.000000</td>\n",
       "    </tr>\n",
       "    <tr>\n",
       "      <th>portable</th>\n",
       "      <td>1.0</td>\n",
       "      <td>0.0</td>\n",
       "      <td>0.000000</td>\n",
       "      <td>0.000000</td>\n",
       "      <td>1.0</td>\n",
       "      <td>100.000000</td>\n",
       "    </tr>\n",
       "    <tr>\n",
       "      <th>mostly stable</th>\n",
       "      <td>1.0</td>\n",
       "      <td>0.0</td>\n",
       "      <td>0.000000</td>\n",
       "      <td>0.000000</td>\n",
       "      <td>1.0</td>\n",
       "      <td>100.000000</td>\n",
       "    </tr>\n",
       "    <tr>\n",
       "      <th>in development</th>\n",
       "      <td>1.0</td>\n",
       "      <td>0.0</td>\n",
       "      <td>0.000000</td>\n",
       "      <td>0.000000</td>\n",
       "      <td>1.0</td>\n",
       "      <td>100.000000</td>\n",
       "    </tr>\n",
       "  </tbody>\n",
       "</table>\n",
       "</div>"
      ],
      "text/plain": [
       "mtl-direct      No direct dependency  Direct dependency  mtl-stab-pct  \\\n",
       "stability                                                               \n",
       "n/a                            373.0               97.0     20.638298   \n",
       "experimental                   122.0               39.0     24.223602   \n",
       "stable                          70.0               19.0     21.348315   \n",
       "provisional                     55.0               11.0     16.666667   \n",
       "beta                             4.0                4.0     50.000000   \n",
       "alpha                            6.0                2.0     25.000000   \n",
       "seems to work                    4.0                2.0     33.333333   \n",
       "unstable                         3.0                0.0      0.000000   \n",
       "stable api                       1.0                0.0      0.000000   \n",
       "portable                         1.0                0.0      0.000000   \n",
       "mostly stable                    1.0                0.0      0.000000   \n",
       "in development                   1.0                0.0      0.000000   \n",
       "\n",
       "mtl-direct      mtl-total-pct  total-pkgs  nomtl-stab-pct  \n",
       "stability                                                  \n",
       "n/a                 55.747126       470.0       79.361702  \n",
       "experimental        22.413793       161.0       75.776398  \n",
       "stable              10.919540        89.0       78.651685  \n",
       "provisional          6.321839        66.0       83.333333  \n",
       "beta                 2.298851         8.0       50.000000  \n",
       "alpha                1.149425         8.0       75.000000  \n",
       "seems to work        1.149425         6.0       66.666667  \n",
       "unstable             0.000000         3.0      100.000000  \n",
       "stable api           0.000000         1.0      100.000000  \n",
       "portable             0.000000         1.0      100.000000  \n",
       "mostly stable        0.000000         1.0      100.000000  \n",
       "in development       0.000000         1.0      100.000000  "
      ]
     },
     "metadata": {},
     "output_type": "display_data"
    }
   ],
   "source": [
    "with pd.option_context('display.max_rows', None, 'display.max_columns', None):\n",
    "    display(stab_groups_no_others.sort_values(by=['total-pkgs', 'stability'], ascending=False))"
   ]
  },
  {
   "cell_type": "code",
   "execution_count": 875,
   "metadata": {},
   "outputs": [
    {
     "name": "stderr",
     "output_type": "stream",
     "text": [
      "<ipython-input-875-56f01ee3b7f6>:2: MatplotlibDeprecationWarning: Adding an axes using the same arguments as a previous axes currently reuses the earlier instance.  In a future version, a new instance will always be created and returned.  Meanwhile, this warning can be suppressed, and the future behavior ensured, by passing a unique label to each axes instance.\n",
      "  ax1 = plt.axes()\n"
     ]
    },
    {
     "data": {
      "image/png": "[encoded data removed]",
      "text/plain": [
       "<Figure size 432x288 with 1 Axes>"
      ]
     },
     "metadata": {
      "needs_background": "light"
     },
     "output_type": "display_data"
    }
   ],
   "source": [
    "stab_groups_no_others.sort_values(by=['total-pkgs'], ascending=False)['total-pkgs'].plot(kind='bar', width=1, legend=False)\n",
    "ax1 = plt.axes()\n",
    "x_axis = ax1.axes.get_xaxis()\n",
    "x_axis.set_visible(False)"
   ]
  },
  {
   "cell_type": "code",
   "execution_count": 876,
   "metadata": {},
   "outputs": [
    {
     "name": "stderr",
     "output_type": "stream",
     "text": [
      "<ipython-input-876-f757c3205609>:3: MatplotlibDeprecationWarning: Adding an axes using the same arguments as a previous axes currently reuses the earlier instance.  In a future version, a new instance will always be created and returned.  Meanwhile, this warning can be suppressed, and the future behavior ensured, by passing a unique label to each axes instance.\n",
      "  ax1 = plt.axes()\n"
     ]
    },
    {
     "data": {
      "image/png": "[encoded data removed]",
      "text/plain": [
       "<Figure size 432x288 with 1 Axes>"
      ]
     },
     "metadata": {
      "needs_background": "light"
     },
     "output_type": "display_data"
    }
   ],
   "source": [
    "dfff = stab_groups_no_others.rename(index={'': 'n/a'}).sort_values(by=['total-pkgs'], ascending=False)['total-pkgs']\n",
    "dfff.plot(kind='bar', width=1)\n",
    "ax1 = plt.axes()\n",
    "x_axis = ax1.axes.get_xaxis()\n",
    "x_axis.set_visible(False)"
   ]
  },
  {
   "cell_type": "code",
   "execution_count": 877,
   "metadata": {},
   "outputs": [
    {
     "data": {
      "text/plain": [
       "<AxesSubplot:xlabel='stability'>"
      ]
     },
     "execution_count": 877,
     "metadata": {},
     "output_type": "execute_result"
    },
    {
     "data": {
      "image/png": "[encoded data removed]",
      "text/plain": [
       "<Figure size 432x288 with 1 Axes>"
      ]
     },
     "metadata": {
      "needs_background": "light"
     },
     "output_type": "display_data"
    }
   ],
   "source": [
    "stab_groups_no_others.sort_values(by=['total-pkgs'], ascending=False)['total-pkgs'].plot(kind='bar', width=100, legend=False)"
   ]
  },
  {
   "cell_type": "code",
   "execution_count": 878,
   "metadata": {},
   "outputs": [
    {
     "name": "stdout",
     "output_type": "stream",
     "text": [
      "\\begin{tabular}{lrr}\n",
      "\\toprule\n",
      "mtl-direct &  total-pkgs &  pkg-pct-of-total \\\\\n",
      "stability     &             &                   \\\\\n",
      "\\midrule\n",
      "n/a           &       470.0 &              19.6 \\\\\n",
      "experimental  &       161.0 &               6.7 \\\\\n",
      "stable        &        89.0 &               3.7 \\\\\n",
      "provisional   &        66.0 &               2.7 \\\\\n",
      "alpha         &         8.0 &               0.3 \\\\\n",
      "beta          &         8.0 &               0.3 \\\\\n",
      "seems to work &         6.0 &               0.2 \\\\\n",
      "unstable      &         3.0 &               0.1 \\\\\n",
      "\\bottomrule\n",
      "\\end{tabular}\n",
      "\n"
     ]
    }
   ],
   "source": [
    "total_stab_pkgs = 2403\n",
    "stab_groups_no_others['pkg-pct-of-total'] = np.round((stab_groups_no_others['total-pkgs'] / total_stab_pkgs * 100), 1)\n",
    "print(stab_groups_no_others.sort_values(by=['pkg-pct-of-total','total-pkgs'], ascending=False)[['total-pkgs', 'pkg-pct-of-total']][0:8].to_latex())"
   ]
  },
  {
   "cell_type": "markdown",
   "metadata": {},
   "source": [
    "# Monads Usage"
   ]
  },
  {
   "cell_type": "code",
   "execution_count": 879,
   "metadata": {},
   "outputs": [],
   "source": [
    "mtl_modules = [\n",
    "      \"Control.Monad.Cont\"\n",
    "    , \"Control.Monad.Cont.Class\"\n",
    "    , \"Control.Monad.Error\"\n",
    "    , \"Control.Monad.Error.Class\"\n",
    "    , \"Control.Monad.Except\"\n",
    "    , \"Control.Monad.Identity\"\n",
    "    , \"Control.Monad.List\"\n",
    "    , \"Control.Monad.RWS\"\n",
    "    , \"Control.Monad.RWS.Class\"\n",
    "    , \"Control.Monad.RWS.Lazy\"\n",
    "    , \"Control.Monad.RWS.Strict\"\n",
    "    , \"Control.Monad.Reader\"\n",
    "    , \"Control.Monad.Reader.Class\"\n",
    "    , \"Control.Monad.State\"\n",
    "    , \"Control.Monad.State.Class\"\n",
    "    , \"Control.Monad.State.Lazy\"\n",
    "    , \"Control.Monad.State.Strict\"\n",
    "    , \"Control.Monad.Trans\"\n",
    "    , \"Control.Monad.Writer\"\n",
    "    , \"Control.Monad.Writer.Class\"\n",
    "    , \"Control.Monad.Writer.Lazy\"\n",
    "    , \"Control.Monad.Writer.Strict\"\n",
    "    ]\n",
    "\n",
    "mtl_monads = ['Continuation', 'Error', 'Except', 'Identity', 'List', 'RWS', 'Reader', 'State', 'Trans', 'Writer']\n",
    "\n",
    "def computeMonadUsageForDataframe(theDf):\n",
    "\n",
    "    mtl_cont = mtl_modules[0:2]\n",
    "    mtl_error = mtl_modules[2:4]\n",
    "    mtl_except = mtl_modules[4:5]\n",
    "    mtl_identity= mtl_modules[5:6]\n",
    "    mtl_list = mtl_modules[6:7]\n",
    "    mtl_rws = mtl_modules[7:11]\n",
    "    mtl_reader = mtl_modules[11:13]\n",
    "    mtl_state = mtl_modules[13:17]\n",
    "    mtl_trans = mtl_modules[17:18]\n",
    "    mtl_writer = mtl_modules[18:]    \n",
    "    \n",
    "    theDf.loc[theDf.index, 'Continuation']  = theDf[mtl_cont].sum(axis=1).apply(lambda x: 1 if x > 0 else 0)\n",
    "    theDf.loc[theDf.index, 'Error']         = theDf[mtl_error].sum(axis=1).apply(lambda x: 1 if x > 0 else 0)\n",
    "    theDf.loc[theDf.index, 'Except']        = theDf[mtl_except].sum(axis=1).apply(lambda x: 1 if x > 0 else 0)\n",
    "    theDf.loc[theDf.index, 'Identity']      = theDf[mtl_identity].sum(axis=1).apply(lambda x: 1 if x > 0 else 0)\n",
    "    theDf.loc[theDf.index, 'List']          = theDf[mtl_list].sum(axis=1).apply(lambda x: 1 if x > 0 else 0)\n",
    "    theDf.loc[theDf.index, 'RWS']           = theDf[mtl_rws].sum(axis=1).apply(lambda x: 1 if x > 0 else 0)\n",
    "    theDf.loc[theDf.index, 'Reader']        = theDf[mtl_reader].sum(axis=1).apply(lambda x: 1 if x > 0 else 0)\n",
    "    theDf.loc[theDf.index, 'State']         = theDf[mtl_state].sum(axis=1).apply(lambda x: 1 if x > 0 else 0)\n",
    "    theDf.loc[theDf.index, 'Trans']         = theDf[mtl_trans].sum(axis=1).apply(lambda x: 1 if x > 0 else 0)\n",
    "    theDf.loc[theDf.index, 'Writer']        = theDf[mtl_writer].sum(axis=1).apply(lambda x: 1 if x > 0 else 0)\n",
    "    theDf.loc[theDf.index, 'MonadsUsed']    = theDf[mtl_monads].sum(axis=1)\n",
    "    \n",
    "    return theDf"
   ]
  },
  {
   "cell_type": "code",
   "execution_count": 880,
   "metadata": {},
   "outputs": [
    {
     "name": "stderr",
     "output_type": "stream",
     "text": [
      "/usr/local/lib/python3.8/site-packages/pandas/core/indexing.py:1596: SettingWithCopyWarning: \n",
      "A value is trying to be set on a copy of a slice from a DataFrame.\n",
      "Try using .loc[row_indexer,col_indexer] = value instead\n",
      "\n",
      "See the caveats in the documentation: https://pandas.pydata.org/pandas-docs/stable/user_guide/indexing.html#returning-a-view-versus-a-copy\n",
      "  self.obj[key] = _infer_fill_value(value)\n",
      "/usr/local/lib/python3.8/site-packages/pandas/core/indexing.py:1745: SettingWithCopyWarning: \n",
      "A value is trying to be set on a copy of a slice from a DataFrame.\n",
      "Try using .loc[row_indexer,col_indexer] = value instead\n",
      "\n",
      "See the caveats in the documentation: https://pandas.pydata.org/pandas-docs/stable/user_guide/indexing.html#returning-a-view-versus-a-copy\n",
      "  isetter(ilocs[0], value)\n"
     ]
    },
    {
     "data": {
      "text/plain": [
       "Except           1\n",
       "List             4\n",
       "Continuation    19\n",
       "RWS             22\n",
       "Identity        28\n",
       "Writer          38\n",
       "Trans           47\n",
       "Error           56\n",
       "Reader          63\n",
       "State           89\n",
       "dtype: int64"
      ]
     },
     "execution_count": 880,
     "metadata": {},
     "output_type": "execute_result"
    }
   ],
   "source": [
    "mtl_df = computeMonadUsageForDataframe(mtl_df)\n",
    "mtl_df[mtl_monads].sum().sort_values()"
   ]
  },
  {
   "cell_type": "code",
   "execution_count": null,
   "metadata": {},
   "outputs": [],
   "source": []
  },
  {
   "cell_type": "code",
   "execution_count": 881,
   "metadata": {},
   "outputs": [
    {
     "data": {
      "text/plain": [
       "Text(0, 0.5, '')"
      ]
     },
     "execution_count": 881,
     "metadata": {},
     "output_type": "execute_result"
    },
    {
     "data": {
      "image/png": "[encoded data removed]",
      "text/plain": [
       "<Figure size 432x288 with 1 Axes>"
      ]
     },
     "metadata": {
      "needs_background": "light"
     },
     "output_type": "display_data"
    }
   ],
   "source": [
    "axn = mtl_df['MonadsUsed'].plot(kind='box', showmeans=True, legend=False)\n",
    "axn.set_xlabel(\"Monads Used\")\n",
    "axn.set_ylabel(\"\")"
   ]
  },
  {
   "cell_type": "code",
   "execution_count": 882,
   "metadata": {},
   "outputs": [],
   "source": [
    "def getParsingStatusFromDataFrame(theDf):\n",
    "\n",
    "    ### Mark how many parsing errors there are per package\n",
    "    df_pkgsWithErrors = theDf['imported-modules'].map(lambda x: (x, map(lambda y: \"IsmaParseError\" in y, x)))\n",
    "    df_errorsPerPkg = df_pkgsWithErrors.map(lambda x: ( sum([(1 if y else 0) for y in x[1]])\n",
    "                                                                    ,sum([(1 if not y else 0) for y in x[1]])\n",
    "                                                                    , x[0]))\n",
    "\n",
    "    ### How many of these packages have parsing errors?\n",
    "    df_with_parse_errors_idx = df_errorsPerPkg.map(lambda x: x[0] > 0)\n",
    "    df_with_parse_errors     = df_errorsPerPkg[df_with_parse_errors_idx]\n",
    "\n",
    "    ### How many of these packages do not have parsing errors?\n",
    "    df_without_parse_errors_idx = df_errorsPerPkg.map(lambda x: x[0] == 0)\n",
    "    df_without_parse_errors     = df_errorsPerPkg[df_without_parse_errors_idx]\n",
    "    \n",
    "    return df_with_parse_errors, df_without_parse_errors"
   ]
  },
  {
   "cell_type": "code",
   "execution_count": 883,
   "metadata": {},
   "outputs": [
    {
     "name": "stdout",
     "output_type": "stream",
     "text": [
      "9\n",
      "16\n",
      "44\n",
      "105\n"
     ]
    }
   ],
   "source": [
    "### How many packages are mtl-packages with MonadsUsed == 0 and MonadsUsed > 0?\n",
    "mtl_df_0_parse_errors, mtl_df_0_no_parse_errors = getParsingStatusFromDataFrame(mtl_df[mtl_df['MonadsUsed'] == 0])\n",
    "mtl_df_g0_parse_errors, mtl_df_g0_no_parse_errors = getParsingStatusFromDataFrame(mtl_df[mtl_df['MonadsUsed'] > 0])\n",
    "print(len(mtl_df_0_parse_errors))\n",
    "print(len(mtl_df_0_no_parse_errors))\n",
    "print(len(mtl_df_g0_parse_errors))\n",
    "print(len(mtl_df_g0_no_parse_errors))"
   ]
  },
  {
   "cell_type": "markdown",
   "metadata": {},
   "source": [
    "# MTL  Packages"
   ]
  },
  {
   "cell_type": "code",
   "execution_count": 1,
   "metadata": {},
   "outputs": [
    {
     "ename": "NameError",
     "evalue": "name 'mtl_df' is not defined",
     "output_type": "error",
     "traceback": [
      "\u001b[0;31m---------------------------------------------------------------------------\u001b[0m",
      "\u001b[0;31mNameError\u001b[0m                                 Traceback (most recent call last)",
      "\u001b[0;32m<ipython-input-1-3304b87a315b>\u001b[0m in \u001b[0;36m<module>\u001b[0;34m\u001b[0m\n\u001b[0;32m----> 1\u001b[0;31m \u001b[0mmtl_usage\u001b[0m \u001b[0;34m=\u001b[0m \u001b[0mmtl_df\u001b[0m\u001b[0;34m.\u001b[0m\u001b[0mgroupby\u001b[0m\u001b[0;34m(\u001b[0m\u001b[0;34m[\u001b[0m\u001b[0;34m'MonadsUsed'\u001b[0m\u001b[0;34m]\u001b[0m\u001b[0;34m)\u001b[0m\u001b[0;34m[\u001b[0m\u001b[0;34m'MonadsUsed'\u001b[0m\u001b[0;34m]\u001b[0m\u001b[0;34m.\u001b[0m\u001b[0mcount\u001b[0m\u001b[0;34m(\u001b[0m\u001b[0;34m)\u001b[0m\u001b[0;34m\u001b[0m\u001b[0;34m\u001b[0m\u001b[0m\n\u001b[0m\u001b[1;32m      2\u001b[0m \u001b[0mmtl_ax\u001b[0m \u001b[0;34m=\u001b[0m \u001b[0mmtl_usage\u001b[0m\u001b[0;34m.\u001b[0m\u001b[0mplot\u001b[0m\u001b[0;34m(\u001b[0m\u001b[0mfigsize\u001b[0m\u001b[0;34m=\u001b[0m\u001b[0;34m(\u001b[0m\u001b[0;36m5\u001b[0m\u001b[0;34m,\u001b[0m\u001b[0;36m5\u001b[0m\u001b[0;34m)\u001b[0m\u001b[0;34m,\u001b[0m \u001b[0mkind\u001b[0m\u001b[0;34m=\u001b[0m\u001b[0;34m'bar'\u001b[0m\u001b[0;34m,\u001b[0m \u001b[0mrot\u001b[0m\u001b[0;34m=\u001b[0m\u001b[0;36m360\u001b[0m\u001b[0;34m,\u001b[0m \u001b[0mcolor\u001b[0m\u001b[0;34m=\u001b[0m\u001b[0;34m'blue'\u001b[0m\u001b[0;34m,\u001b[0m \u001b[0mlegend\u001b[0m\u001b[0;34m=\u001b[0m\u001b[0;32mFalse\u001b[0m\u001b[0;34m)\u001b[0m\u001b[0;34m\u001b[0m\u001b[0;34m\u001b[0m\u001b[0m\n\u001b[1;32m      3\u001b[0m \u001b[0mmtl_ax\u001b[0m\u001b[0;34m.\u001b[0m\u001b[0mset_xlabel\u001b[0m\u001b[0;34m(\u001b[0m\u001b[0;34m'# Monads'\u001b[0m\u001b[0;34m,\u001b[0m \u001b[0mfontsize\u001b[0m\u001b[0;34m=\u001b[0m\u001b[0;36m20\u001b[0m\u001b[0;34m)\u001b[0m\u001b[0;34m\u001b[0m\u001b[0;34m\u001b[0m\u001b[0m\n\u001b[1;32m      4\u001b[0m \u001b[0mmtl_ax\u001b[0m\u001b[0;34m.\u001b[0m\u001b[0mset_ylabel\u001b[0m\u001b[0;34m(\u001b[0m\u001b[0;34m'# Packages'\u001b[0m\u001b[0;34m,\u001b[0m \u001b[0mfontsize\u001b[0m\u001b[0;34m=\u001b[0m\u001b[0;36m20\u001b[0m\u001b[0;34m)\u001b[0m\u001b[0;34m\u001b[0m\u001b[0;34m\u001b[0m\u001b[0m\n\u001b[1;32m      5\u001b[0m \u001b[0;34m\u001b[0m\u001b[0m\n",
      "\u001b[0;31mNameError\u001b[0m: name 'mtl_df' is not defined"
     ]
    }
   ],
   "source": [
    "mtl_usage = mtl_df.groupby(['MonadsUsed'])['MonadsUsed'].count()\n",
    "mtl_ax = mtl_usage.plot(figsize=(5,5), kind='bar', rot=360, color='blue', legend=False)\n",
    "mtl_ax.set_xlabel('# Monads', fontsize=20)\n",
    "mtl_ax.set_ylabel('# Packages', fontsize=20)\n",
    "\n",
    "\n",
    "plt.savefig(f\"{path_figure}/mtl_monads_usage_{lts_version}.png\", bbox_inches='tight')"
   ]
  },
  {
   "cell_type": "code",
   "execution_count": 885,
   "metadata": {},
   "outputs": [
    {
     "data": {
      "image/png": "[encoded data removed]",
      "text/plain": [
       "<Figure size 360x360 with 1 Axes>"
      ]
     },
     "metadata": {
      "needs_background": "light"
     },
     "output_type": "display_data"
    }
   ],
   "source": [
    "mtl_per_monad_usage = mtl_df[mtl_monads].sum().sort_values()\n",
    "mtl_per_monad_ax = mtl_per_monad_usage.plot(figsize=(5,5), kind='barh', color='blue', log=False)\n",
    "mtl_per_monad_ax.set_xlabel('#Packages', fontsize=20)\n",
    "\n",
    "plt.savefig(f\"{path_figure}/mtl_monads_type_usage_{lts_version}.png\", bbox_inches='tight')"
   ]
  },
  {
   "cell_type": "code",
   "execution_count": 886,
   "metadata": {},
   "outputs": [],
   "source": [
    "cont_mods   = (\"Continuation\", [\"Control.Monad.Cont\", \"Control.Monad.Cont.Class\"])\n",
    "error_mods  = (\"Error\", [\"Control.Monad.Error\", \"Control.Monad.Error.Class\"])\n",
    "reader_mods = (\"Reader\", [\"Control.Monad.Reader\", \"Control.Monad.Reader.Class\"])\n",
    "writer_mods = (\"Writer\", [\"Control.Monad.Writer\", \"Control.Monad.Writer.Class\", \"Control.Monad.Writer.Lazy\", \"Control.Monad.Writer.Strict\"])\n",
    "state_mods  = (\"State\", [\"Control.Monad.State\", \"Control.Monad.State.Class\", \"Control.Monad.State.Lazy\", \"Control.Monad.State.Strict\"])\n",
    "rws_mods    = (\"RWS\", [\"Control.Monad.RWS\", \"Control.Monad.RWS.Class\", \"Control.Monad.RWS.Lazy\", \"Control.Monad.RWS.Strict\"])\n",
    "\n",
    "except_mods = (\"Except\", [\"Control.Monad.Except\"])\n",
    "ident_mods  = (\"Identity\", [\"Control.Monad.Identity\"])\n",
    "list_mods   = (\"List\", [\"Control.Monad.List\"])\n",
    "\n",
    "# to do: Incluior trans en el proceso de creacion del data frame\n",
    "\n",
    "trans_mods  = (\"Trans\", [\"Control.Monad.Trans\"]) #, \"Control.Monad.Trans.Class\"])\n",
    "\n",
    "monads_defs = [cont_mods, error_mods, rws_mods, reader_mods, writer_mods, state_mods, trans_mods]"
   ]
  },
  {
   "cell_type": "code",
   "execution_count": 887,
   "metadata": {},
   "outputs": [],
   "source": [
    "def usageCombinationToString(usage_vector):\n",
    "    letters = ('C', 'E', 'I', 'L', 'R', 'S', 'T', 'W', 'X', 'Z')    \n",
    "    combStr = \"\".join(list(map(lambda x: x[1] if x[0] == 1 else \"\", zip(usage_vector, letters))))\n",
    "    if combStr == \"\":\n",
    "        combStr = \"None\"\n",
    "    return combStr\n",
    "\n",
    "def generateMonadDataframes(theDf):\n",
    "    monad_dfs  = {}    \n",
    "    for mdef in monads_defs:        \n",
    "        monad_name    = mdef[0]\n",
    "        monad_details = theDf[mdef[1]].sum()\n",
    "        monad_dfs[monad_name] = pd.DataFrame(columns = mdef[1])\n",
    "        monad_dfs[monad_name] = pd.concat([monad_dfs[monad_name], monad_details.to_frame().T])\n",
    "        monad_dfs[monad_name].index = [\"Total\"]\n",
    "        \n",
    "    return monad_dfs"
   ]
  },
  {
   "cell_type": "code",
   "execution_count": 888,
   "metadata": {},
   "outputs": [
    {
     "data": {
      "text/plain": [
       "174"
      ]
     },
     "execution_count": 888,
     "metadata": {},
     "output_type": "execute_result"
    }
   ],
   "source": [
    "pkgVersionGroup = mtl_df[[\"package\", \"version\"]].groupby(\"package\").count()\n",
    "len(pkgVersionGroup)"
   ]
  },
  {
   "cell_type": "code",
   "execution_count": 889,
   "metadata": {},
   "outputs": [
    {
     "data": {
      "text/plain": [
       "{'Continuation':       Control.Monad.Cont Control.Monad.Cont.Class\n",
       " Total                 10                        9,\n",
       " 'Error':       Control.Monad.Error Control.Monad.Error.Class\n",
       " Total                  41                        16,\n",
       " 'RWS':       Control.Monad.RWS Control.Monad.RWS.Class Control.Monad.RWS.Lazy  \\\n",
       " Total                 7                       4                      7   \n",
       " \n",
       "       Control.Monad.RWS.Strict  \n",
       " Total                       11  ,\n",
       " 'Reader':       Control.Monad.Reader Control.Monad.Reader.Class\n",
       " Total                   51                         19,\n",
       " 'Writer':       Control.Monad.Writer Control.Monad.Writer.Class  \\\n",
       " Total                   18                         16   \n",
       " \n",
       "       Control.Monad.Writer.Lazy Control.Monad.Writer.Strict  \n",
       " Total                         8                           9  ,\n",
       " 'State':       Control.Monad.State Control.Monad.State.Class Control.Monad.State.Lazy  \\\n",
       " Total                  61                        22                       11   \n",
       " \n",
       "       Control.Monad.State.Strict  \n",
       " Total                         19  ,\n",
       " 'Trans':       Control.Monad.Trans\n",
       " Total                  47}"
      ]
     },
     "execution_count": 889,
     "metadata": {},
     "output_type": "execute_result"
    }
   ],
   "source": [
    "mdfs = generateMonadDataframes(mtl_df)\n",
    "mdfs"
   ]
  },
  {
   "cell_type": "code",
   "execution_count": 890,
   "metadata": {},
   "outputs": [
    {
     "ename": "IndexError",
     "evalue": "index 1 is out of bounds for axis 0 with size 1",
     "output_type": "error",
     "traceback": [
      "\u001b[0;31m---------------------------------------------------------------------------\u001b[0m",
      "\u001b[0;31mIndexError\u001b[0m                                Traceback (most recent call last)",
      "\u001b[0;32m<ipython-input-890-3ae59af95300>\u001b[0m in \u001b[0;36m<module>\u001b[0;34m\u001b[0m\n\u001b[1;32m      3\u001b[0m \u001b[0;32mfor\u001b[0m \u001b[0mkey\u001b[0m \u001b[0;32min\u001b[0m \u001b[0mmdfs\u001b[0m\u001b[0;34m:\u001b[0m\u001b[0;34m\u001b[0m\u001b[0;34m\u001b[0m\u001b[0m\n\u001b[1;32m      4\u001b[0m     \u001b[0mtopLevel\u001b[0m      \u001b[0;34m=\u001b[0m \u001b[0mmdfs\u001b[0m\u001b[0;34m[\u001b[0m\u001b[0mkey\u001b[0m\u001b[0;34m]\u001b[0m\u001b[0;34m.\u001b[0m\u001b[0miloc\u001b[0m\u001b[0;34m[\u001b[0m\u001b[0;36m0\u001b[0m\u001b[0;34m]\u001b[0m\u001b[0;34m[\u001b[0m\u001b[0;36m0\u001b[0m\u001b[0;34m]\u001b[0m\u001b[0;34m\u001b[0m\u001b[0;34m\u001b[0m\u001b[0m\n\u001b[0;32m----> 5\u001b[0;31m     \u001b[0mclassLevel\u001b[0m    \u001b[0;34m=\u001b[0m \u001b[0mmdfs\u001b[0m\u001b[0;34m[\u001b[0m\u001b[0mkey\u001b[0m\u001b[0;34m]\u001b[0m\u001b[0;34m.\u001b[0m\u001b[0miloc\u001b[0m\u001b[0;34m[\u001b[0m\u001b[0;36m0\u001b[0m\u001b[0;34m]\u001b[0m\u001b[0;34m[\u001b[0m\u001b[0;36m1\u001b[0m\u001b[0;34m]\u001b[0m\u001b[0;34m\u001b[0m\u001b[0;34m\u001b[0m\u001b[0m\n\u001b[0m\u001b[1;32m      6\u001b[0m     \u001b[0mlazyVariant\u001b[0m   \u001b[0;34m=\u001b[0m \u001b[0;36m0\u001b[0m\u001b[0;34m\u001b[0m\u001b[0;34m\u001b[0m\u001b[0m\n\u001b[1;32m      7\u001b[0m     \u001b[0mstrictVariant\u001b[0m \u001b[0;34m=\u001b[0m \u001b[0;36m0\u001b[0m\u001b[0;34m\u001b[0m\u001b[0;34m\u001b[0m\u001b[0m\n",
      "\u001b[0;32m/usr/local/lib/python3.8/site-packages/pandas/core/series.py\u001b[0m in \u001b[0;36m__getitem__\u001b[0;34m(self, key)\u001b[0m\n\u001b[1;32m    877\u001b[0m \u001b[0;34m\u001b[0m\u001b[0m\n\u001b[1;32m    878\u001b[0m         \u001b[0;32mif\u001b[0m \u001b[0mis_integer\u001b[0m\u001b[0;34m(\u001b[0m\u001b[0mkey\u001b[0m\u001b[0;34m)\u001b[0m \u001b[0;32mand\u001b[0m \u001b[0mself\u001b[0m\u001b[0;34m.\u001b[0m\u001b[0mindex\u001b[0m\u001b[0;34m.\u001b[0m\u001b[0m_should_fallback_to_positional\u001b[0m\u001b[0;34m(\u001b[0m\u001b[0;34m)\u001b[0m\u001b[0;34m:\u001b[0m\u001b[0;34m\u001b[0m\u001b[0;34m\u001b[0m\u001b[0m\n\u001b[0;32m--> 879\u001b[0;31m             \u001b[0;32mreturn\u001b[0m \u001b[0mself\u001b[0m\u001b[0;34m.\u001b[0m\u001b[0m_values\u001b[0m\u001b[0;34m[\u001b[0m\u001b[0mkey\u001b[0m\u001b[0;34m]\u001b[0m\u001b[0;34m\u001b[0m\u001b[0;34m\u001b[0m\u001b[0m\n\u001b[0m\u001b[1;32m    880\u001b[0m \u001b[0;34m\u001b[0m\u001b[0m\n\u001b[1;32m    881\u001b[0m         \u001b[0;32melif\u001b[0m \u001b[0mkey_is_scalar\u001b[0m\u001b[0;34m:\u001b[0m\u001b[0;34m\u001b[0m\u001b[0;34m\u001b[0m\u001b[0m\n",
      "\u001b[0;31mIndexError\u001b[0m: index 1 is out of bounds for axis 0 with size 1"
     ]
    }
   ],
   "source": [
    "split_df = pd.DataFrame(columns = [\"Top-level Module\", \"Class Module\", \"Lazy Variant\", \"Strict Variant\"])\n",
    "\n",
    "for key in mdfs:    \n",
    "    topLevel      = mdfs[key].iloc[0][0]\n",
    "    classLevel    = mdfs[key].iloc[0][1]\n",
    "    lazyVariant   = 0\n",
    "    strictVariant = 0\n",
    "    if key in [\"RWS\", \"Writer\", \"State\"]:\n",
    "        lazyVariant   = mdfs[key].iloc[0][2]\n",
    "        strictVariant = mdfs[key].iloc[0][3]\n",
    "    \n",
    "    split_df.loc[key] = [topLevel, classLevel, lazyVariant, strictVariant]   \n",
    "\n",
    "split_df"
   ]
  },
  {
   "cell_type": "code",
   "execution_count": null,
   "metadata": {},
   "outputs": [],
   "source": [
    "pre_ranking = mtl_df['MonadsUsedVector'].value_counts().to_frame(\"Total Frequency\")\n",
    "pre_ranking.index = map(usageCombinationToString, pre_ranking.index)\n",
    "pre_ranking"
   ]
  },
  {
   "cell_type": "code",
   "execution_count": 891,
   "metadata": {},
   "outputs": [
    {
     "data": {
      "text/plain": [
       "<AxesSubplot:>"
      ]
     },
     "execution_count": 891,
     "metadata": {},
     "output_type": "execute_result"
    },
    {
     "data": {
      "image/png": "[encoded data removed]",
      "text/plain": [
       "<Figure size 576x576 with 1 Axes>"
      ]
     },
     "metadata": {
      "needs_background": "light"
     },
     "output_type": "display_data"
    }
   ],
   "source": [
    "ax = plt.figure(figsize=(8,8)).add_subplot(111)\n",
    "dfy = split_df.sort_values(by=\"Top-level Module\")\n",
    "dfy.plot(ax=ax, kind='barh', stacked=True, legend=True)"
   ]
  },
  {
   "cell_type": "code",
   "execution_count": 892,
   "metadata": {},
   "outputs": [
    {
     "data": {
      "text/plain": [
       "<AxesSubplot:>"
      ]
     },
     "execution_count": 892,
     "metadata": {},
     "output_type": "execute_result"
    },
    {
     "data": {
      "image/png": "[encoded data removed]",
      "text/plain": [
       "<Figure size 576x576 with 1 Axes>"
      ]
     },
     "metadata": {
      "needs_background": "light"
     },
     "output_type": "display_data"
    }
   ],
   "source": [
    "ax = plt.figure(figsize=(8,8)).add_subplot(111)\n",
    "dfy = split_df.sort_values(by=\"Top-level Module\")\n",
    "dfy.plot(ax=ax, kind='barh', stacked=True, legend=True)"
   ]
  },
  {
   "cell_type": "code",
   "execution_count": 893,
   "metadata": {},
   "outputs": [
    {
     "ename": "KeyError",
     "evalue": "'MonadsUsedVector'",
     "output_type": "error",
     "traceback": [
      "\u001b[0;31m---------------------------------------------------------------------------\u001b[0m",
      "\u001b[0;31mKeyError\u001b[0m                                  Traceback (most recent call last)",
      "\u001b[0;32m/usr/local/lib/python3.8/site-packages/pandas/core/indexes/base.py\u001b[0m in \u001b[0;36mget_loc\u001b[0;34m(self, key, method, tolerance)\u001b[0m\n\u001b[1;32m   2894\u001b[0m             \u001b[0;32mtry\u001b[0m\u001b[0;34m:\u001b[0m\u001b[0;34m\u001b[0m\u001b[0;34m\u001b[0m\u001b[0m\n\u001b[0;32m-> 2895\u001b[0;31m                 \u001b[0;32mreturn\u001b[0m \u001b[0mself\u001b[0m\u001b[0;34m.\u001b[0m\u001b[0m_engine\u001b[0m\u001b[0;34m.\u001b[0m\u001b[0mget_loc\u001b[0m\u001b[0;34m(\u001b[0m\u001b[0mcasted_key\u001b[0m\u001b[0;34m)\u001b[0m\u001b[0;34m\u001b[0m\u001b[0;34m\u001b[0m\u001b[0m\n\u001b[0m\u001b[1;32m   2896\u001b[0m             \u001b[0;32mexcept\u001b[0m \u001b[0mKeyError\u001b[0m \u001b[0;32mas\u001b[0m \u001b[0merr\u001b[0m\u001b[0;34m:\u001b[0m\u001b[0;34m\u001b[0m\u001b[0;34m\u001b[0m\u001b[0m\n",
      "\u001b[0;32mpandas/_libs/index.pyx\u001b[0m in \u001b[0;36mpandas._libs.index.IndexEngine.get_loc\u001b[0;34m()\u001b[0m\n",
      "\u001b[0;32mpandas/_libs/index.pyx\u001b[0m in \u001b[0;36mpandas._libs.index.IndexEngine.get_loc\u001b[0;34m()\u001b[0m\n",
      "\u001b[0;32mpandas/_libs/hashtable_class_helper.pxi\u001b[0m in \u001b[0;36mpandas._libs.hashtable.PyObjectHashTable.get_item\u001b[0;34m()\u001b[0m\n",
      "\u001b[0;32mpandas/_libs/hashtable_class_helper.pxi\u001b[0m in \u001b[0;36mpandas._libs.hashtable.PyObjectHashTable.get_item\u001b[0;34m()\u001b[0m\n",
      "\u001b[0;31mKeyError\u001b[0m: 'MonadsUsedVector'",
      "\nThe above exception was the direct cause of the following exception:\n",
      "\u001b[0;31mKeyError\u001b[0m                                  Traceback (most recent call last)",
      "\u001b[0;32m<ipython-input-893-a71142343935>\u001b[0m in \u001b[0;36m<module>\u001b[0;34m\u001b[0m\n\u001b[0;32m----> 1\u001b[0;31m \u001b[0mranking\u001b[0m \u001b[0;34m=\u001b[0m \u001b[0mmtl_df\u001b[0m\u001b[0;34m[\u001b[0m\u001b[0;34m'MonadsUsedVector'\u001b[0m\u001b[0;34m]\u001b[0m\u001b[0;34m.\u001b[0m\u001b[0mvalue_counts\u001b[0m\u001b[0;34m(\u001b[0m\u001b[0;34m)\u001b[0m\u001b[0;34m.\u001b[0m\u001b[0mto_frame\u001b[0m\u001b[0;34m(\u001b[0m\u001b[0;34m\"Total Frequency\"\u001b[0m\u001b[0;34m)\u001b[0m\u001b[0;34m\u001b[0m\u001b[0;34m\u001b[0m\u001b[0m\n\u001b[0m\u001b[1;32m      2\u001b[0m \u001b[0mranking\u001b[0m\u001b[0;34m.\u001b[0m\u001b[0mindex\u001b[0m \u001b[0;34m=\u001b[0m \u001b[0mmap\u001b[0m\u001b[0;34m(\u001b[0m\u001b[0musageCombinationToString\u001b[0m\u001b[0;34m,\u001b[0m \u001b[0mranking\u001b[0m\u001b[0;34m.\u001b[0m\u001b[0mindex\u001b[0m\u001b[0;34m)\u001b[0m\u001b[0;34m\u001b[0m\u001b[0;34m\u001b[0m\u001b[0m\n\u001b[1;32m      3\u001b[0m \u001b[0mranking\u001b[0m\u001b[0;34m.\u001b[0m\u001b[0mtake\u001b[0m\u001b[0;34m(\u001b[0m\u001b[0mrange\u001b[0m\u001b[0;34m(\u001b[0m\u001b[0;36m0\u001b[0m\u001b[0;34m,\u001b[0m \u001b[0;36m11\u001b[0m\u001b[0;34m)\u001b[0m\u001b[0;34m)\u001b[0m\u001b[0;34m.\u001b[0m\u001b[0msort_values\u001b[0m\u001b[0;34m(\u001b[0m\u001b[0mby\u001b[0m\u001b[0;34m=\u001b[0m\u001b[0;34m\"Total Frequency\"\u001b[0m\u001b[0;34m)\u001b[0m\u001b[0;34m.\u001b[0m\u001b[0mplot\u001b[0m\u001b[0;34m(\u001b[0m\u001b[0mkind\u001b[0m\u001b[0;34m=\u001b[0m\u001b[0;34m'barh'\u001b[0m\u001b[0;34m)\u001b[0m\u001b[0;34m\u001b[0m\u001b[0;34m\u001b[0m\u001b[0m\n",
      "\u001b[0;32m/usr/local/lib/python3.8/site-packages/pandas/core/frame.py\u001b[0m in \u001b[0;36m__getitem__\u001b[0;34m(self, key)\u001b[0m\n\u001b[1;32m   2900\u001b[0m             \u001b[0;32mif\u001b[0m \u001b[0mself\u001b[0m\u001b[0;34m.\u001b[0m\u001b[0mcolumns\u001b[0m\u001b[0;34m.\u001b[0m\u001b[0mnlevels\u001b[0m \u001b[0;34m>\u001b[0m \u001b[0;36m1\u001b[0m\u001b[0;34m:\u001b[0m\u001b[0;34m\u001b[0m\u001b[0;34m\u001b[0m\u001b[0m\n\u001b[1;32m   2901\u001b[0m                 \u001b[0;32mreturn\u001b[0m \u001b[0mself\u001b[0m\u001b[0;34m.\u001b[0m\u001b[0m_getitem_multilevel\u001b[0m\u001b[0;34m(\u001b[0m\u001b[0mkey\u001b[0m\u001b[0;34m)\u001b[0m\u001b[0;34m\u001b[0m\u001b[0;34m\u001b[0m\u001b[0m\n\u001b[0;32m-> 2902\u001b[0;31m             \u001b[0mindexer\u001b[0m \u001b[0;34m=\u001b[0m \u001b[0mself\u001b[0m\u001b[0;34m.\u001b[0m\u001b[0mcolumns\u001b[0m\u001b[0;34m.\u001b[0m\u001b[0mget_loc\u001b[0m\u001b[0;34m(\u001b[0m\u001b[0mkey\u001b[0m\u001b[0;34m)\u001b[0m\u001b[0;34m\u001b[0m\u001b[0;34m\u001b[0m\u001b[0m\n\u001b[0m\u001b[1;32m   2903\u001b[0m             \u001b[0;32mif\u001b[0m \u001b[0mis_integer\u001b[0m\u001b[0;34m(\u001b[0m\u001b[0mindexer\u001b[0m\u001b[0;34m)\u001b[0m\u001b[0;34m:\u001b[0m\u001b[0;34m\u001b[0m\u001b[0;34m\u001b[0m\u001b[0m\n\u001b[1;32m   2904\u001b[0m                 \u001b[0mindexer\u001b[0m \u001b[0;34m=\u001b[0m \u001b[0;34m[\u001b[0m\u001b[0mindexer\u001b[0m\u001b[0;34m]\u001b[0m\u001b[0;34m\u001b[0m\u001b[0;34m\u001b[0m\u001b[0m\n",
      "\u001b[0;32m/usr/local/lib/python3.8/site-packages/pandas/core/indexes/base.py\u001b[0m in \u001b[0;36mget_loc\u001b[0;34m(self, key, method, tolerance)\u001b[0m\n\u001b[1;32m   2895\u001b[0m                 \u001b[0;32mreturn\u001b[0m \u001b[0mself\u001b[0m\u001b[0;34m.\u001b[0m\u001b[0m_engine\u001b[0m\u001b[0;34m.\u001b[0m\u001b[0mget_loc\u001b[0m\u001b[0;34m(\u001b[0m\u001b[0mcasted_key\u001b[0m\u001b[0;34m)\u001b[0m\u001b[0;34m\u001b[0m\u001b[0;34m\u001b[0m\u001b[0m\n\u001b[1;32m   2896\u001b[0m             \u001b[0;32mexcept\u001b[0m \u001b[0mKeyError\u001b[0m \u001b[0;32mas\u001b[0m \u001b[0merr\u001b[0m\u001b[0;34m:\u001b[0m\u001b[0;34m\u001b[0m\u001b[0;34m\u001b[0m\u001b[0m\n\u001b[0;32m-> 2897\u001b[0;31m                 \u001b[0;32mraise\u001b[0m \u001b[0mKeyError\u001b[0m\u001b[0;34m(\u001b[0m\u001b[0mkey\u001b[0m\u001b[0;34m)\u001b[0m \u001b[0;32mfrom\u001b[0m \u001b[0merr\u001b[0m\u001b[0;34m\u001b[0m\u001b[0;34m\u001b[0m\u001b[0m\n\u001b[0m\u001b[1;32m   2898\u001b[0m \u001b[0;34m\u001b[0m\u001b[0m\n\u001b[1;32m   2899\u001b[0m         \u001b[0;32mif\u001b[0m \u001b[0mtolerance\u001b[0m \u001b[0;32mis\u001b[0m \u001b[0;32mnot\u001b[0m \u001b[0;32mNone\u001b[0m\u001b[0;34m:\u001b[0m\u001b[0;34m\u001b[0m\u001b[0;34m\u001b[0m\u001b[0m\n",
      "\u001b[0;31mKeyError\u001b[0m: 'MonadsUsedVector'"
     ]
    }
   ],
   "source": [
    "ranking = mtl_df['MonadsUsedVector'].value_counts().to_frame(\"Total Frequency\")\n",
    "ranking.index = map(usageCombinationToString, ranking.index)\n",
    "ranking.take(range(0, 11)).sort_values(by=\"Total Frequency\").plot(kind='barh')"
   ]
  },
  {
   "cell_type": "code",
   "execution_count": 894,
   "metadata": {},
   "outputs": [
    {
     "ename": "NameError",
     "evalue": "name 'ranking' is not defined",
     "output_type": "error",
     "traceback": [
      "\u001b[0;31m---------------------------------------------------------------------------\u001b[0m",
      "\u001b[0;31mNameError\u001b[0m                                 Traceback (most recent call last)",
      "\u001b[0;32m<ipython-input-894-0d72377010ac>\u001b[0m in \u001b[0;36m<module>\u001b[0;34m\u001b[0m\n\u001b[0;32m----> 1\u001b[0;31m \u001b[0menum_ranking\u001b[0m \u001b[0;34m=\u001b[0m \u001b[0mranking\u001b[0m\u001b[0;34m.\u001b[0m\u001b[0msort_values\u001b[0m\u001b[0;34m(\u001b[0m\u001b[0mby\u001b[0m\u001b[0;34m=\u001b[0m\u001b[0;34m\"Total Frequency\"\u001b[0m\u001b[0;34m,\u001b[0m \u001b[0mascending\u001b[0m\u001b[0;34m=\u001b[0m\u001b[0;32mFalse\u001b[0m\u001b[0;34m)\u001b[0m\u001b[0;34m.\u001b[0m\u001b[0mreset_index\u001b[0m\u001b[0;34m(\u001b[0m\u001b[0;34m)\u001b[0m\u001b[0;34m\u001b[0m\u001b[0;34m\u001b[0m\u001b[0m\n\u001b[0m\u001b[1;32m      2\u001b[0m \u001b[0menum_ranking\u001b[0m\u001b[0;34m\u001b[0m\u001b[0;34m\u001b[0m\u001b[0m\n",
      "\u001b[0;31mNameError\u001b[0m: name 'ranking' is not defined"
     ]
    }
   ],
   "source": [
    "enum_ranking = ranking.sort_values(by=\"Total Frequency\", ascending=False).reset_index()\n",
    "enum_ranking"
   ]
  },
  {
   "cell_type": "code",
   "execution_count": 895,
   "metadata": {},
   "outputs": [
    {
     "ename": "NameError",
     "evalue": "name 'ranking' is not defined",
     "output_type": "error",
     "traceback": [
      "\u001b[0;31m---------------------------------------------------------------------------\u001b[0m",
      "\u001b[0;31mNameError\u001b[0m                                 Traceback (most recent call last)",
      "\u001b[0;32m<ipython-input-895-d4470f7509e1>\u001b[0m in \u001b[0;36m<module>\u001b[0;34m\u001b[0m\n\u001b[0;32m----> 1\u001b[0;31m \u001b[0mranking\u001b[0m\u001b[0;34m.\u001b[0m\u001b[0mplot\u001b[0m\u001b[0;34m(\u001b[0m\u001b[0mkind\u001b[0m\u001b[0;34m=\u001b[0m\u001b[0;34m'bar'\u001b[0m\u001b[0;34m,\u001b[0m \u001b[0mlog\u001b[0m\u001b[0;34m=\u001b[0m\u001b[0;32mFalse\u001b[0m\u001b[0;34m,\u001b[0m \u001b[0mlegend\u001b[0m\u001b[0;34m=\u001b[0m\u001b[0;32mFalse\u001b[0m\u001b[0;34m,\u001b[0m \u001b[0mwidth\u001b[0m\u001b[0;34m=\u001b[0m\u001b[0;36m10\u001b[0m\u001b[0;34m)\u001b[0m\u001b[0;34m\u001b[0m\u001b[0;34m\u001b[0m\u001b[0m\n\u001b[0m\u001b[1;32m      2\u001b[0m \u001b[0max1\u001b[0m \u001b[0;34m=\u001b[0m \u001b[0mplt\u001b[0m\u001b[0;34m.\u001b[0m\u001b[0maxes\u001b[0m\u001b[0;34m(\u001b[0m\u001b[0;34m)\u001b[0m\u001b[0;34m\u001b[0m\u001b[0;34m\u001b[0m\u001b[0m\n\u001b[1;32m      3\u001b[0m \u001b[0mx_axis\u001b[0m \u001b[0;34m=\u001b[0m \u001b[0max1\u001b[0m\u001b[0;34m.\u001b[0m\u001b[0maxes\u001b[0m\u001b[0;34m.\u001b[0m\u001b[0mget_xaxis\u001b[0m\u001b[0;34m(\u001b[0m\u001b[0;34m)\u001b[0m\u001b[0;34m\u001b[0m\u001b[0;34m\u001b[0m\u001b[0m\n\u001b[1;32m      4\u001b[0m \u001b[0mx_axis\u001b[0m\u001b[0;34m.\u001b[0m\u001b[0mset_visible\u001b[0m\u001b[0;34m(\u001b[0m\u001b[0;32mFalse\u001b[0m\u001b[0;34m)\u001b[0m\u001b[0;34m\u001b[0m\u001b[0;34m\u001b[0m\u001b[0m\n",
      "\u001b[0;31mNameError\u001b[0m: name 'ranking' is not defined"
     ]
    }
   ],
   "source": [
    "ranking.plot(kind='bar', log=False, legend=False, width=10)\n",
    "ax1 = plt.axes()\n",
    "x_axis = ax1.axes.get_xaxis()\n",
    "x_axis.set_visible(False)"
   ]
  },
  {
   "cell_type": "code",
   "execution_count": 896,
   "metadata": {},
   "outputs": [
    {
     "ename": "NameError",
     "evalue": "name 'enum_ranking' is not defined",
     "output_type": "error",
     "traceback": [
      "\u001b[0;31m---------------------------------------------------------------------------\u001b[0m",
      "\u001b[0;31mNameError\u001b[0m                                 Traceback (most recent call last)",
      "\u001b[0;32m<ipython-input-896-0bc5cef40884>\u001b[0m in \u001b[0;36m<module>\u001b[0;34m\u001b[0m\n\u001b[1;32m      8\u001b[0m     \u001b[0;32mreturn\u001b[0m \u001b[0mdf\u001b[0m\u001b[0;34m.\u001b[0m\u001b[0mapply\u001b[0m\u001b[0;34m(\u001b[0m\u001b[0;32mlambda\u001b[0m \u001b[0mrow\u001b[0m\u001b[0;34m:\u001b[0m \u001b[0mrow\u001b[0m\u001b[0;34m[\u001b[0m\u001b[0;34m\"MonadsUsedCode\"\u001b[0m\u001b[0;34m]\u001b[0m \u001b[0;34m==\u001b[0m \u001b[0mc\u001b[0m\u001b[0;34m,\u001b[0m \u001b[0maxis\u001b[0m \u001b[0;34m=\u001b[0m \u001b[0;36m1\u001b[0m\u001b[0;34m)\u001b[0m\u001b[0;34m\u001b[0m\u001b[0;34m\u001b[0m\u001b[0m\n\u001b[1;32m      9\u001b[0m \u001b[0;34m\u001b[0m\u001b[0m\n\u001b[0;32m---> 10\u001b[0;31m \u001b[0mcombinationsNoState\u001b[0m \u001b[0;34m=\u001b[0m \u001b[0menum_ranking\u001b[0m\u001b[0;34m[\u001b[0m\u001b[0mnotContainsCombination\u001b[0m\u001b[0;34m(\u001b[0m\u001b[0menum_ranking\u001b[0m\u001b[0;34m,\u001b[0m \u001b[0;34m\"S\"\u001b[0m\u001b[0;34m)\u001b[0m\u001b[0;34m]\u001b[0m\u001b[0;34m\u001b[0m\u001b[0;34m\u001b[0m\u001b[0m\n\u001b[0m\u001b[1;32m     11\u001b[0m \u001b[0mcombinationsNoTrans\u001b[0m \u001b[0;34m=\u001b[0m \u001b[0menum_ranking\u001b[0m\u001b[0;34m[\u001b[0m\u001b[0mnotContainsCombination\u001b[0m\u001b[0;34m(\u001b[0m\u001b[0menum_ranking\u001b[0m\u001b[0;34m,\u001b[0m \u001b[0;34m\"T\"\u001b[0m\u001b[0;34m)\u001b[0m\u001b[0;34m]\u001b[0m\u001b[0;34m\u001b[0m\u001b[0;34m\u001b[0m\u001b[0m\n\u001b[1;32m     12\u001b[0m \u001b[0mcombinationsNoReader\u001b[0m \u001b[0;34m=\u001b[0m \u001b[0menum_ranking\u001b[0m\u001b[0;34m[\u001b[0m\u001b[0mnotContainsCombination\u001b[0m\u001b[0;34m(\u001b[0m\u001b[0menum_ranking\u001b[0m\u001b[0;34m,\u001b[0m \u001b[0;34m\"R\"\u001b[0m\u001b[0;34m)\u001b[0m\u001b[0;34m]\u001b[0m\u001b[0;34m\u001b[0m\u001b[0;34m\u001b[0m\u001b[0m\n",
      "\u001b[0;31mNameError\u001b[0m: name 'enum_ranking' is not defined"
     ]
    }
   ],
   "source": [
    "def containsCombination(df, c):\n",
    "    return df.apply(lambda row: all(map(lambda x: x in row[\"index\"], c)), axis = 1)\n",
    "\n",
    "def notContainsCombination(df, c):\n",
    "    return df.apply(lambda row: all(map(lambda x: x not in row[\"index\"], c)), axis = 1)\n",
    "\n",
    "def exclusivelyContainsCombination(df, c):\n",
    "    return df.apply(lambda row: row[\"MonadsUsedCode\"] == c, axis = 1)\n",
    "\n",
    "combinationsNoState = enum_ranking[notContainsCombination(enum_ranking, \"S\")]\n",
    "combinationsNoTrans = enum_ranking[notContainsCombination(enum_ranking, \"T\")]\n",
    "combinationsNoReader = enum_ranking[notContainsCombination(enum_ranking, \"R\")]\n",
    "\n",
    "\n",
    "print(\"No State: %s - No Trans: %s - No Reader: %s\" % (len(combinationsNoState),\n",
    "                                                       len(combinationsNoTrans),\n",
    "                                                       len(combinationsNoReader)))"
   ]
  },
  {
   "cell_type": "markdown",
   "metadata": {},
   "source": [
    "# No MTL Packages"
   ]
  },
  {
   "cell_type": "code",
   "execution_count": 897,
   "metadata": {},
   "outputs": [
    {
     "name": "stderr",
     "output_type": "stream",
     "text": [
      "/usr/local/lib/python3.8/site-packages/pandas/core/indexing.py:1596: SettingWithCopyWarning: \n",
      "A value is trying to be set on a copy of a slice from a DataFrame.\n",
      "Try using .loc[row_indexer,col_indexer] = value instead\n",
      "\n",
      "See the caveats in the documentation: https://pandas.pydata.org/pandas-docs/stable/user_guide/indexing.html#returning-a-view-versus-a-copy\n",
      "  self.obj[key] = _infer_fill_value(value)\n",
      "/usr/local/lib/python3.8/site-packages/pandas/core/indexing.py:1745: SettingWithCopyWarning: \n",
      "A value is trying to be set on a copy of a slice from a DataFrame.\n",
      "Try using .loc[row_indexer,col_indexer] = value instead\n",
      "\n",
      "See the caveats in the documentation: https://pandas.pydata.org/pandas-docs/stable/user_guide/indexing.html#returning-a-view-versus-a-copy\n",
      "  isetter(ilocs[0], value)\n"
     ]
    },
    {
     "data": {
      "text/plain": [
       "641"
      ]
     },
     "execution_count": 897,
     "metadata": {},
     "output_type": "execute_result"
    }
   ],
   "source": [
    "def computeMonadUsageForDataframe(theDf):\n",
    "\n",
    "    mtl_cont = mtl_modules[0:2]\n",
    "    mtl_error = mtl_modules[2:4]\n",
    "    mtl_except = mtl_modules[4:5]\n",
    "    mtl_identity= mtl_modules[5:6]\n",
    "    mtl_list = mtl_modules[6:7]\n",
    "    mtl_rws = mtl_modules[7:11]\n",
    "    mtl_reader = mtl_modules[11:13]\n",
    "    mtl_state = mtl_modules[13:17]\n",
    "    mtl_trans = mtl_modules[17:18]\n",
    "    mtl_writer = mtl_modules[18:]    \n",
    "    \n",
    "    theDf.loc[theDf.index, 'Continuation']  = theDf[mtl_cont].sum(axis=1).apply(lambda x: 1 if x > 0 else 0)\n",
    "    theDf.loc[theDf.index, 'Error']         = theDf[mtl_error].sum(axis=1).apply(lambda x: 1 if x > 0 else 0)\n",
    "    theDf.loc[theDf.index, 'Except']        = theDf[mtl_except].sum(axis=1).apply(lambda x: 1 if x > 0 else 0)\n",
    "    theDf.loc[theDf.index, 'Identity']      = theDf[mtl_identity].sum(axis=1).apply(lambda x: 1 if x > 0 else 0)\n",
    "    theDf.loc[theDf.index, 'List']          = theDf[mtl_list].sum(axis=1).apply(lambda x: 1 if x > 0 else 0)\n",
    "    theDf.loc[theDf.index, 'RWS']           = theDf[mtl_rws].sum(axis=1).apply(lambda x: 1 if x > 0 else 0)\n",
    "    theDf.loc[theDf.index, 'Reader']        = theDf[mtl_reader].sum(axis=1).apply(lambda x: 1 if x > 0 else 0)\n",
    "    theDf.loc[theDf.index, 'State']         = theDf[mtl_state].sum(axis=1).apply(lambda x: 1 if x > 0 else 0)\n",
    "    theDf.loc[theDf.index, 'Trans']         = theDf[mtl_trans].sum(axis=1).apply(lambda x: 1 if x > 0 else 0)\n",
    "    theDf.loc[theDf.index, 'Writer']        = theDf[mtl_writer].sum(axis=1).apply(lambda x: 1 if x > 0 else 0)\n",
    "    theDf.loc[theDf.index, 'MonadsUsed']    = theDf[mtl_monads].sum(axis=1)\n",
    "    \n",
    "    return theDf\n",
    "\n",
    "nomtl_df = df[df['mtl-direct'] == 0]\n",
    "nomtl_df = computeMonadUsageForDataframe(nomtl_df)\n",
    "len(nomtl_df)"
   ]
  },
  {
   "cell_type": "code",
   "execution_count": 898,
   "metadata": {},
   "outputs": [
    {
     "data": {
      "image/png": "[encoded data removed]",
      "text/plain": [
       "<Figure size 360x360 with 1 Axes>"
      ]
     },
     "metadata": {
      "needs_background": "light"
     },
     "output_type": "display_data"
    }
   ],
   "source": [
    "nomtl_usage = nomtl_df.groupby(['MonadsUsed'])['MonadsUsed'].count()\n",
    "nomtl_usage_plot = nomtl_usage.drop(0)\n",
    "nomtl_ax = nomtl_usage_plot.plot(figsize=(5,5), kind='bar', rot=360, position=0, color='red', legend=False)\n",
    "nomtl_ax.set_xlabel('# Monads', fontsize=20)\n",
    "nomtl_ax.set_ylabel('# Packages', fontsize=20)\n",
    "\n",
    "plt.savefig(f\"{path_figure}/nomtl_monads_usage_{lts_version}.png\", bbox_inches='tight')"
   ]
  },
  {
   "cell_type": "code",
   "execution_count": 899,
   "metadata": {},
   "outputs": [
    {
     "data": {
      "image/png": "[encoded data removed]",
      "text/plain": [
       "<Figure size 360x360 with 1 Axes>"
      ]
     },
     "metadata": {
      "needs_background": "light"
     },
     "output_type": "display_data"
    }
   ],
   "source": [
    "nomtl_per_monad_usage = nomtl_df[mtl_monads].sum().sort_values()\n",
    "nomtl_per_monad_ax = nomtl_per_monad_usage.plot(figsize=(5,5), kind='barh', color='red', log=False, width=0.4)\n",
    "nomtl_per_monad_ax.set_xlabel('#Packages', fontsize=20)\n",
    "\n",
    "plt.savefig(f\"{path_figure}/nomtl_monads_type_usage_{lts_version}.png\", bbox_inches='tight')"
   ]
  },
  {
   "cell_type": "code",
   "execution_count": 900,
   "metadata": {},
   "outputs": [
    {
     "data": {
      "text/plain": [
       "{'Continuation':       Control.Monad.Cont Control.Monad.Cont.Class\n",
       " Total                  0                        2,\n",
       " 'Error':       Control.Monad.Error Control.Monad.Error.Class\n",
       " Total                   3                         2,\n",
       " 'RWS':       Control.Monad.RWS Control.Monad.RWS.Class Control.Monad.RWS.Lazy  \\\n",
       " Total                 0                       2                      2   \n",
       " \n",
       "       Control.Monad.RWS.Strict  \n",
       " Total                        0  ,\n",
       " 'Reader':       Control.Monad.Reader Control.Monad.Reader.Class\n",
       " Total                    1                          2,\n",
       " 'Writer':       Control.Monad.Writer Control.Monad.Writer.Class  \\\n",
       " Total                    1                          2   \n",
       " \n",
       "       Control.Monad.Writer.Lazy Control.Monad.Writer.Strict  \n",
       " Total                         2                           0  ,\n",
       " 'State':       Control.Monad.State Control.Monad.State.Class Control.Monad.State.Lazy  \\\n",
       " Total                   4                         2                        2   \n",
       " \n",
       "       Control.Monad.State.Strict  \n",
       " Total                          1  ,\n",
       " 'Trans':       Control.Monad.Trans\n",
       " Total                   3}"
      ]
     },
     "execution_count": 900,
     "metadata": {},
     "output_type": "execute_result"
    }
   ],
   "source": [
    "nomtl_mdfs = df[df['mtl-direct'] == 0]\n",
    "nomtl_mdfs = generateMonadDataframes(nomtl_mdfs)\n",
    "nomtl_mdfs"
   ]
  },
  {
   "cell_type": "code",
   "execution_count": 901,
   "metadata": {},
   "outputs": [
    {
     "ename": "IndexError",
     "evalue": "index 1 is out of bounds for axis 0 with size 1",
     "output_type": "error",
     "traceback": [
      "\u001b[0;31m---------------------------------------------------------------------------\u001b[0m",
      "\u001b[0;31mIndexError\u001b[0m                                Traceback (most recent call last)",
      "\u001b[0;32m<ipython-input-901-50b25a9f7b37>\u001b[0m in \u001b[0;36m<module>\u001b[0;34m\u001b[0m\n\u001b[1;32m      3\u001b[0m \u001b[0;32mfor\u001b[0m \u001b[0mkey\u001b[0m \u001b[0;32min\u001b[0m \u001b[0mnomtl_mdfs\u001b[0m\u001b[0;34m:\u001b[0m\u001b[0;34m\u001b[0m\u001b[0;34m\u001b[0m\u001b[0m\n\u001b[1;32m      4\u001b[0m     \u001b[0mtopLevel\u001b[0m      \u001b[0;34m=\u001b[0m \u001b[0mnomtl_mdfs\u001b[0m\u001b[0;34m[\u001b[0m\u001b[0mkey\u001b[0m\u001b[0;34m]\u001b[0m\u001b[0;34m.\u001b[0m\u001b[0miloc\u001b[0m\u001b[0;34m[\u001b[0m\u001b[0;36m0\u001b[0m\u001b[0;34m]\u001b[0m\u001b[0;34m[\u001b[0m\u001b[0;36m0\u001b[0m\u001b[0;34m]\u001b[0m\u001b[0;34m\u001b[0m\u001b[0;34m\u001b[0m\u001b[0m\n\u001b[0;32m----> 5\u001b[0;31m     \u001b[0mclassLevel\u001b[0m    \u001b[0;34m=\u001b[0m \u001b[0mnomtl_mdfs\u001b[0m\u001b[0;34m[\u001b[0m\u001b[0mkey\u001b[0m\u001b[0;34m]\u001b[0m\u001b[0;34m.\u001b[0m\u001b[0miloc\u001b[0m\u001b[0;34m[\u001b[0m\u001b[0;36m0\u001b[0m\u001b[0;34m]\u001b[0m\u001b[0;34m[\u001b[0m\u001b[0;36m1\u001b[0m\u001b[0;34m]\u001b[0m\u001b[0;34m\u001b[0m\u001b[0;34m\u001b[0m\u001b[0m\n\u001b[0m\u001b[1;32m      6\u001b[0m     \u001b[0mlazyVariant\u001b[0m   \u001b[0;34m=\u001b[0m \u001b[0;36m0\u001b[0m\u001b[0;34m\u001b[0m\u001b[0;34m\u001b[0m\u001b[0m\n\u001b[1;32m      7\u001b[0m     \u001b[0mstrictVariant\u001b[0m \u001b[0;34m=\u001b[0m \u001b[0;36m0\u001b[0m\u001b[0;34m\u001b[0m\u001b[0;34m\u001b[0m\u001b[0m\n",
      "\u001b[0;32m/usr/local/lib/python3.8/site-packages/pandas/core/series.py\u001b[0m in \u001b[0;36m__getitem__\u001b[0;34m(self, key)\u001b[0m\n\u001b[1;32m    877\u001b[0m \u001b[0;34m\u001b[0m\u001b[0m\n\u001b[1;32m    878\u001b[0m         \u001b[0;32mif\u001b[0m \u001b[0mis_integer\u001b[0m\u001b[0;34m(\u001b[0m\u001b[0mkey\u001b[0m\u001b[0;34m)\u001b[0m \u001b[0;32mand\u001b[0m \u001b[0mself\u001b[0m\u001b[0;34m.\u001b[0m\u001b[0mindex\u001b[0m\u001b[0;34m.\u001b[0m\u001b[0m_should_fallback_to_positional\u001b[0m\u001b[0;34m(\u001b[0m\u001b[0;34m)\u001b[0m\u001b[0;34m:\u001b[0m\u001b[0;34m\u001b[0m\u001b[0;34m\u001b[0m\u001b[0m\n\u001b[0;32m--> 879\u001b[0;31m             \u001b[0;32mreturn\u001b[0m \u001b[0mself\u001b[0m\u001b[0;34m.\u001b[0m\u001b[0m_values\u001b[0m\u001b[0;34m[\u001b[0m\u001b[0mkey\u001b[0m\u001b[0;34m]\u001b[0m\u001b[0;34m\u001b[0m\u001b[0;34m\u001b[0m\u001b[0m\n\u001b[0m\u001b[1;32m    880\u001b[0m \u001b[0;34m\u001b[0m\u001b[0m\n\u001b[1;32m    881\u001b[0m         \u001b[0;32melif\u001b[0m \u001b[0mkey_is_scalar\u001b[0m\u001b[0;34m:\u001b[0m\u001b[0;34m\u001b[0m\u001b[0;34m\u001b[0m\u001b[0m\n",
      "\u001b[0;31mIndexError\u001b[0m: index 1 is out of bounds for axis 0 with size 1"
     ]
    }
   ],
   "source": [
    "nomtlsplit_df = pd.DataFrame(columns = [\"Top-level Module\", \"Class Module\", \"Lazy Variant\", \"Strict Variant\"])\n",
    "\n",
    "for key in nomtl_mdfs:    \n",
    "    topLevel      = nomtl_mdfs[key].iloc[0][0]\n",
    "    classLevel    = nomtl_mdfs[key].iloc[0][1]\n",
    "    lazyVariant   = 0\n",
    "    strictVariant = 0\n",
    "    if key in [\"RWS\", \"Writer\", \"State\"]:\n",
    "        lazyVariant   = nomtl_mdfs[key].iloc[0][2]\n",
    "        strictVariant = nomtl_mdfs[key].iloc[0][3]\n",
    "    \n",
    "    nomtlsplit_df.loc[key] = [topLevel, classLevel, lazyVariant, strictVariant]   \n",
    "\n",
    "nomtlsplit_df"
   ]
  },
  {
   "cell_type": "code",
   "execution_count": 902,
   "metadata": {},
   "outputs": [
    {
     "data": {
      "text/plain": [
       "<AxesSubplot:>"
      ]
     },
     "execution_count": 902,
     "metadata": {},
     "output_type": "execute_result"
    },
    {
     "data": {
      "image/png": "[encoded data removed]",
      "text/plain": [
       "<Figure size 576x576 with 1 Axes>"
      ]
     },
     "metadata": {
      "needs_background": "light"
     },
     "output_type": "display_data"
    }
   ],
   "source": [
    "nomtl_ax = plt.figure(figsize=(8,8)).add_subplot(111)\n",
    "nomtl_dfy = nomtlsplit_df.sort_values(by=\"Top-level Module\")\n",
    "nomtl_dfy.plot(ax=nomtl_ax, kind='barh', stacked=True, legend=True)"
   ]
  },
  {
   "cell_type": "code",
   "execution_count": null,
   "metadata": {},
   "outputs": [],
   "source": []
  },
  {
   "cell_type": "code",
   "execution_count": null,
   "metadata": {},
   "outputs": [],
   "source": []
  },
  {
   "cell_type": "code",
   "execution_count": null,
   "metadata": {},
   "outputs": [],
   "source": []
  },
  {
   "cell_type": "code",
   "execution_count": null,
   "metadata": {},
   "outputs": [],
   "source": []
  },
  {
   "cell_type": "code",
   "execution_count": null,
   "metadata": {},
   "outputs": [],
   "source": []
  },
  {
   "cell_type": "code",
   "execution_count": null,
   "metadata": {},
   "outputs": [],
   "source": []
  },
  {
   "cell_type": "code",
   "execution_count": null,
   "metadata": {},
   "outputs": [],
   "source": []
  },
  {
   "cell_type": "code",
   "execution_count": null,
   "metadata": {},
   "outputs": [],
   "source": []
  }
 ],
 "metadata": {
  "kernelspec": {
   "display_name": "Python 3",
   "language": "python",
   "name": "python3"
  },
  "language_info": {
   "codemirror_mode": {
    "name": "ipython",
    "version": 3
   },
   "file_extension": ".py",
   "mimetype": "text/x-python",
   "name": "python",
   "nbconvert_exporter": "python",
   "pygments_lexer": "ipython3",
   "version": "3.9.1"
  }
 },
 "nbformat": 4,
 "nbformat_minor": 4
}
