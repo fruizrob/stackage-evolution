{
 "cells": [
  {
   "cell_type": "code",
   "execution_count": 18,
   "id": "1b1fef4a-5956-4716-a8e0-e2a829744657",
   "metadata": {},
   "outputs": [],
   "source": [
    "import pandas as pd\n",
    "import numpy as np\n",
    "import re\n",
    "import matplotlib\n",
    "import matplotlib.pyplot as plt\n",
    "import operator\n",
    "\n",
    "%matplotlib inline\n",
    "plt.style.use('classic')"
   ]
  },
  {
   "cell_type": "code",
   "execution_count": 2,
   "id": "0f16b09c-449a-4be0-bee9-791e39ae681d",
   "metadata": {},
   "outputs": [],
   "source": [
    "lts_list = ['0-7', '2-22', '3-22', '6-35', '7-24', '9-21', '11-22', '12-14', '12-26', '13-11', '13-19', '14-27', '15-3', '16-11']\n",
    "df_list = []\n",
    "df_by_category_list = []\n",
    "\n",
    "for idx, lts in enumerate(lts_list):\n",
    "    df = pd.read_pickle(f'../../data/lts-{lts}/lts-{lts}.df')\n",
    "    df_list.append(df)\n",
    "    \n",
    "for idx, lts in enumerate(lts_list):\n",
    "    df = pd.read_pickle(f'../../data/lts-{lts}/lts-{lts}-by-category.df')\n",
    "    df_by_category_list.append(df)"
   ]
  },
  {
   "cell_type": "code",
   "execution_count": 4,
   "id": "af457734-7358-4d6e-a8a4-c20fbca2ab86",
   "metadata": {},
   "outputs": [],
   "source": [
    "deps = [('aeson', '>=0.6'), ('attoparsec', '>=0.11 && <0.14'), ('base', '>=4.6 && <5'), ('base16-bytestring', '==0.1.*'), ('base64-bytestring', '==1.0.*'), ('blaze-builder', '>=0.2.1.4 && <0.5'), ('byteable', '==0.1.*'), ('bytestring', '>=0.9 && <0.11'), ('case-insensitive', '>=0.2 && <1.3'), ('cereal', '>=0.3 && <0.6'), ('conduit', '==1.3.*'), ('conduit-extra', '==1.3.*'), ('containers', '>=0.4'), ('cryptonite', '>=0.11'), ('data-default', '>=0.5.3 && <0.8'), ('directory', '>=1.0 && <2.0'), ('exceptions', '>=0.8 && <0.11'), ('filepath', '>=1.1 && <1.5'), ('http-client-tls', '==0.3.*'), ('http-conduit', '==2.3.*'), ('http-types', '>=0.7 && <1.0'), ('lifted-base', '>=0.1 && <0.3'), ('memory', '-any'), ('monad-control', '>=0.3'), ('mtl', '==2.*'), ('old-locale', '==1.*'), ('resourcet', '==1.2.*'), ('safe', '==0.3.*'), ('scientific', '>=0.3'), ('tagged', '>=0.7 && <0.9'), ('text', '>=0.11'), ('time', '>=1.4.0 && <2.0'), ('transformers', '>=0.2.2 && <0.6'), ('unordered-containers', '>=0.2'), ('utf8-string', '>=0.3 && <1.1'), ('vector', '>=0.10'), ('xml-conduit', '>=1.8 && <2.0')]"
   ]
  },
  {
   "cell_type": "code",
   "execution_count": 55,
   "id": "537cf1aa-2f14-4bb6-925c-57fb29da5ce1",
   "metadata": {},
   "outputs": [
    {
     "name": "stdout",
     "output_type": "stream",
     "text": [
      ">=0.6\n",
      ">=0.11 && <0.14\n",
      ">=4.6 && <5\n",
      "==0.1.*\n",
      "==1.0.*\n",
      ">=0.2.1.4 && <0.5\n",
      "==0.1.*\n",
      ">=0.9 && <0.11\n",
      ">=0.2 && <1.3\n",
      ">=0.3 && <0.6\n",
      "==1.3.*\n",
      "==1.3.*\n",
      ">=0.4\n",
      ">=0.11\n",
      ">=0.5.3 && <0.8\n",
      ">=1.0 && <2.0\n",
      ">=0.8 && <0.11\n",
      ">=1.1 && <1.5\n",
      "==0.3.*\n",
      "==2.3.*\n",
      ">=0.7 && <1.0\n",
      ">=0.1 && <0.3\n",
      ">=0.3\n",
      "==2.*\n",
      "==1.*\n",
      "==1.2.*\n",
      "==0.3.*\n",
      ">=0.3\n",
      ">=0.7 && <0.9\n",
      ">=0.11\n",
      ">=1.4.0 && <2.0\n",
      ">=0.2.2 && <0.6\n",
      ">=0.2\n",
      ">=0.3 && <1.1\n",
      ">=0.10\n",
      ">=1.8 && <2.0\n"
     ]
    }
   ],
   "source": [
    "diff_version = {}\n",
    "for dep in deps:\n",
    "    dep_name = dep[0]\n",
    "    version = dep[1]\n",
    "    characters = '<>=*'\n",
    "    if not re.search('any',version):\n",
    "        print(version)\n",
    "        \n",
    "        for x in range(len(characters)):\n",
    "            version = version.replace(characters[x],'')            \n",
    "        list_version = version.split(' ')\n",
    "        size = len(list_version)\n",
    "        \n",
    "        if size == 1:\n",
    "            if list_version[0][-1] == '.':\n",
    "                list_number = list_version[0].split('.')\n",
    "                count = 0\n",
    "                for i in range(len(list_number)):\n",
    "                    if 'version'[i] == list_number[i]:\n",
    "                        count +=1\n",
    "                if  count == len(list_number):\n",
    "                    diff_version['pkg'] = [dep_name,version_pkg,'normal']\n",
    "                elif  'version' < list_version[0]:\n",
    "                    diff_version['pkg'] = [dep_name,version_pkg,'atrasada']  \n",
    "                elif  'version' > list_version[0]:\n",
    "                    diff_version['pkg'] = [dep_name,version_pkg,'adelantada']    \n",
    "            else:\n",
    "                if  'version' >= list_version[0]:\n",
    "                    diff_version['pkg'] = [dep_name,version_pkg,'normal']\n",
    "                elif  'version' < list_version[0]:\n",
    "                    diff_version['pkg'] = [dep_name,version_pkg,'atrasada']                 \n",
    "            \n",
    "        elif size == 3:\n",
    "            lower_ver = list_version[0]\n",
    "            upper_ver = list_version[2]\n",
    "            if lower_ver <= 'version' and upper_ver > 'version':\n",
    "                diff_version['pkg'] = [dep_name,version_pkg,'normal']\n",
    "            elif lower_ver > 'version':\n",
    "                diff_version['pkg'] = [dep_name,version_pkg,'atrasada']\n",
    "            elif upper_ver <= 'version':\n",
    "                diff_version['pkg'] = [dep_name,version_pkg,'adelantada']\n",
    "            \n",
    "            \n",
    "    "
   ]
  },
  {
   "cell_type": "code",
   "execution_count": 44,
   "id": "a840849c-8d0c-4af9-ba0f-ef729512bfc9",
   "metadata": {},
   "outputs": [
    {
     "name": "stdout",
     "output_type": "stream",
     "text": [
      "uw\n"
     ]
    }
   ],
   "source": [
    "if '5.'  '4.9.0.45':\n",
    "    print('uw')"
   ]
  },
  {
   "cell_type": "code",
   "execution_count": 54,
   "id": "dd3b8fbd-bf64-49b2-aeea-41ba39ec6035",
   "metadata": {},
   "outputs": [
    {
     "name": "stdout",
     "output_type": "stream",
     "text": [
      "41\n"
     ]
    }
   ],
   "source": [
    "string = '1.4'\n",
    "string =  string[-1]+'1'\n",
    "print(string)"
   ]
  },
  {
   "cell_type": "code",
   "execution_count": null,
   "id": "01c3d2c3-a683-4263-b2e1-54045a3dcd5d",
   "metadata": {},
   "outputs": [],
   "source": []
  }
 ],
 "metadata": {
  "kernelspec": {
   "display_name": "Python 3",
   "language": "python",
   "name": "python3"
  },
  "language_info": {
   "codemirror_mode": {
    "name": "ipython",
    "version": 3
   },
   "file_extension": ".py",
   "mimetype": "text/x-python",
   "name": "python",
   "nbconvert_exporter": "python",
   "pygments_lexer": "ipython3",
   "version": "3.8.10"
  }
 },
 "nbformat": 4,
 "nbformat_minor": 5
}
