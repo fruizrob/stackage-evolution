{
 "cells": [
  {
   "cell_type": "code",
   "execution_count": 1,
   "id": "53ea1ade",
   "metadata": {},
   "outputs": [],
   "source": [
    "import pandas as pd\n",
    "import numpy as np\n",
    "import matplotlib\n",
    "import matplotlib.pyplot as plt\n",
    "import operator\n",
    "import math\n",
    "import matplotlib.patches as mpatches\n",
    "from tabulate import tabulate\n",
    "from util.api import get_pkgs_usage_count, foo, get_lts_list\n",
    "\n",
    "%matplotlib inline\n",
    "plt.style.use('classic')"
   ]
  },
  {
   "cell_type": "code",
   "execution_count": 2,
   "id": "9cd58dc4",
   "metadata": {},
   "outputs": [],
   "source": [
    "lts_list = get_lts_list()\n",
    "df_list = []\n",
    "df_by_category_list = []\n",
    "\n",
    "for idx, lts in enumerate(lts_list):\n",
    "    df = pd.read_pickle(f'../../revissed_data/lts-{lts}/lts-{lts}.df')\n",
    "    df_list.append(df)\n",
    "    "
   ]
  },
  {
   "cell_type": "code",
   "execution_count": 3,
   "id": "a56b1006",
   "metadata": {},
   "outputs": [
    {
     "name": "stdout",
     "output_type": "stream",
     "text": [
      "-----------------------\n",
      "Processing LTS- 0-7\n",
      "-----------------------\n",
      "Processing LTS- 2-22\n",
      "-----------------------\n",
      "Processing LTS- 3-22\n",
      "-----------------------\n",
      "Processing LTS- 6-35\n",
      "-----------------------\n",
      "Processing LTS- 7-24\n",
      "-----------------------\n",
      "Processing LTS- 9-21\n",
      "-----------------------\n",
      "Processing LTS- 11-22\n",
      "-----------------------\n",
      "Processing LTS- 12-14\n",
      "-----------------------\n",
      "Processing LTS- 12-26\n",
      "-----------------------\n",
      "Processing LTS- 13-11\n",
      "-----------------------\n",
      "Processing LTS- 13-19\n",
      "-----------------------\n",
      "Processing LTS- 14-27\n",
      "-----------------------\n",
      "Processing LTS- 15-3\n",
      "-----------------------\n",
      "Processing LTS- 16-11\n",
      "-----------------------\n",
      "Processing LTS- 16-31\n",
      "-----------------------\n",
      "Processing LTS- 17-2\n",
      "-----------------------\n",
      "Processing LTS- 18-6\n",
      "-----------------------\n",
      "Processing LTS- 18-8\n",
      "-----------------------\n",
      "Processing LTS- 18-28\n",
      "-----------------------\n",
      "Processing LTS- 19-11\n"
     ]
    }
   ],
   "source": [
    "for idx,df in enumerate(df_list):\n",
    "    print('-----------------------')\n",
    "    print('Processing LTS-',lts_list[idx])\n",
    "    foo(df)"
   ]
  },
  {
   "cell_type": "code",
   "execution_count": 4,
   "id": "3af7417a",
   "metadata": {},
   "outputs": [],
   "source": [
    "mon_pkg = ['monad-logger','free','mtl','transformers']\n",
    "out_range = []\n",
    "out_range_monads =[]\n",
    "\n",
    "list_out_range = []\n",
    "list_out_range_monad = []\n",
    "for idx,df in enumerate(df_list):\n",
    "    dict_out_range = []\n",
    "    dict_out_range_monad = []\n",
    "    \n",
    "    test = 0\n",
    "    count_out_range = 0\n",
    "    count_out_range_monad = 0\n",
    "    \n",
    "    for idx,row in df.iterrows():\n",
    "        pkg = row['package']\n",
    "        deps = row['dependencies_status']\n",
    "        \n",
    "        for dep in deps:\n",
    "            if deps[dep] == 'OUT_RANGE' and dep in mon_pkg:\n",
    "                count_out_range_monad+=1\n",
    "                dict_out_range_monad.append((pkg,dep))\n",
    "\n",
    "    list_out_range_monad.append(dict_out_range_monad)\n",
    "\n",
    "    out_range_monads.append(count_out_range_monad)"
   ]
  },
  {
   "cell_type": "code",
   "execution_count": 5,
   "id": "2e6170a5-0991-48fc-8795-8759e47ce67f",
   "metadata": {},
   "outputs": [],
   "source": [
    "table = [ [] for idx in range(len(list_out_range_monad))] \n",
    "for idx,df in enumerate(list_out_range_monad):\n",
    "    table[idx].append(lts_list[idx])\n",
    "    table[idx].append(list_out_range_monad[idx])\n",
    "headers = [\"lts\",\"Packages\"]"
   ]
  },
  {
   "cell_type": "code",
   "execution_count": 6,
   "id": "5de0428f",
   "metadata": {},
   "outputs": [
    {
     "name": "stdout",
     "output_type": "stream",
     "text": [
      "lts    Packages\n",
      "-----  ------------------------------------------------\n",
      "0-7    [('ghc-mod', 'mtl')]\n",
      "2-22   [('ghc-mod', 'mtl'), ('linear', 'transformers')]\n",
      "3-22   []\n",
      "6-35   []\n",
      "7-24   []\n",
      "9-21   []\n",
      "11-22  []\n",
      "12-14  []\n",
      "12-26  []\n",
      "13-11  []\n",
      "13-19  []\n",
      "14-27  []\n",
      "15-3   []\n",
      "16-11  []\n",
      "16-31  []\n",
      "17-2   []\n",
      "18-6   []\n",
      "18-8   []\n",
      "18-28  []\n",
      "19-11  []\n"
     ]
    }
   ],
   "source": [
    "print(tabulate(table, headers=headers, tablefmt=\"simple\"))"
   ]
  },
  {
   "cell_type": "code",
   "execution_count": 7,
   "id": "adfd867a-e853-402b-815e-cb18fcafd74e",
   "metadata": {},
   "outputs": [
    {
     "data": {
      "text/plain": [
       "[('ghc-mod', 'mtl')]"
      ]
     },
     "execution_count": 7,
     "metadata": {},
     "output_type": "execute_result"
    }
   ],
   "source": [
    "list_out_range_monad[0]"
   ]
  },
  {
   "cell_type": "code",
   "execution_count": 8,
   "id": "13a0dc3d",
   "metadata": {},
   "outputs": [
    {
     "name": "stdout",
     "output_type": "stream",
     "text": [
      "-----------------------\n",
      "Processing LTS- 0-7 0\n",
      "Total pkgs with monads deps out of range:  1\n",
      "------------Packages with deps-----------\n",
      "[('ghc-mod', 'mtl')] \n",
      "\n",
      "-----------------------\n",
      "Processing LTS- 2-22 1\n",
      "Total pkgs with monads deps out of range:  2\n",
      "------------Packages with deps-----------\n",
      "[('ghc-mod', 'mtl'), ('linear', 'transformers')] \n",
      "\n"
     ]
    }
   ],
   "source": [
    "for idx,df in enumerate(list_out_range_monad):\n",
    "    if df:\n",
    "        print('-----------------------')\n",
    "        print('Processing LTS-',lts_list[idx], idx)\n",
    "        print('Total pkgs with monads deps out of range: ',out_range_monads[idx])\n",
    "        print('------------Packages with deps-----------')\n",
    "        print(df,'\\n')"
   ]
  },
  {
   "cell_type": "code",
   "execution_count": 9,
   "id": "14c59beb",
   "metadata": {},
   "outputs": [],
   "source": [
    "listC = df_list[0][df_list[0]['package']=='ghc-mod']['version-range-deps']"
   ]
  },
  {
   "cell_type": "code",
   "execution_count": 10,
   "id": "1dd66dce",
   "metadata": {},
   "outputs": [
    {
     "data": {
      "text/html": [
       "<div>\n",
       "<style scoped>\n",
       "    .dataframe tbody tr th:only-of-type {\n",
       "        vertical-align: middle;\n",
       "    }\n",
       "\n",
       "    .dataframe tbody tr th {\n",
       "        vertical-align: top;\n",
       "    }\n",
       "\n",
       "    .dataframe thead th {\n",
       "        text-align: right;\n",
       "    }\n",
       "</style>\n",
       "<table border=\"1\" class=\"dataframe\">\n",
       "  <thead>\n",
       "    <tr style=\"text-align: right;\">\n",
       "      <th></th>\n",
       "      <th>package</th>\n",
       "      <th>version</th>\n",
       "      <th>stability</th>\n",
       "      <th>cabal-file</th>\n",
       "      <th>categories</th>\n",
       "      <th>deps</th>\n",
       "      <th>provided-modules</th>\n",
       "      <th>src-dirs</th>\n",
       "      <th>main-modules</th>\n",
       "      <th>mtl-direct</th>\n",
       "      <th>...</th>\n",
       "      <th>Control.Monad</th>\n",
       "      <th>System.IO</th>\n",
       "      <th>Control.Monad.Logger</th>\n",
       "      <th>Control.Monad.Logger.CallStack</th>\n",
       "      <th>Control.Monad.Free</th>\n",
       "      <th>Control.Monad.Free.Ap</th>\n",
       "      <th>Control.Monad.Free.Church</th>\n",
       "      <th>Control.Monad.Free.Class</th>\n",
       "      <th>Control.Monad.Free.TH</th>\n",
       "      <th>dependencies_status</th>\n",
       "    </tr>\n",
       "  </thead>\n",
       "  <tbody>\n",
       "    <tr>\n",
       "      <th>mtl-2.1.3.1</th>\n",
       "      <td>mtl</td>\n",
       "      <td>2.1.3.1</td>\n",
       "      <td>[]</td>\n",
       "      <td>/mnt/c/Users/nicol/Desktop/lts/Test/lts-0-7/mt...</td>\n",
       "      <td>[control]</td>\n",
       "      <td>[base, transformers]</td>\n",
       "      <td>[Control.Monad.Cont, Control.Monad.Cont.Class,...</td>\n",
       "      <td>[]</td>\n",
       "      <td>[]</td>\n",
       "      <td>0</td>\n",
       "      <td>...</td>\n",
       "      <td>1</td>\n",
       "      <td>0</td>\n",
       "      <td>0</td>\n",
       "      <td>0</td>\n",
       "      <td>0</td>\n",
       "      <td>0</td>\n",
       "      <td>0</td>\n",
       "      <td>0</td>\n",
       "      <td>0</td>\n",
       "      <td>{'base': 'IN_RANGE', 'transformers': 'IN_RANGE'}</td>\n",
       "    </tr>\n",
       "  </tbody>\n",
       "</table>\n",
       "<p>1 rows × 67 columns</p>\n",
       "</div>"
      ],
      "text/plain": [
       "            package  version stability  \\\n",
       "mtl-2.1.3.1     mtl  2.1.3.1        []   \n",
       "\n",
       "                                                    cabal-file categories  \\\n",
       "mtl-2.1.3.1  /mnt/c/Users/nicol/Desktop/lts/Test/lts-0-7/mt...  [control]   \n",
       "\n",
       "                             deps  \\\n",
       "mtl-2.1.3.1  [base, transformers]   \n",
       "\n",
       "                                              provided-modules src-dirs  \\\n",
       "mtl-2.1.3.1  [Control.Monad.Cont, Control.Monad.Cont.Class,...       []   \n",
       "\n",
       "            main-modules  mtl-direct  ... Control.Monad System.IO  \\\n",
       "mtl-2.1.3.1           []           0  ...             1         0   \n",
       "\n",
       "            Control.Monad.Logger Control.Monad.Logger.CallStack  \\\n",
       "mtl-2.1.3.1                    0                              0   \n",
       "\n",
       "            Control.Monad.Free Control.Monad.Free.Ap  \\\n",
       "mtl-2.1.3.1                  0                     0   \n",
       "\n",
       "             Control.Monad.Free.Church  Control.Monad.Free.Class  \\\n",
       "mtl-2.1.3.1                          0                         0   \n",
       "\n",
       "             Control.Monad.Free.TH  \\\n",
       "mtl-2.1.3.1                      0   \n",
       "\n",
       "                                          dependencies_status  \n",
       "mtl-2.1.3.1  {'base': 'IN_RANGE', 'transformers': 'IN_RANGE'}  \n",
       "\n",
       "[1 rows x 67 columns]"
      ]
     },
     "execution_count": 10,
     "metadata": {},
     "output_type": "execute_result"
    }
   ],
   "source": [
    "df_list[0][df_list[0]['package']=='mtl']"
   ]
  },
  {
   "cell_type": "code",
   "execution_count": 11,
   "id": "b810fd73",
   "metadata": {},
   "outputs": [
    {
     "name": "stdout",
     "output_type": "stream",
     "text": [
      "[('async', '>=2.0.1.6 && <2.1'), ('base', '>=4.0 && <5'), ('containers',), ('data-default', '>=0.5.3 && <0.6'), ('deepseq',), ('directory',), ('djinn-ghc', '>=0.0.2.2 && <0.1'), ('filepath',), ('ghc', '>=7.4 && <7.10'), ('ghc', '>=7.4 && <7.10'), ('ghc-mod',), ('ghc-paths', '>=0.1.0.9 && <0.2'), ('ghc-syb-utils', '>=0.2.2 && <0.3'), ('haskell-src-exts', '>=1.16.0 && <1.17'), ('hlint', '>=1.8.61 && <1.9'), ('io-choice', '>=0.0.5 && <0.1'), ('monad-control', '>=0.3.3.0 && <0.4'), ('monad-journal', '>=0.4 && <0.5'), ('mtl', '>=2.0'), ('mtl', '>=2.0 && <2.1'), ('old-time',), ('pretty',), ('process',), ('split', '>=0.2.2 && <0.3'), ('syb', '>=0.4.2 && <0.5'), ('temporary', '>=1.2.0.3 && <1.3'), ('text', '>=1.2.0.0 && <1.3'), ('time',), ('transformers',), ('transformers-base', '>=0.4.3 && <0.5')]\n"
     ]
    }
   ],
   "source": [
    "for pkg in listC:\n",
    "    print(pkg)"
   ]
  },
  {
   "cell_type": "code",
   "execution_count": null,
   "id": "2ea88736",
   "metadata": {},
   "outputs": [],
   "source": []
  }
 ],
 "metadata": {
  "kernelspec": {
   "display_name": "Python 3 (ipykernel)",
   "language": "python",
   "name": "python3"
  },
  "language_info": {
   "codemirror_mode": {
    "name": "ipython",
    "version": 3
   },
   "file_extension": ".py",
   "mimetype": "text/x-python",
   "name": "python",
   "nbconvert_exporter": "python",
   "pygments_lexer": "ipython3",
   "version": "3.10.5"
  }
 },
 "nbformat": 4,
 "nbformat_minor": 5
}
