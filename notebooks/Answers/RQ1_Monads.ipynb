{
 "cells": [
  {
   "cell_type": "code",
   "execution_count": 1,
   "id": "53ea1ade",
   "metadata": {},
   "outputs": [],
   "source": [
    "import pandas as pd\n",
    "import numpy as np\n",
    "import matplotlib\n",
    "import matplotlib.pyplot as plt\n",
    "import operator\n",
    "import math\n",
    "import matplotlib.patches as mpatches\n",
    "from tabulate import tabulate\n",
    "from util.api import get_pkgs_usage_count, foo, get_lts_list\n",
    "\n",
    "%matplotlib inline\n",
    "plt.style.use('classic')"
   ]
  },
  {
   "cell_type": "markdown",
   "id": "75ecd93f-0fa1-46eb-b315-f6161b4bad7b",
   "metadata": {},
   "source": [
    "# Research Questions (RQs)\n",
    "\n",
    "- **RQ 1.** What packages are the most used? Which of them are outside from the Stackage selection?\n",
    "- **RQ 2.** How many dependencies of packages are outside from the Stackage selection (in)directly?\n",
    "- **RQ 3.** How frequently are the packages updated? \n",
    "\n",
    "Regarding monads, we analyze the evolution of dependencies of monad modules available in the mtl package:\n",
    "\n",
    "- **RQ 4.** How has the use of monads evolved?\n",
    "- **RQ 5.** Are there packages that stopped using monads?\n",
    "\n",
    "## RQ1 - Este notebook es informativo, para conocer si hubieron paquetes cuya dependencia estuviera fuera de rango y fuera parte del conjunto de mónadas seleccionadas a analizar"
   ]
  },
  {
   "cell_type": "code",
   "execution_count": 2,
   "id": "9cd58dc4",
   "metadata": {},
   "outputs": [],
   "source": [
    "lts_list = get_lts_list()\n",
    "df_list = []\n",
    "df_list_revissed = []\n",
    "df_by_category_list = []\n",
    "\n",
    "for idx, lts in enumerate(lts_list):\n",
    "    df = pd.read_pickle(f'../../data/dfs/lts-{lts}/lts-{lts}.df')\n",
    "    df_list.append(df)\n",
    "for idx, lts in enumerate(lts_list):\n",
    "    df = pd.read_pickle(f'../../data/dfs_revissed/lts-{lts}/lts-{lts}.df')\n",
    "    df_list_revissed.append(df)\n",
    "    "
   ]
  },
  {
   "cell_type": "code",
   "execution_count": 3,
   "id": "a56b1006",
   "metadata": {},
   "outputs": [
    {
     "name": "stdout",
     "output_type": "stream",
     "text": [
      "-----------------------\n",
      "Processing LTS- 0-7\n",
      "-----------------------\n",
      "Processing LTS- 2-22\n",
      "-----------------------\n",
      "Processing LTS- 3-22\n",
      "-----------------------\n",
      "Processing LTS- 6-35\n",
      "-----------------------\n",
      "Processing LTS- 7-24\n",
      "-----------------------\n",
      "Processing LTS- 9-21\n",
      "-----------------------\n",
      "Processing LTS- 11-22\n",
      "-----------------------\n",
      "Processing LTS- 12-14\n",
      "-----------------------\n",
      "Processing LTS- 12-26\n",
      "-----------------------\n",
      "Processing LTS- 13-11\n",
      "-----------------------\n",
      "Processing LTS- 13-19\n",
      "-----------------------\n",
      "Processing LTS- 14-27\n",
      "-----------------------\n",
      "Processing LTS- 15-3\n",
      "-----------------------\n",
      "Processing LTS- 16-11\n",
      "-----------------------\n",
      "Processing LTS- 16-31\n",
      "-----------------------\n",
      "Processing LTS- 17-2\n",
      "-----------------------\n",
      "Processing LTS- 18-6\n",
      "-----------------------\n",
      "Processing LTS- 18-8\n",
      "-----------------------\n",
      "Processing LTS- 18-28\n",
      "-----------------------\n",
      "Processing LTS- 19-11\n"
     ]
    }
   ],
   "source": [
    "for idx,df in enumerate(df_list):\n",
    "    print('-----------------------')\n",
    "    print('Processing LTS-',lts_list[idx])\n",
    "    foo(df)"
   ]
  },
  {
   "cell_type": "code",
   "execution_count": 4,
   "id": "3af7417a",
   "metadata": {},
   "outputs": [],
   "source": [
    "mon_pkg = ['monad-logger','free','mtl','transformers']\n",
    "out_range = []\n",
    "out_range_monads =[]\n",
    "\n",
    "list_out_range = []\n",
    "list_out_range_monad = []\n",
    "for idx,df in enumerate(df_list):\n",
    "    dict_out_range = []\n",
    "    dict_out_range_monad = []\n",
    "    \n",
    "    test = 0\n",
    "    count_out_range = 0\n",
    "    count_out_range_monad = 0\n",
    "    \n",
    "    for idx,row in df.iterrows():\n",
    "        pkg = row['package']\n",
    "        deps = row['dependencies_status']\n",
    "        \n",
    "        for dep in deps:\n",
    "            if deps[dep] == 'OUT_RANGE' and dep in mon_pkg:\n",
    "                count_out_range_monad+=1\n",
    "                dict_out_range_monad.append((pkg,dep))\n",
    "\n",
    "    list_out_range_monad.append(dict_out_range_monad)\n",
    "\n",
    "    out_range_monads.append(count_out_range_monad)"
   ]
  },
  {
   "cell_type": "code",
   "execution_count": 5,
   "id": "2e6170a5-0991-48fc-8795-8759e47ce67f",
   "metadata": {},
   "outputs": [],
   "source": [
    "table = [ [] for idx in range(len(list_out_range_monad))] \n",
    "for idx,df in enumerate(list_out_range_monad):\n",
    "    table[idx].append(lts_list[idx])\n",
    "    table[idx].append(list_out_range_monad[idx])\n",
    "headers = [\"lts\",\"Packages\"]"
   ]
  },
  {
   "cell_type": "code",
   "execution_count": 6,
   "id": "13a0dc3d",
   "metadata": {},
   "outputs": [
    {
     "name": "stdout",
     "output_type": "stream",
     "text": [
      "-----------------------\n",
      "Processing LTS- 0-7 0\n",
      "Total pkgs with monads deps out of range:  1\n",
      "------------Packages with deps-----------\n",
      "[('ghc-mod', 'mtl')] \n",
      "\n",
      "-----------------------\n",
      "Processing LTS- 2-22 1\n",
      "Total pkgs with monads deps out of range:  2\n",
      "------------Packages with deps-----------\n",
      "[('ghc-mod', 'mtl'), ('linear', 'transformers')] \n",
      "\n"
     ]
    }
   ],
   "source": [
    "for idx,df in enumerate(list_out_range_monad):\n",
    "    if df:\n",
    "        print('-----------------------')\n",
    "        print('Processing LTS-',lts_list[idx], idx)\n",
    "        print('Total pkgs with monads deps out of range: ',out_range_monads[idx])\n",
    "        print('------------Packages with deps-----------')\n",
    "        print(df,'\\n')"
   ]
  },
  {
   "cell_type": "code",
   "execution_count": null,
   "id": "daa03399-2b02-4c4a-bcf0-d5838bd95c75",
   "metadata": {},
   "outputs": [],
   "source": [
    "for idx,df in enumerate(df_list_revissed):\n",
    "    print('-----------------------')\n",
    "    print('Processing LTS-',lts_list[idx])\n",
    "    foo(df)"
   ]
  },
  {
   "cell_type": "code",
   "execution_count": null,
   "id": "eed7eca2-1b9c-4754-8816-5a7968cf92c4",
   "metadata": {},
   "outputs": [],
   "source": [
    "mon_pkg = ['monad-logger','free','mtl','transformers']\n",
    "out_range = []\n",
    "out_range_monads =[]\n",
    "\n",
    "list_out_range = []\n",
    "list_out_range_monad = []\n",
    "for idx,df in enumerate(df_list):\n",
    "    dict_out_range = []\n",
    "    dict_out_range_monad = []\n",
    "    \n",
    "    test = 0\n",
    "    count_out_range = 0\n",
    "    count_out_range_monad = 0\n",
    "    \n",
    "    for idx,row in df.iterrows():\n",
    "        pkg = row['package']\n",
    "        deps = row['dependencies_status']\n",
    "        \n",
    "        for dep in deps:\n",
    "            if deps[dep] == 'OUT_RANGE' and dep in mon_pkg:\n",
    "                count_out_range_monad+=1\n",
    "                dict_out_range_monad.append((pkg,dep))\n",
    "\n",
    "    list_out_range_monad.append(dict_out_range_monad)\n",
    "\n",
    "    out_range_monads.append(count_out_range_monad)"
   ]
  },
  {
   "cell_type": "code",
   "execution_count": null,
   "id": "256d4f12-2441-4b66-86d7-7d9d134889b7",
   "metadata": {},
   "outputs": [],
   "source": [
    "table = [ [] for idx in range(len(list_out_range_monad))] \n",
    "for idx,df in enumerate(list_out_range_monad):\n",
    "    table[idx].append(lts_list[idx])\n",
    "    table[idx].append(list_out_range_monad[idx])\n",
    "headers = [\"lts\",\"Packages\"]"
   ]
  },
  {
   "cell_type": "code",
   "execution_count": null,
   "id": "3949f44b-2f31-4f56-9c1e-2f1e11fe2f2b",
   "metadata": {},
   "outputs": [],
   "source": [
    "for idx,df in enumerate(list_out_range_monad):\n",
    "    if df:\n",
    "        print('-----------------------')\n",
    "        print('Processing LTS-',lts_list[idx], idx)\n",
    "        print('Total pkgs with monads deps out of range: ',out_range_monads[idx])\n",
    "        print('------------Packages with deps-----------')\n",
    "        print(df,'\\n')"
   ]
  }
 ],
 "metadata": {
  "kernelspec": {
   "display_name": "Python 3.10.5 64-bit",
   "language": "python",
   "name": "python3"
  },
  "language_info": {
   "codemirror_mode": {
    "name": "ipython",
    "version": 3
   },
   "file_extension": ".py",
   "mimetype": "text/x-python",
   "name": "python",
   "nbconvert_exporter": "python",
   "pygments_lexer": "ipython3",
   "version": "3.10.5"
  },
  "vscode": {
   "interpreter": {
    "hash": "26de051ba29f2982a8de78e945f0abaf191376122a1563185a90213a26c5da77"
   }
  }
 },
 "nbformat": 4,
 "nbformat_minor": 5
}
