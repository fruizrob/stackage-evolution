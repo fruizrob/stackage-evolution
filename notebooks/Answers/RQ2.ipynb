{
 "cells": [
  {
   "cell_type": "code",
   "execution_count": 1,
   "id": "cf63b9d5-7fb5-43bd-9eb9-6bce53bf84ca",
   "metadata": {},
   "outputs": [],
   "source": [
    "import pandas as pd\n",
    "import numpy as np\n",
    "import matplotlib\n",
    "import matplotlib.pyplot as plt\n",
    "import operator\n",
    "\n",
    "from util.api import get_pkgs_indirect_dependency, calculate_bottom, diagram_box\n",
    "\n",
    "%matplotlib inline\n",
    "plt.style.use('classic')"
   ]
  },
  {
   "cell_type": "code",
   "execution_count": 2,
   "id": "03549209-a599-4c85-a461-acbbf539565b",
   "metadata": {},
   "outputs": [],
   "source": [
    "lts_list = ['0-7', '2-22', '3-22', '6-35', '7-24', '9-21', '11-22', '12-14', '12-26', '13-11', '13-19', '14-27', '15-3', '16-11']\n",
    "df_list = []\n",
    "df_by_category_list = []\n",
    "\n",
    "for idx, lts in enumerate(lts_list):\n",
    "    df = pd.read_pickle(f'../../data/lts-{lts}/lts-{lts}.df')\n",
    "    df_list.append(df)\n",
    "    \n",
    "for idx, lts in enumerate(lts_list):\n",
    "    df = pd.read_pickle(f'../../data/lts-{lts}/lts-{lts}-by-category.df')\n",
    "    df_by_category_list.append(df)"
   ]
  },
  {
   "cell_type": "code",
   "execution_count": null,
   "id": "1be93562-91d4-4404-8767-b718dd5370af",
   "metadata": {},
   "outputs": [],
   "source": [
    "ind_dependence_package = get_pkgs_indirect_dependency(df_list)"
   ]
  },
  {
   "cell_type": "code",
   "execution_count": null,
   "id": "31438b25-f926-42a3-927d-332dc41b4942",
   "metadata": {},
   "outputs": [],
   "source": [
    "for lts in range (len(df_list)):\n",
    "    print(lts_list[lts],'package: ',df_list[lts]['package'][df_list[lts]['len_ind_deps']==min(df_list[lts]['len_ind_deps'])][0],'total deps: ',min(df_list[lts]['len_ind_deps']))\n"
   ]
  },
  {
   "cell_type": "code",
   "execution_count": null,
   "id": "f7962d0e-f198-45b8-934a-ab805b7d24a1",
   "metadata": {},
   "outputs": [],
   "source": [
    "for lts in range (len(df_list)):\n",
    "    len_deps = []\n",
    "    for i,x in enumerate (list(df_list[lts]['deps'])):\n",
    "        len_deps.append(len(x))\n",
    "    df_list[lts]['len_deps'] = len_deps\n",
    "    print(lts_list[lts],'package: ',df_list[lts]['package'][df_list[lts]['len_deps']==max(df_list[lts]['len_deps'])][0],'total deps: ',max(df_list[lts]['len_deps']))\n",
    "    print(lts_list[lts],'package: ',df_list[lts]['package'][df_list[lts]['len_ind_deps']==max(df_list[lts]['len_ind_deps'])][0],'total deps: ',max(df_list[lts]['len_ind_deps']))\n",
    "    "
   ]
  },
  {
   "cell_type": "markdown",
   "id": "391eaec6-e21c-4872-9f71-2fb59feaa7b2",
   "metadata": {},
   "source": [
    "# Research Questions (RQs)\n",
    "\n",
    "- **RQ 1.** What packages are the most used? Which of them are outside from the Stackage selection?\n",
    "- **RQ 2.** How many dependencies of packages are outside from the Stackage selection (in)directly?\n",
    "- **RQ 3.** How frequently are the packages updated? \n",
    "\n",
    "Regarding monads, we analyze the evolution of dependencies of monad modules available in the mtl package:\n",
    "\n",
    "- **RQ 4.** How has the use of monads evolved?\n",
    "- **RQ 5.** Are there packages that stopped using monads?\n",
    "\n",
    "## **RQ 2.** How many packages are outside of Stackage due to his (in)direct dependencies?\n",
    "\n",
    "Procesamos todos los snapshots que consideramos en nuestra investigacion. Realizamos una busqueda en profundidad a las dependencias de cada paquete de los LTS, buscando alguna dependencia (in)directa que no se encontrara en la seleccion. Si este era el caso, se agregaba a un conjunto de paquetes que luego contabilizamos por cada LTS. Finalmente, calculamos el porcentage que estos paquetes representaban en cada snapshot.\n",
    "\n",
    "* Cambiar leyenda por: (in)directly\n",
    "\n",
    "- Mas del 12% de los paquetes quedan fuera de la seleccion indireamente al usar paquetes que non se encuentran en stackage\n",
    "- Inclusive este valor aumento con el tiempo llegando a alcanzar el 17% en (<año>) y manteniendose en un 15% durante todas las versiones.\n",
    "- algunos de los paquetes que tienen mas impacto en este problea son: ['quickcheck', 'microlens', 'hunit', 'cabal']\n",
    "-  en el caso de cabal, este paquete fue deprecado por uno nuevo llamado Cabal, sin embargo, existen paquetes que todavia lo utilizan\n"
   ]
  },
  {
   "cell_type": "code",
   "execution_count": null,
   "id": "5ea7191d-1b11-4d19-9bb4-a21f81448305",
   "metadata": {},
   "outputs": [],
   "source": [
    "count_dependency = {}\n",
    "aver_direct_dependency = []\n",
    "aver_indirect_dependency = []\n",
    "data = []\n",
    "\n",
    "for idx, df in enumerate(df_list):\n",
    "    totaldir = 0\n",
    "    totalind = 0\n",
    "    for idx, row in df.iterrows():\n",
    "        totaldir += row['len_deps']\n",
    "        totalind += row['len_ind_deps']\n",
    "    aver_direct_dependency.append(round(totaldir / len(df), 1))\n",
    "    aver_indirect_dependency.append(round(totalind / len(df), 1))\n",
    "    \n",
    "count_values = list(count_dependency)\n",
    "aver_values = list(aver_direct_dependency)\n",
    "aver_ind_values = list(aver_indirect_dependency)\n",
    "\n",
    "data.append(aver_values)\n",
    "data.append(aver_ind_values)"
   ]
  },
  {
   "cell_type": "code",
   "execution_count": null,
   "id": "e649f980-3470-4685-b088-8d864f7f3058",
   "metadata": {},
   "outputs": [],
   "source": [
    "fig, ax = plt.subplots(figsize=(12,8))\n",
    "ax.margins(0.015) \n",
    "plt.subplots_adjust(bottom=0.1, right=1.2, top=1)\n",
    "\n",
    "colors = ['darkgrey','lightgrey']\n",
    "dependences_type = ['Average directly dependences','Average indirectly dependences']\n",
    "for idx, dependences in enumerate(dependences_type):\n",
    "    bar = ax.bar(x=lts_list, height=data[idx], bottom=calculate_bottom(data, idx), width=0.8, color=colors[idx], align='center', label=dependences)\n",
    "    ax.bar_label(bar, labels=list(data[idx]), label_type='center', color='black', fontsize=15)\n",
    "\n",
    "ax.legend(loc='best')\n",
    "ax.set_xlabel('LTS release',fontsize=18)\n",
    "ax.set_ylabel('Number of dependences',fontsize=18)\n",
    "ax.set_xticks(lts_list)\n",
    "ax.set_xticklabels(lts_list,fontsize=15)\n",
    "ax.set_yticks([0, 5, 10, 15, 20, 25, 30, 35])\n",
    "ax.set_yticklabels(['0', '5', '10', '15', '20', '25', '30', '35'],fontsize=15)\n",
    "plt.savefig(\"../../graphs/rq2.pdf\", format='pdf', bbox_inches='tight')\n",
    "plt.show()"
   ]
  },
  {
   "cell_type": "code",
   "execution_count": null,
   "id": "078904c5-b882-40dd-9190-3fab55aaed35",
   "metadata": {},
   "outputs": [],
   "source": [
    "aux_list =  []\n",
    "for idx,df in enumerate (df_list):\n",
    "    aux_list.append(df_list[idx]['len_deps'])\n",
    "fig,ax = plt.subplots(figsize =(12, 8)) \n",
    "ax.boxplot(aux_list)\n",
    "plt.xticks([1,2,3,4,5,6,7,8,9,10,11,12,13,14],lts_list,size = 'small', color = 'k')\n",
    "ax.set_yticks([0,10,20, 30, 40, 50,60,70,80,90,100])\n",
    "ax.set_yticklabels(['0','10','20', '30', '40', '50','60','70','80','90','100'],fontsize=15)\n",
    "plt.show()"
   ]
  },
  {
   "cell_type": "code",
   "execution_count": null,
   "id": "ff9984b3-5afd-4e77-8836-a4881b51c13a",
   "metadata": {},
   "outputs": [],
   "source": [
    "aux_list =  []\n",
    "for idx,df in enumerate (df_list):\n",
    "    aux_list.append(df_list[idx]['len_ind_deps'])\n",
    "fig,ax = plt.subplots(figsize =(12, 8)) \n",
    "ax.boxplot(aux_list)\n",
    "plt.xticks([1,2,3,4,5,6,7,8,9,10,11,12,13,14],lts_list,size = 'small', color = 'k')\n",
    "ax.set_yticks([0,20,40, 60, 80, 100,120,140,160,180,200])\n",
    "ax.set_yticklabels(['0','20','40', '60', '80', '100','120','140','160','180','200'],fontsize=15)\n",
    "plt.show()"
   ]
  },
  {
   "cell_type": "code",
   "execution_count": null,
   "id": "90cd4269-cf26-4918-9350-28d695e6b1e8",
   "metadata": {},
   "outputs": [],
   "source": [
    "outlier_dir = diagram_box(list_direct_deps)\n",
    "outlier_ind = diagram_box(list_indirect_deps)"
   ]
  },
  {
   "cell_type": "code",
   "execution_count": null,
   "id": "7ad6a13f-97c0-4bb5-8431-8c73e67a5ac1",
   "metadata": {},
   "outputs": [],
   "source": [
    "fig, ax = plt.subplots(figsize=(12, 10))\n",
    "ax.margins(0.015) \n",
    "plt.subplots_adjust(right=1.1)\n",
    "\n",
    "more_deps = ['Outliers', 'Limit of dependences','Q3','Q2','Q1']\n",
    "colors = ['dimgrey', 'grey', 'darkgrey', 'silver', 'lightgrey', 'gainsboro']\n",
    "for idx, more_deps in enumerate(more_deps):\n",
    "    bar = ax.bar(x=lts_list, height=outlier_dir[idx], bottom=calculate_bottom(outlier_dir, idx), width=.8, color=colors[idx], align='center', label=more_deps)\n",
    "    ax.bar_label(bar, labels=list(map(lambda per: f\"{round(per)}%\",outlier_dir[idx])), label_type='center', color='black',fontsize=15)\n",
    "\n",
    "\n",
    "handles, labels = ax.get_legend_handles_labels()\n",
    "ax.legend(handles[::-1], labels[::-1], bbox_to_anchor=(1.01, 1), loc='upper left', borderaxespad=0.)\n",
    "\n",
    "ax.set_xticks(lts_list)\n",
    "ax.set_xticklabels(lts_list,fontsize=15)\n",
    "ax.set_yticks([10, 20, 30, 40, 50, 60, 70, 80, 90, 100])\n",
    "ax.set_yticklabels(['10%', '20%', '30%', '40%', '50%', '60%', '70%', '80%', '90%', '100%'],fontsize=15)\n",
    "ax.set_xlabel('LTS release',fontsize=18)\n",
    "ax.set_ylabel('Percentage of monad type use',fontsize=18)\n",
    "\n",
    "plt.savefig(\"../../graphs/rq2_1.pdf\", format='pdf', bbox_inches='tight')\n",
    "plt.show()"
   ]
  },
  {
   "cell_type": "code",
   "execution_count": null,
   "id": "bb273152-340f-40ad-89e8-d644f5eb0064",
   "metadata": {},
   "outputs": [],
   "source": [
    "fig, ax = plt.subplots(figsize=(12, 10))\n",
    "ax.margins(0.015) \n",
    "plt.subplots_adjust(right=1.1)\n",
    "\n",
    "more_deps = ['Outliers', 'Limit of dependences','Q3','Q2','Q1']\n",
    "colors = ['dimgrey', 'grey', 'darkgrey', 'silver', 'lightgrey', 'gainsboro']\n",
    "for idx, more_deps in enumerate(more_deps):\n",
    "    bar = ax.bar(x=lts_list, height=outlier_ind[idx], bottom=calculate_bottom(outlier_ind, idx), width=.8, color=colors[idx], align='center', label=more_deps)\n",
    "    ax.bar_label(bar, labels=list(map(lambda per: f\"{round(per)}%\",outlier_ind[idx])), label_type='center', color='black',fontsize=15)\n",
    "\n",
    "\n",
    "handles, labels = ax.get_legend_handles_labels()\n",
    "ax.legend(handles[::-1], labels[::-1], bbox_to_anchor=(1.01, 1), loc='upper left', borderaxespad=0.)\n",
    "\n",
    "ax.set_xticks(lts_list)\n",
    "ax.set_xticklabels(lts_list,fontsize=15)\n",
    "ax.set_yticks([10, 20, 30, 40, 50, 60, 70, 80, 90, 100])\n",
    "ax.set_yticklabels(['10%', '20%', '30%', '40%', '50%', '60%', '70%', '80%', '90%', '100%'],fontsize=15)\n",
    "ax.set_xlabel('LTS release',fontsize=18)\n",
    "ax.set_ylabel('Percentage of monad type use',fontsize=18)\n",
    "\n",
    "plt.savefig(\"../graphs/rq2_2.pdf\", format='pdf', bbox_inches='tight')\n",
    "plt.show()"
   ]
  }
 ],
 "metadata": {
  "kernelspec": {
   "display_name": "Python 3",
   "language": "python",
   "name": "python3"
  },
  "language_info": {
   "codemirror_mode": {
    "name": "ipython",
    "version": 3
   },
   "file_extension": ".py",
   "mimetype": "text/x-python",
   "name": "python",
   "nbconvert_exporter": "python",
   "pygments_lexer": "ipython3",
   "version": "3.8.10"
  }
 },
 "nbformat": 4,
 "nbformat_minor": 5
}
