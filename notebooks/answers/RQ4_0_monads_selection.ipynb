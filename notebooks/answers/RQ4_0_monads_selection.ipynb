{
 "cells": [
  {
   "cell_type": "code",
   "execution_count": 17,
   "id": "4e4937f4-6390-4d31-90ae-9764a218cf51",
   "metadata": {},
   "outputs": [],
   "source": [
    "import pandas as pd\n",
    "import matplotlib.pyplot as plt\n",
    "import os\n",
    "import requests\n",
    "import math\n",
    "from datetime import datetime, timedelta\n",
    "from pandas.plotting import register_matplotlib_converters\n",
    "from htmldate import find_date\n",
    "from util.api import get_lts_list\n",
    "from selenium import webdriver\n",
    "import requests\n",
    "from bs4 import BeautifulSoup\n",
    "import re\n",
    "%matplotlib inline\n",
    "plt.style.use('classic')"
   ]
  },
  {
   "cell_type": "code",
   "execution_count": 2,
   "id": "7df5c11f-8219-41e9-a7d2-60364a974c8e",
   "metadata": {},
   "outputs": [],
   "source": [
    "lts_list = get_lts_list()\n",
    "df_list = []\n",
    "df_by_category_list = []\n",
    "\n",
    "for idx, lts in enumerate(lts_list):\n",
    "    df = pd.read_pickle(f'../../data/dfs/lts-{lts}/lts-{lts}.df')\n",
    "    df_list.append(df)"
   ]
  },
  {
   "cell_type": "code",
   "execution_count": 6,
   "id": "f0ae7247-2876-4c1c-b33f-c3e496fafd05",
   "metadata": {},
   "outputs": [
    {
     "name": "stdout",
     "output_type": "stream",
     "text": [
      "----------Inicio calculo de descargas------------\n",
      "Total de descargas en la lts 85957416\n"
     ]
    }
   ],
   "source": [
    "#Este fragmento de codigo procesa el total de descargas de los paquetes presentes en la ultima lts que tenga el proyecto\n",
    "total_downloads = 0\n",
    "index = 0\n",
    "print('----------Inicio calculo de descargas------------')\n",
    "for idx,row in df_list[-1].iterrows():\n",
    "    # Make a request\n",
    "    url = \"https://hackage.haskell.org/package/%s\" % row[\"package\"]\n",
    "    page = requests.get(url)\n",
    "    soup = BeautifulSoup(page.content, 'html.parser')\n",
    "    downloads = 0\n",
    "    # Extract head of page\n",
    "    try:\n",
    "        downloads = 0\n",
    "        if index == math.trunc(len(df_list[-1])/4):\n",
    "            print('----------1/4 del progreso------------')\n",
    "        elif index == math.trunc(len(df_list[-1])/2):\n",
    "            print('----------2/4 del progreso------------')\n",
    "        elif index == math.trunc(3*(len(df_list[-1])/4)):\n",
    "            print('----------3/4 del progreso------------')\n",
    "        elif index == math.trunc(len(df_list[-1])-1):\n",
    "            print('----------4/4 del progreso------------')\n",
    "        datas = soup.find(id = 'properties')\n",
    "        downloads = datas.find(\"th\", string=\"Downloads\").parent.select(\"td\")\n",
    "        downloads = str(downloads[0]).replace(\"<td>\", \"\").split(\" \",1)\n",
    "        total_downloads += int(downloads[0])\n",
    "    except:\n",
    "        print(row[\"package\"])\n",
    "        print('----------------------')\n",
    "    index += 1\n",
    "    # print the result\n",
    "\n",
    "print(\"Total de descargas en la lts\",total_downloads)"
   ]
  },
  {
   "cell_type": "code",
   "execution_count": null,
   "id": "91bd4b8e-e95f-4eeb-866c-f72915ae5a78",
   "metadata": {},
   "outputs": [],
   "source": [
    "#Esto se encarga de obtener la descripcion de los paquetes presente en stackage\n",
    "\n",
    "url = \"https://www.stackage.org/lts-19.11\"# Si se desea obtener la data de otra lts se modifica la url\n",
    "page = requests.get(url)\n",
    "soup = BeautifulSoup(page.content, 'html.parser')\n",
    "# Extract head of page\n",
    "package_description = []\n",
    "\n",
    "datas = soup.find('tbody')\n",
    "columnas = datas.find_all(\"td\")\n",
    "for idx,dato in enumerate(columnas):\n",
    "    if idx%2:\n",
    "        package = str(columnas[idx-1]).split('</a')[0].split('\">')[1]\n",
    "        result = re.search(r\"(.*)-.*$\", package).group(1)\n",
    "        description = str(dato).split('</')[0].split('td>')[1]\n",
    "        package_description.append([result,description])"
   ]
  },
  {
   "cell_type": "code",
   "execution_count": null,
   "id": "3d0bcafe-9f66-4848-a16b-facae03efada",
   "metadata": {},
   "outputs": [],
   "source": [
    "columns = [\"Paquetes\",\"Descripcion\"]\n",
    "columns.extend(lts_list)"
   ]
  },
  {
   "cell_type": "code",
   "execution_count": null,
   "id": "63814d88-2b45-4e8e-b0a3-f3fc8e603035",
   "metadata": {},
   "outputs": [],
   "source": [
    "pkg_with_monad_descr = []\n",
    "pkg_with_all = []\n",
    "for pkg,descr in package_description:\n",
    "    descrLower = descr.lower()\n",
    "    if \"monad\" in descrLower:\n",
    "        pkg_with_monad_descr.append(pkg)\n",
    "        pkg_with_all.append([pkg,descr])\n",
    "pkg_with_monads = [[] for i in range(len(lts_list))]\n",
    "totalPkg = [\"Total paquetes\",\"Total de paquetes por LTS\"]\n",
    "for idx,df in enumerate(df_list):\n",
    "    print('|------------------------------|')\n",
    "    print(lts_list[idx])\n",
    "    print(\"cantidad de veces importado equivalente al 0,1%:\",len(df)*0.01)\n",
    "    totalPkg.append(len(df))\n",
    "    indiceMonads = 0\n",
    "    for monad in pkg_with_monad_descr:\n",
    "        usage = 0\n",
    "        for jdx,row in df.iterrows():\n",
    "            if monad  in row['deps']:\n",
    "                usage += 1\n",
    "        \n",
    "        if not df[df['package']==monad].empty:\n",
    "            pkg_with_all[indiceMonads].append(usage)\n",
    "            pkg_with_monads[idx].append(df[df['package']==monad]['package'])\n",
    "            if usage >= len(df)*0.01:\n",
    "                print(monad,' es importado un total  de: ',usage)\n",
    "        else:\n",
    "            pkg_with_all[indiceMonads].append(-1)\n",
    "        indiceMonads+=1\n",
    "pkg_with_all.append(totalPkg)\n"
   ]
  },
  {
   "cell_type": "code",
   "execution_count": null,
   "id": "544749d2-8660-40c8-9ecc-d527a02d40b8",
   "metadata": {},
   "outputs": [],
   "source": [
    "df_excel = pd.DataFrame(pkg_with_all,columns = columns)\n",
    "df_excel"
   ]
  },
  {
   "cell_type": "code",
   "execution_count": null,
   "id": "9ae6ac2f-d769-4678-84e9-b6e4cd2e1fff",
   "metadata": {},
   "outputs": [],
   "source": [
    "df_excel.to_excel('package_with_monads.xlsx', sheet_name='Total_pkg_monad', index=False)"
   ]
  },
  {
   "cell_type": "code",
   "execution_count": null,
   "id": "bde0dc93-2a0c-45a1-9962-6a4018f8f733",
   "metadata": {},
   "outputs": [],
   "source": []
  }
 ],
 "metadata": {
  "kernelspec": {
   "display_name": "Python 3 (ipykernel)",
   "language": "python",
   "name": "python3"
  },
  "language_info": {
   "codemirror_mode": {
    "name": "ipython",
    "version": 3
   },
   "file_extension": ".py",
   "mimetype": "text/x-python",
   "name": "python",
   "nbconvert_exporter": "python",
   "pygments_lexer": "ipython3",
   "version": "3.10.5"
  },
  "vscode": {
   "interpreter": {
    "hash": "26de051ba29f2982a8de78e945f0abaf191376122a1563185a90213a26c5da77"
   }
  }
 },
 "nbformat": 4,
 "nbformat_minor": 5
}
