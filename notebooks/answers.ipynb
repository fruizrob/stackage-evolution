{
 "cells": [
  {
   "cell_type": "markdown",
   "metadata": {},
   "source": [
    "# Libraries"
   ]
  },
  {
   "cell_type": "code",
   "execution_count": 1,
   "metadata": {},
   "outputs": [],
   "source": [
    "%matplotlib inline\n",
    "import pandas as pd\n",
    "import numpy as np\n",
    "import re\n",
    "import copy\n",
    "import matplotlib\n",
    "import matplotlib.pyplot as plt\n",
    "import seaborn as sns\n",
    "plt.style.use('classic')"
   ]
  },
  {
   "cell_type": "markdown",
   "metadata": {},
   "source": [
    "# Data and constants"
   ]
  },
  {
   "cell_type": "code",
   "execution_count": 3,
   "metadata": {},
   "outputs": [],
   "source": [
    "lts_list = ['0-7', '2-22', '3-22', '6-35', '7-24', '9-21', '11-22', '12-14', '12-26', '13-11', '13-19', '14-27', '15-3', '16-11', '16-22']\n",
    "df_list = []\n",
    "df_by_category_list = []\n",
    "\n",
    "path = '/Users/nicol/Documents/github/stackage-evolution/notebooks'\n",
    "\n",
    "for idx, lts in enumerate(lts_list):\n",
    "    df = pd.read_pickle(f'{path}/lts-{lts}/lts-{lts}.df')\n",
    "    df_list.append(df)\n",
    "    \n",
    "for idx, lts in enumerate(lts_list):\n",
    "    df = pd.read_pickle(f'{path}/lts-{lts}/lts-{lts}-by-category.df')\n",
    "    df_by_category_list.append(df)"
   ]
  },
  {
   "cell_type": "markdown",
   "metadata": {},
   "source": [
    "# 0 - Distribution\n",
    "\n",
    "In this section, we respond the following two questions:\n",
    "\n",
    "- How are packages distributed in stackage?\n",
    "- How are packages using mtl distributed in Stackage?\n",
    "\n",
    "For this, we make the following graphs\n",
    "\n",
    "1. Line graph that shows the number of packets for each published snapshot over time\n",
    "2. Bar graph that shows the evolution of the main categories of the packages\n",
    "3. Bar graph that shows the evolution of the stabilities of the packages\n",
    "4. Bar graph that shows the evolution of the main categories of the packages that depend of `mtl`\n",
    "5. Bar graph that shows the evolution of the stabilities of the packages that depend of `mtl`\n",
    "\n",
    "## 0.1 - Line graph that shows the number of packets for each published snapshot over time"
   ]
  },
  {
   "cell_type": "code",
   "execution_count": null,
   "metadata": {},
   "outputs": [],
   "source": [
    "from datetime import datetime,timedelta\n",
    "\n",
    "total_pkgs = []\n",
    "lts_datetim = [datetime(2014,12,27), datetime(2015,8,9), \n",
    "            datetime(2016,1,10), datetime(2017,6,5), \n",
    "            datetime(2017,5,28), datetime(2017,12,28), \n",
    "            datetime(2018,8,18), datetime(2018,10,21), \n",
    "            datetime(2018,12,30), datetime(2019,3,8), \n",
    "            datetime(2019,4,29), datetime(2020,2,15), \n",
    "            datetime(2020,3,7), datetime(2020,8,25), datetime(2021,1,17)]\n",
    "lts_date = [\"2014-12\", \"2015-08\", \"2016-01\", \"2017-07\", \"2017-05\", \"2017-12\", \n",
    "            \"2018-06\", \"2018-09\", \"2018-12\", \"2019-03\", \"2019-06\", \"2020-01\", \n",
    "            \"2020-04\", \"2020-08\", \"2021-01\"]\n",
    "dates = matplotlib.dates.date2num(lts_date)\n",
    "for df in df_list:\n",
    "    total_pkgs.append(len(df))"
   ]
  },
  {
   "cell_type": "code",
   "execution_count": null,
   "metadata": {},
   "outputs": [],
   "source": [
    "from pandas.plotting import register_matplotlib_converters\n",
    "register_matplotlib_converters()\n",
    "\n",
    "fig, ax = plt.subplots(figsize=(18,5))\n",
    "ax.margins(0.015) \n",
    "plt.subplots_adjust(right=1.1)\n",
    "\n",
    "\n",
    "#line = ax.plot(dates, total_pkgs, color='grey', marker='o',label='lts version')\n",
    "plt.plot_date(lts_datetim, total_pkgs, linestyle='solid',color='grey',label='lts version')\n",
    "plt.gcf().autofmt_xdate()\n",
    "\n",
    "for i in range(len(lts_list)):\n",
    "    plt.text(lts_datetim[i],total_pkgs[i],lts_list[i],ha=\"center\",va=\"bottom\")\n",
    "\n",
    "ax.set_yticks([0,500, 1000, 1500, 2000, 2500, 3000])\n",
    "ax.set_yticklabels(['0','500', '1000', '1500', '2000', '2500', '3000'])\n",
    "\n",
    "ax.set_xticks(dates)\n",
    "ax.set_xticklabels(lts_date)\n",
    "\n",
    "ax.set_xlabel('Published date')\n",
    "ax.set_ylabel('Number of packages')\n",
    "ax.legend(loc='upper left', fontsize='small', bbox_to_anchor=(0, 1))\n",
    "\n",
    "\n",
    "plt.show()"
   ]
  },
  {
   "cell_type": "markdown",
   "metadata": {},
   "source": [
    "## 0.2 - Bar graph that shows the evolution of the main categories of the packages"
   ]
  },
  {
   "cell_type": "code",
   "execution_count": null,
   "metadata": {},
   "outputs": [],
   "source": [
    "from api import create_lts_obj\n",
    "categories = ['data', 'web', 'control', 'text', 'network']\n",
    "data = {\n",
    "    'data': [],\n",
    "    'web': [],\n",
    "    'control': [],\n",
    "    'text': [],\n",
    "    'network': []\n",
    "}\n",
    "count_pkgs = {\n",
    "    'data': [],\n",
    "    'web': [],\n",
    "    'control': [],\n",
    "    'text': [],\n",
    "    'network': []\n",
    "}\n",
    "df_by_cat = []\n",
    "\n",
    "\n",
    "for idx, df in enumerate(df_by_category_list):\n",
    "    aux_df = df[['package', 'category']]\n",
    "    aux_df = aux_df.groupby(['category']).count().reset_index().rename(columns={\"package\": \"count\"})\n",
    "    aux_df.loc[:, 'version'] = lts_list[idx]\n",
    "    df_by_cat.append(aux_df.sort_values(by=['count'], ascending=False))\n",
    "    \n",
    "for category in categories:\n",
    "    for idx, lts in enumerate(lts_list):\n",
    "        total_pkgs = len(df_by_category_list[idx])\n",
    "        aux = int(df_by_cat[idx][df_by_cat[idx]['category'] == category]['count']) * 100 / total_pkgs   \n",
    "\n",
    "        count = int(df_by_cat[idx][df_by_cat[idx]['category'] == category]['count'])\n",
    "        count_pkgs[category].append(count)\n",
    "        data[category].append(aux)\n",
    "\n",
    "others = []\n",
    "per_others = []\n",
    "for idx, lts in enumerate(lts_list):\n",
    "    count = 0\n",
    "    for category in count_pkgs:\n",
    "        count += count_pkgs[category][idx]\n",
    "    \n",
    "    others.append(len(df_by_category_list[idx]) - count)\n",
    "    per_others.append((len(df_by_category_list[idx]) - count) * 100 / len(df_by_category_list[idx]))\n",
    "\n",
    "data['others'] = per_others\n",
    "count_pkgs['others'] = others"
   ]
  },
  {
   "cell_type": "code",
   "execution_count": null,
   "metadata": {},
   "outputs": [],
   "source": [
    "import operator\n",
    "fig, ax = plt.subplots(figsize=(12,8))\n",
    "ax.margins(0.015) \n",
    "plt.subplots_adjust(right=1.1)\n",
    "\n",
    "bar1 = ax.bar(x=lts_list, height=data['data'], width=0.8, color='dimgrey', align='center', label='data')\n",
    "bar2 = ax.bar(x=lts_list, height=data['web'], width=0.8, bottom=data['data'], color='grey', label='web')\n",
    "bar3 = ax.bar(x=lts_list, height=data['control'], width=0.8, bottom=list(map(operator.add, data['data'], data['web'])), color='darkgrey', label='control')\n",
    "bar4 = ax.bar(x=lts_list, height=data['text'], width=0.8, bottom=list(map(operator.add, list(map(operator.add, data['data'], data['web'])), data['control'])), color='silver', label='text')\n",
    "bar5 = ax.bar(x=lts_list, height=data['network'], width=0.8, bottom=list(map(operator.add, list(map(operator.add, list(map(operator.add, data['data'], data['web'])), data['control'])), data['text'])), color='whitesmoke', label='network')\n",
    "bar6 = ax.bar(x=lts_list, height=data['others'], width=0.8, bottom=list(map(operator.add, list(map(operator.add, list(map(operator.add, list(map(operator.add, data['data'], data['web'])), data['control'])), data['text'])), data['network'])), color='whitesmoke', label='others')\n",
    "\n",
    "ax.bar_label(bar1, labels=list(map(lambda per: f\"{round(per)}%\", data['data'])), label_type='center')\n",
    "ax.bar_label(bar2, labels=list(map(lambda per: f\"{round(per)}%\", data['web'])), label_type='center')\n",
    "ax.bar_label(bar3, labels=list(map(lambda per: f\"{round(per)}%\", data['control'])), label_type='center')\n",
    "ax.bar_label(bar4, labels=list(map(lambda per: f\"{round(per)}%\", data['text'])), label_type='center')\n",
    "ax.bar_label(bar5, labels=list(map(lambda per: f\"{round(per)}%\", data['network'])), label_type='center')\n",
    "ax.bar_label(bar6, labels=list(map(lambda per: f\"{round(per)}%\", data['others'])), label_type='center')\n",
    "\n",
    "\n",
    "ax.legend(loc='upper left', fontsize='small', bbox_to_anchor=(0, 1))\n",
    "ax.set_yticks([10, 20, 30, 40, 50, 60, 70, 80, 90, 100])\n",
    "ax.set_yticklabels(['10%', '20%', '30%', '40%', '50%', '60%', '70%', '80%', '90%', '100%'])\n",
    "plt.show()"
   ]
  },
  {
   "cell_type": "markdown",
   "metadata": {},
   "source": [
    "## 0.3 - Bar graph that shows the evolution of the stabilities of the packages"
   ]
  },
  {
   "cell_type": "code",
   "execution_count": null,
   "metadata": {},
   "outputs": [],
   "source": [
    "categories = ['data', 'web', 'control', 'text', 'network']\n",
    "data = {\n",
    "    'data': [],\n",
    "    'web': [],\n",
    "    'control': [],\n",
    "    'text': [],\n",
    "    'network': []\n",
    "}\n",
    "count_pkgs = {\n",
    "    'data': [],\n",
    "    'web': [],\n",
    "    'control': [],\n",
    "    'text': [],\n",
    "    'network': []\n",
    "}\n",
    "df_by_cat = []\n",
    "for idx, df in enumerate(df_by_category_list):\n",
    "    aux_df = df[['package', 'category', 'mtl-direct']]\n",
    "    aux_df = aux_df[aux_df['mtl-direct'] == 1].groupby(['category']).count().reset_index().rename(columns={\"package\": \"count\"})   \n",
    "    aux_df.loc[:, 'version'] = lts_list[idx]\n",
    "    df_by_cat.append(aux_df.sort_values(by=['count'], ascending=False))\n",
    "\n",
    "for category in categories:\n",
    "    for idx, df in enumerate(df_by_category_list):\n",
    "        total_pkgs = len(df_by_category_list[idx])\n",
    "        aux = int(df_by_cat[idx][df_by_cat[idx]['category'] == category]['count']) * 100 / total_pkgs   \n",
    "\n",
    "        count = int(df_by_cat[idx][df_by_cat[idx]['category'] == category]['count']) \n",
    "        count_pkgs[category].append(count)\n",
    "        data[category].append(aux)\n",
    "others = []\n",
    "per_others = []\n",
    "for idx, lts in enumerate(lts_list):\n",
    "    count = 0\n",
    "    for category in count_pkgs:\n",
    "        count += count_pkgs[category][idx]\n",
    "    \n",
    "    others.append(len(df_by_category_list[idx]) - count)\n",
    "    per_others.append((len(df_by_category_list[idx]) - count) * 100 / len(df_by_category_list[idx]))\n",
    "\n",
    "data['others'] = per_others\n",
    "count_pkgs['others'] = others\n"
   ]
  },
  {
   "cell_type": "code",
   "execution_count": null,
   "metadata": {},
   "outputs": [],
   "source": [
    "import operator\n",
    "fig, ax = plt.subplots(figsize=(12,8))\n",
    "ax.margins(0.015) \n",
    "plt.subplots_adjust(right=1.1)\n",
    "\n",
    "bar1 = ax.bar(x=lts_list, height=data['data'], width=0.8, color='dimgrey', align='center', label='data')\n",
    "bar2 = ax.bar(x=index, height=data['web'], width=0.8, bottom=data['data'], color='grey', label='web')\n",
    "bar3 = ax.bar(x=index, height=data['control'], width=0.8, bottom=list(map(operator.add, data['data'], data['web'])), color='darkgrey', label='control')\n",
    "bar4 = ax.bar(x=index, height=data['text'], width=0.8, bottom=list(map(operator.add, list(map(operator.add, data['data'], data['web'])), data['control'])), color='silver', label='text')\n",
    "bar5 = ax.bar(x=index, height=data['network'], width=0.8, bottom=list(map(operator.add, list(map(operator.add, list(map(operator.add, data['data'], data['web'])), data['control'])), data['text'])), color='whitesmoke', label='network')\n",
    "#bar6 = ax.bar(x=index, height=data['others'], width=0.8, bottom=list(map(operator.add, list(map(operator.add, list(map(operator.add, list(map(operator.add, data['data'], data['web'])), data['control'])), data['text'])), data['network'])), color='whitesmoke', label='others')\n",
    "\n",
    "\n",
    "ax.bar_label(bar1, labels=list(map(lambda per: f\"{round(per,1)}%\", data['data'])), label_type='center')\n",
    "ax.bar_label(bar2, labels=list(map(lambda per: f\"{round(per,1)}%\", data['web'])), label_type='center')\n",
    "ax.bar_label(bar3, labels=list(map(lambda per: f\"{round(per,1)}%\", data['control'])), label_type='center')\n",
    "ax.bar_label(bar4, labels=list(map(lambda per: f\"{round(per,1)}%\", data['text'])), label_type='center')\n",
    "ax.bar_label(bar5, labels=list(map(lambda per: f\"{round(per,1)}%\", data['network'])), label_type='center')\n",
    "#ax.bar_label(bar6, labels=list(map(lambda per: f\"{round(per)}%\", data['others'])), label_type='center')\n",
    "\n",
    "\n",
    "ax.legend(loc='upper right', fontsize='small')\n",
    "ax.set_yticks([5,10, 15, 20, 25])\n",
    "ax.set_yticklabels(['5%','10%', '15%','20%', '25%'])\n",
    "\n",
    "plt.show()"
   ]
  },
  {
   "cell_type": "markdown",
   "metadata": {},
   "source": [
    "## 0.4 - Bar graph that shows the evolution of the main categories of the packages that depend of `mtl`"
   ]
  },
  {
   "cell_type": "code",
   "execution_count": null,
   "metadata": {},
   "outputs": [],
   "source": [
    "from api import create_lts_obj\n",
    "stabilities = ['', 'experimental', 'stable', 'provisional', 'alpha', 'beta']\n",
    "data = {\n",
    "    '': [],\n",
    "    'experimental': [],\n",
    "    'stable': [],\n",
    "    'provisional': [],\n",
    "    'alpha': [],\n",
    "    'beta': []\n",
    "}\n",
    "count_pkgs = {\n",
    "    '': [],\n",
    "    'experimental': [],\n",
    "    'stable': [],\n",
    "    'provisional': [],\n",
    "    'alpha': [],\n",
    "    'beta': []\n",
    "}\n",
    "stability_df = []\n",
    "\n",
    "for idx, df in enumerate(df_list):\n",
    "    aux_df = df[['package', 'stability']]\n",
    "    aux_df = aux_df.groupby(['stability']).count().reset_index().rename(columns={\"package\": \"count\"})\n",
    "    aux_df.loc[:, 'version'] = lts_list[idx]\n",
    "    stability_df.append(aux_df.sort_values(by=['count'], ascending=False))\n",
    "\n",
    "for stability in stabilities:\n",
    "    for idx, lts in enumerate(df_list):\n",
    "        total_pkgs = len(df_list[idx])\n",
    "        \n",
    "        aux = int(stability_df[idx][stability_df[idx]['stability'] == stability]['count']) * 100 / total_pkgs\n",
    "        count = int(stability_df[idx][stability_df[idx]['stability'] == stability]['count'])\n",
    "        count_pkgs[stability].append(count)\n",
    "        data[stability].append(aux)\n",
    "        # print(f'version {lts_list[idx]} stability {stability} percentage {aux}')      \n",
    "stabilities[0]='n/a'\n",
    "for i in range (len(data['alpha'])):\n",
    "    data['alpha'][i] = data['alpha'][i]+data['beta'][i]"
   ]
  },
  {
   "cell_type": "code",
   "execution_count": null,
   "metadata": {},
   "outputs": [],
   "source": [
    "\n",
    "import operator\n",
    "fig, ax = plt.subplots(figsize=(12,8))\n",
    "ax.margins(0.015) \n",
    "plt.subplots_adjust(right=1.1)\n",
    "'''color = ['dimgrey','grey','darkgrey','silver','whitesmoke']\n",
    "for i, (colname, color) in enumerate(stabilities):\n",
    "    bar = ax.bar(x=lts_list,height=data[i], width=0.8, color='dimgrey', align='center', label='experimental')\n",
    "'''\n",
    "bar1 = ax.bar(x=lts_list, height=data['experimental'], width=0.8, color='dimgrey', align='center', label='experimental')\n",
    "bar2 = ax.bar(x=index, height=data['stable'], width=0.8, bottom=data['experimental'], color='grey', label='stable')\n",
    "bar3 = ax.bar(x=index, height=data['provisional'], width=0.8, bottom=list(map(operator.add, data['experimental'], data['stable'])), color='darkgrey', label='provisional')\n",
    "bar4 = ax.bar(x=index, height=data['alpha'], width=0.8, bottom=list(map(operator.add, list(map(operator.add, data['experimental'], data['stable'])), data['provisional'])), color='silver', label='alpha and beta')\n",
    "bar5 = ax.bar(x=index, height=data[''], width=0.8, bottom=list(map(operator.add, list(map(operator.add, list(map(operator.add, data['experimental'], data['stable'])), data['provisional'])), data['alpha'])), color='whitesmoke', label='n/a')\n",
    "#bar6 = ax.bar(x=index, height=data[''], width=0.8, bottom=list(map(operator.add, list(map(operator.add, list(map(operator.add, list(map(operator.add, data['experimental'], data['stable'])), data['provisional'])), data['alpha'])), data['beta'])), color='whitesmoke', label='n/a')\n",
    "#bar7 = ax.bar(x=index, height=data[''], width=0.8, bottom=list(map(operator.add,list(map(operator.add, list(map(operator.add, list(map(operator.add, list(map(operator.add, data[''], data['experimental'])), data['stable'])), data['provisional'])), data['alpha'])), data['beta'])), color='whitesmoke', label='others')\n",
    "\n",
    "ax.bar_label(bar1, labels=list(map(lambda per: f\"{round(per)}%\", data['experimental'])), label_type='center')\n",
    "ax.bar_label(bar2, labels=list(map(lambda per: f\"{round(per)}%\", data['stable'])), label_type='center')\n",
    "ax.bar_label(bar3, labels=list(map(lambda per: f\"{round(per)}%\", data['provisional'])), label_type='center')\n",
    "ax.bar_label(bar4, labels=list(map(lambda per: f\"{round(per)}%\", data['alpha'])), label_type='center')\n",
    "ax.bar_label(bar5, labels=list(map(lambda per: f\"{round(per)}%\", data[''])), label_type='center')\n",
    "#ax.bar_label(bar6, labels=list(map(lambda per: f\"{round(per)}%\", data[''])), label_type='center')\n",
    "#ax.bar_label(bar7, labels=list(map(lambda per: f\"{round(per)}%\", data['others'])), label_type='center')\n",
    "\n",
    "ax.legend(loc='upper left', fontsize='small', bbox_to_anchor=(0, 1))\n",
    "ax.set_yticks([10, 20, 30, 40, 50, 60, 70, 80, 90, 100])\n",
    "ax.set_yticklabels(['10%', '20%', '30%', '40%', '50%', '60%', '70%', '80%', '90%', '100%'])\n",
    "plt.show()"
   ]
  },
  {
   "cell_type": "markdown",
   "metadata": {},
   "source": [
    "## 0.5 - Bar graph that shows the evolution of the stabilities of the packages that depend of `mtl`"
   ]
  },
  {
   "cell_type": "code",
   "execution_count": null,
   "metadata": {},
   "outputs": [],
   "source": [
    "stabilities = ['', 'experimental', 'stable', 'provisional', 'alpha', 'beta']\n",
    "data = {\n",
    "    '': [],\n",
    "    'experimental': [],\n",
    "    'stable': [],\n",
    "    'provisional': [],\n",
    "    'alpha': [],\n",
    "    'beta': []\n",
    "}\n",
    "count_pkgs = {\n",
    "    '': [],\n",
    "    'experimental': [],\n",
    "    'stable': [],\n",
    "    'provisional': [],\n",
    "    'alpha': [],\n",
    "    'beta': []\n",
    "}\n",
    "stability_df = []\n",
    "\n",
    "for idx, df in enumerate(df_list):\n",
    "    aux_df = df[['package', 'stability', 'mtl-direct']]\n",
    "    aux_df = aux_df[aux_df['mtl-direct'] == 1].groupby(['stability']).count().reset_index().rename(columns={\"package\": \"count\"})\n",
    "    aux_df.loc[:, 'version'] = lts_list[idx]\n",
    "    stability_df.append(aux_df.sort_values(by=['count'], ascending=False))\n",
    "\n",
    "for stability in stabilities:\n",
    "    for idx, lts in enumerate(df_list):\n",
    "        total_pkgs = len(df_list[idx])\n",
    "        \n",
    "        aux = int(stability_df[idx][stability_df[idx]['stability'] == stability]['count']) * 100 / total_pkgs\n",
    "        count = int(stability_df[idx][stability_df[idx]['stability'] == stability]['count'])\n",
    "        count_pkgs[stability].append(count)\n",
    "        data[stability].append(aux)\n",
    "        # print(f'version {lts_list[idx]} stability {stability} percentage {aux}')      \n",
    "stabilities[0]='n/a'\n",
    "for i in range (len(data['alpha'])):\n",
    "    data['alpha'][i] = data['alpha'][i]+data['beta'][i]"
   ]
  },
  {
   "cell_type": "code",
   "execution_count": null,
   "metadata": {},
   "outputs": [],
   "source": [
    "fig, ax = plt.subplots(figsize=(12,8))\n",
    "ax.margins(0.015) \n",
    "plt.subplots_adjust(right=1.1)\n",
    "'''color = ['dimgrey','grey','darkgrey','silver','whitesmoke']\n",
    "for i, (colname, color) in enumerate(stabilities):\n",
    "    bar = ax.bar(x=lts_list,height=data[i], width=0.8, color='dimgrey', align='center', label='experimental')\n",
    "'''\n",
    "bar1 = ax.bar(x=lts_list, height=data['experimental'], width=0.8, color='dimgrey', align='center', label='experimental')\n",
    "bar2 = ax.bar(x=index, height=data['stable'], width=0.8, bottom=data['experimental'], color='grey', label='stable')\n",
    "bar3 = ax.bar(x=index, height=data['provisional'], width=0.8, bottom=list(map(operator.add, data['experimental'], data['stable'])), color='darkgrey', label='provisional')\n",
    "bar4 = ax.bar(x=index, height=data['alpha'], width=0.8, bottom=list(map(operator.add, list(map(operator.add, data['experimental'], data['stable'])), data['provisional'])), color='silver', label='alpha and beta')\n",
    "bar5 = ax.bar(x=index, height=data[''], width=0.8, bottom=list(map(operator.add, list(map(operator.add, list(map(operator.add, data['experimental'], data['stable'])), data['provisional'])), data['alpha'])), color='whitesmoke', label='n/a')\n",
    "#bar6 = ax.bar(x=index, height=data[''], width=0.8, bottom=list(map(operator.add, list(map(operator.add, list(map(operator.add, list(map(operator.add, data['experimental'], data['stable'])), data['provisional'])), data['alpha'])), data['beta'])), color='whitesmoke', label='n/a')\n",
    "#bar7 = ax.bar(x=index, height=data[''], width=0.8, bottom=list(map(operator.add,list(map(operator.add, list(map(operator.add, list(map(operator.add, list(map(operator.add, data[''], data['experimental'])), data['stable'])), data['provisional'])), data['alpha'])), data['beta'])), color='whitesmoke', label='others')\n",
    "\n",
    "ax.bar_label(bar1, labels=list(map(lambda per: f\"{round(per,1)}%\", data['experimental'])), label_type='center')\n",
    "ax.bar_label(bar2, labels=list(map(lambda per: f\"{round(per,1)}%\", data['stable'])), label_type='center')\n",
    "ax.bar_label(bar3, labels=list(map(lambda per: f\"{round(per,1)}%\", data['provisional'])), label_type='center')\n",
    "ax.bar_label(bar4, labels=list(map(lambda per: f\"{round(per,1)}%\", data['alpha'])), label_type='center')\n",
    "ax.bar_label(bar5, labels=list(map(lambda per: f\"{round(per,1)}%\", data[''])), label_type='center')\n",
    "#ax.bar_label(bar6, labels=list(map(lambda per: f\"{round(per)}%\", data[''])), label_type='center')\n",
    "#ax.bar_label(bar7, labels=list(map(lambda per: f\"{round(per)}%\", data['others'])), label_type='center')\n",
    "\n",
    "ax.legend(loc='upper right', fontsize='small')\n",
    "ax.set_yticks([5,10, 15, 20, 25])\n",
    "ax.set_yticklabels(['5%','10%', '15%','20%', '25%'])\n",
    "plt.show()"
   ]
  },
  {
   "cell_type": "markdown",
   "metadata": {},
   "source": [
    "# Research Questions (RQs)\n",
    "\n",
    "- **RQ 1.** What packages are the most used? Which of them are outside from the Stackage selection?\n",
    "- **RQ 2.** How many dependencies of packages are outside from the Stackage selection (in)directly?\n",
    "- **RQ 3.** How frequently are the packages updated? \n",
    "\n",
    "Regarding monads, we analyze the evolution of dependencies of monad modules available in the mtl package:\n",
    "\n",
    "- **RQ 4.** How has the use of monads evolved?\n",
    "- **RQ 5.** Are there packages that stopped using monads?\n",
    "\n",
    "\n",
    "## RQ 1. What packages are the most used? Which of them are outside from the Stackage selection?\n",
    "\n",
    "Consideramos el ultimo snapshot publicado en Stackage, especificamente el LTS 16.11. Utilizamos el campo **Dependencies** del DataFrame para obtener el listado de las dependencias de cada paquete y construimos un diccionario de todos los paquetes y sus dependencias. Contamos la cantidad de veces que fue requerido cada uno de ellos para posteriormente ordenarlos ascendentemente y filtrar el top 25 de los mas utilizados. Luego, restamos el conjunto de todos los paquetes seleccionados del LTS 16.11 a la lista de los top 25 mas utilizados para obtener los paquetes que no formaron parte de la seleccion."
   ]
  },
  {
   "cell_type": "code",
   "execution_count": 10,
   "metadata": {},
   "outputs": [],
   "source": [
    "from api import get_pkgs_usage_count\n",
    "top_25_pkgs = []\n",
    "top_25_count = []\n",
    "top_25_list = dict()\n",
    "\n",
    "'''\n",
    "for package in top_25_list['0-7']:\n",
    "    print(top_25_list['0-7'][package])\n",
    "\n",
    "    \n",
    "for lts in lts_list:\n",
    "    for pacakge in top_25_list[lts]:\n",
    "        print(top_25_list[lts][package])\n",
    "'''\n",
    "\n",
    "\n",
    "for idx, lts in enumerate(lts_list):\n",
    "    top_25 = dict()\n",
    "    packet_usage_count = get_pkgs_usage_count(df_list[idx])\n",
    "    ordered_pkgs = sorted(packet_usage_count, key=packet_usage_count.get, reverse=True)[:25]\n",
    "\n",
    "    for pkg in ordered_pkgs:\n",
    "        top_25_pkgs.append(pkg)\n",
    "        top_25_count.append(packet_usage_count[pkg])\n",
    "        top_25[pkg] = packet_usage_count[pkg]\n",
    "    \n",
    "    top_25_list[lts] = top_25 "
   ]
  },
  {
   "cell_type": "markdown",
   "metadata": {},
   "source": [
    "### Se encarga de generar el codigo de latex del top 10 de archivos"
   ]
  },
  {
   "cell_type": "code",
   "execution_count": 59,
   "metadata": {},
   "outputs": [],
   "source": [
    "top = 6\n",
    "latex = ''\n",
    "list_lts_top25 = []\n",
    "for lts in lts_list:\n",
    "    list_top25 = list(top_25_list[lts].keys())\n",
    "    list_lts_top25.append(list_top25)\n",
    "\n",
    "for j in range(5,16):\n",
    "    for i in range(len(list_lts_top25)-1):\n",
    "        if i == 0:\n",
    "            latex = latex + 'Top '+str(top)+' & '+list_lts_top25[i][j] + ' & '\n",
    "        elif i == len(list_lts_top25)-2:\n",
    "            latex = latex + list_lts_top25[i][j] + '\\\\\\ \\n'\n",
    "        else:\n",
    "            latex = latex + list_lts_top25[i][j] + ' & '\n",
    "    top += 1"
   ]
  },
  {
   "cell_type": "code",
   "execution_count": 6,
   "metadata": {},
   "outputs": [
    {
     "data": {
      "image/png": "[encoded data removed]",
      "text/plain": [
       "<Figure size 432x288 with 1 Axes>"
      ]
     },
     "metadata": {
      "needs_background": "light"
     },
     "output_type": "display_data"
    }
   ],
   "source": [
    "# Sacar base si es qe todos utilizan base por definicion.\n",
    "\n",
    "fig, ax = plt.subplots()\n",
    "ax.margins(0.02)   \n",
    "hbars = ax.barh(top_25_pkgs, top_25_count, align='center', color='grey')\n",
    "ax.invert_yaxis() \n",
    "ax.set_xlabel('Packages that use it')\n",
    "ax.set_title('What packages are the most used?')\n",
    "plt.show()"
   ]
  },
  {
   "cell_type": "code",
   "execution_count": 7,
   "metadata": {},
   "outputs": [
    {
     "data": {
      "text/plain": [
       "['quickcheck', 'microlens', 'hunit', 'cabal', 'ghc']"
      ]
     },
     "execution_count": 7,
     "metadata": {},
     "output_type": "execute_result"
    }
   ],
   "source": [
    "from api import get_pkgs_usage_count, get_packages_out_of_stackage\n",
    "pkgs_usage_count = get_pkgs_usage_count(df_list[14])\n",
    "top = sorted(pkgs_usage_count, key=pkgs_usage_count.get, reverse=True)[:100]\n",
    "get_packages_out_of_stackage(top, df_list[14])"
   ]
  },
  {
   "cell_type": "markdown",
   "metadata": {},
   "source": [
    "## **RQ 2.** How many packages are outside of Stackage due to his (in)direct dependencies?\n"
   ]
  },
  {
   "cell_type": "code",
   "execution_count": null,
   "metadata": {},
   "outputs": [],
   "source": [
    "from api import get_pkgs_out_transitively\n",
    "out_transitive_pkgs = get_pkgs_out_transitively(df_list)"
   ]
  },
  {
   "cell_type": "code",
   "execution_count": null,
   "metadata": {},
   "outputs": [],
   "source": [
    "count_transitive = {}\n",
    "per_transitive = {}\n",
    "diff_transitive = {}  \n",
    "diff_per_transitive = {} \n",
    "\n",
    "for idx, lts in enumerate(out_transitive_pkgs):\n",
    "    count_transitive[lts] = out_transitive_pkgs[lts]\n",
    "    per_transitive[lts] = round(out_transitive_pkgs[lts]*100 / len(df_list[idx]), 1)\n",
    "    diff_transitive[lts] = len(df_list[idx]) - out_transitive_pkgs[lts]\n",
    "    diff_per_transitive[lts] = 100 - per_transitive[lts]\n",
    "    \n",
    "index = list(per_transitive.keys())\n",
    "count_values = list(count_transitive.values())\n",
    "per_values = list(per_transitive.values())\n",
    "diff_values = list(diff_transitive.values())\n",
    "diff_per_values = list(diff_per_transitive.values())"
   ]
  },
  {
   "cell_type": "code",
   "execution_count": null,
   "metadata": {},
   "outputs": [],
   "source": [
    "ax = plt.gca()\n",
    "ax.margins(0.02)    \n",
    "plt.subplots_adjust(bottom=0.1, right=1.1, top=0.5)\n",
    "bar = ax.bar(index, per_values, width=0.7, color='darkgrey', align='center', label='Packages out of stackage transitively')\n",
    "line = ax.plot(index, per_values, color='grey', marker='o', label='Percentage of packages out of stackage transitively')\n",
    "ax.legend(loc='best')\n",
    "ax.set_xlabel('LTS versions')\n",
    "ax.set_ylabel('Percentage of packages')\n",
    "ax.set_title('How many packages are transitively out of Stockage?')\n",
    "ax.set_yticks([10, 20, 30, 40, 50])\n",
    "ax.set_yticklabels(['10%', '20%', '30%', '40%', '50%'])\n",
    "ax.bar_label(bar, labels=list(map(lambda per: f\"{per}%\", per_values)))\n",
    "plt.show()"
   ]
  },
  {
   "cell_type": "code",
   "execution_count": null,
   "metadata": {},
   "outputs": [],
   "source": [
    "fig, ax = plt.subplots()\n",
    "ax.margins(0.015) \n",
    "plt.subplots_adjust(bottom=0.1, right=1.2, top=1)\n",
    "bar1 = ax.bar(x=index, height=count_values, width=0.8, color='darkgrey', align='center', label='Packages out of Stackage transitively')\n",
    "bar2 = ax.bar(index, diff_values, width=0.8, bottom=count_values, color='lightgrey', label='Stackage packages')\n",
    "ax.legend(loc='best')\n",
    "ax.set_xlabel('LTS versions')\n",
    "ax.set_ylabel('Number of packages')\n",
    "ax.set_title('How many packages are transitively out of Stockage?')\n",
    "ax.set_yticks([0, 500, 1000, 1500, 2000, 2500, 3000])\n",
    "ax.bar_label(bar1, labels=list(map(lambda per: f\"{round(per)}%\", per_values)), label_type='center')\n",
    "\n",
    "plt.show()"
   ]
  },
  {
   "cell_type": "code",
   "execution_count": null,
   "metadata": {},
   "outputs": [],
   "source": [
    "import statistics\n",
    "mean = statistics.mean(list(per_transitive.values()))\n",
    "print(f'average over time {mean:.1f}%')"
   ]
  },
  {
   "cell_type": "markdown",
   "metadata": {},
   "source": [
    "### 4. ¿Que tan frecuente se actualizan los paquetes? \n",
    "- ¿Acumulado hasta cada version?*"
   ]
  },
  {
   "cell_type": "code",
   "execution_count": null,
   "metadata": {},
   "outputs": [],
   "source": [
    "from api import get_versions_df, get_update_count_df, get_count_updated_packages_by_lts\n",
    "versions_df = get_versions_df(df_list)"
   ]
  },
  {
   "cell_type": "code",
   "execution_count": null,
   "metadata": {},
   "outputs": [],
   "source": [
    "update_count_df = get_update_count_df(df_list, versions_df)"
   ]
  },
  {
   "cell_type": "code",
   "execution_count": null,
   "metadata": {},
   "outputs": [],
   "source": [
    "count_updated_packages_by_lts = get_count_updated_packages_by_lts(df_list, update_count_df)"
   ]
  },
  {
   "cell_type": "code",
   "execution_count": null,
   "metadata": {},
   "outputs": [],
   "source": [
    "index = list(count_updated_packages_by_lts.keys())\n",
    "updated_packages = list(count_updated_packages_by_lts.values())\n",
    "\n",
    "fig, ax = plt.subplots()\n",
    "ax.margins(0.015) \n",
    "plt.subplots_adjust(bottom=0.1, right=1.2, top=1)\n",
    "\n",
    "bar1 = ax.bar(index, updated_packages, width=0.8, color='darkgrey', align='center', label='Updated packages')\n",
    "ax.bar_label(bar1, labels=list(map(lambda per: f\"{round(per)}%\", updated_packages)))\n",
    "\n",
    "ax.legend(loc='best')\n",
    "ax.set_xlabel('LTS versions')\n",
    "ax.set_ylabel('Percentage of packages updated')\n",
    "ax.set_title('How often are Stackage packages updated?')\n",
    "ax.set_yticks([10, 20, 30, 40, 50, 60, 70, 80, 90, 100])\n",
    "ax.set_yticklabels(['10%', '20%', '30%', '40%', '50%', '60%', '70%', '80%', '90%', '100%'])\n",
    "\n",
    "\n",
    "plt.show()"
   ]
  },
  {
   "cell_type": "markdown",
   "metadata": {},
   "source": [
    "# Evolucion del uso de monadas por los desarrolladores"
   ]
  },
  {
   "cell_type": "markdown",
   "metadata": {},
   "source": [
    "## 5. ¿Que porcentaje de paquetes utilizan mtl a lo largo del tiempo?"
   ]
  },
  {
   "cell_type": "code",
   "execution_count": null,
   "metadata": {},
   "outputs": [],
   "source": [
    "from api import create_lts_obj\n",
    "per_mtl_pkgs = create_lts_obj()\n",
    "for idx, df in enumerate(df_list):\n",
    "    percentage = len(df[df['mtl-direct'] == 1]) * 100 / len(df)\n",
    "    per_mtl_pkgs[lts_list[idx]] = percentage"
   ]
  },
  {
   "cell_type": "code",
   "execution_count": null,
   "metadata": {},
   "outputs": [],
   "source": [
    "index = list(per_mtl_pkgs.keys())\n",
    "mtl_pkgs = list(per_mtl_pkgs.values())\n",
    "\n",
    "fig, ax = plt.subplots()\n",
    "ax.margins(0.015) \n",
    "plt.subplots_adjust(right=1.1)\n",
    "bar1 = ax.bar(index, mtl_pkgs, width=0.8, color='darkgrey', align='center', label='Updated packages')\n",
    "ax.bar_label(bar1, labels=list(map(lambda per: f\"{round(per)}%\", mtl_pkgs)))\n",
    "ax.legend(loc='best')\n",
    "ax.set_xlabel('LTS versions')\n",
    "ax.set_ylabel('Percentage of packages that use mtl')\n",
    "ax.set_title('What percentage of packages of Stackage use mtl over time?')\n",
    "ax.set_yticks([10, 20, 30, 40, 50])\n",
    "ax.set_yticklabels(['10%', '20%', '30%', '40%', '50%'])\n",
    "\n",
    "plt.show()"
   ]
  },
  {
   "cell_type": "code",
   "execution_count": null,
   "metadata": {},
   "outputs": [],
   "source": [
    "import statistics\n",
    "mean = statistics.mean(list(per_mtl_pkgs.values()))\n",
    "print(f'average over time {mean:.1f}%')"
   ]
  },
  {
   "cell_type": "markdown",
   "metadata": {},
   "source": [
    "## 6. ¿Como crecio la cantidad de paquetes que usan monadas frente a la cantidad de paquetes que dejaron de utilizarlas en el tiempo?"
   ]
  },
  {
   "cell_type": "code",
   "execution_count": null,
   "metadata": {},
   "outputs": [],
   "source": [
    "from api import get_all_time_packages, build_mtl_continuity_matrix\n",
    "mtl_continuity_df = build_mtl_continuity_matrix(df_list, get_all_time_packages(df_list))"
   ]
  },
  {
   "cell_type": "code",
   "execution_count": null,
   "metadata": {},
   "outputs": [],
   "source": [
    "from api import get_added_packages_mtl_by_lts, get_removed_packages_mtl_by_lts\n",
    "added_mtl_pkgs_count = get_added_packages_mtl_by_lts(mtl_continuity_df)\n",
    "removed_mtl_pkgs_count = get_removed_packages_mtl_by_lts(mtl_continuity_df)"
   ]
  },
  {
   "cell_type": "code",
   "execution_count": null,
   "metadata": {},
   "outputs": [],
   "source": [
    "total = []\n",
    "for idx, lts in enumerate(lts_list):\n",
    "    total.append(added_mtl_pkgs_count[idx] - removed_mtl_pkgs_count[idx])"
   ]
  },
  {
   "cell_type": "code",
   "execution_count": null,
   "metadata": {},
   "outputs": [],
   "source": [
    "fig, ax = plt.subplots()\n",
    "ax.margins(0.015) \n",
    "plt.subplots_adjust(bottom=0.1, right=1.2, top=1)\n",
    "ax.axhline(0, color='black', linewidth=0.8)\n",
    "\n",
    "bar1 = ax.bar(index, total, width=0.8, color='darkgrey', align='center', label='total')\n",
    "line = ax.plot(index, added_mtl_pkgs_count, color='green', marker='o', label='added_mtl_pkgs_count')\n",
    "line = ax.plot(index, removed_mtl_pkgs_count, color='red', marker='o', label='removed_mtl_pkgs_count')\n",
    "# ax.bar_label(bar1, labels=list(map(lambda per: f\"{round(per)}%\", mtl_pkgs)))\n",
    "\n",
    "ax.legend(loc='best')\n",
    "ax.set_xlabel('LTS versions')\n",
    "ax.set_ylabel('Percentage of packages that use mtl')\n",
    "ax.set_title('5?')\n",
    "\n",
    "plt.show()"
   ]
  },
  {
   "cell_type": "markdown",
   "metadata": {},
   "source": [
    "## 7. ¿Cuantas monadas utilizan los paquetes que usan mtl? ¿Que tipos de monadas utilizan los paquetes que usan mtl?"
   ]
  },
  {
   "cell_type": "code",
   "execution_count": null,
   "metadata": {},
   "outputs": [],
   "source": []
  },
  {
   "cell_type": "markdown",
   "metadata": {},
   "source": [
    "### 8. ¿Que paquetes que ya usaban monadas en sus futuras versiones dejaron de usarlas? (en porcentaje (en categoria) y ) ¿en cada version cuantas dejaron de utilzar mtl?)\n",
    "\n",
    "- Nacieron usando mtl y dejaron de usar mtl pero se mantuvieron en la selección\n",
    "- Nacieron sin usar mtl y comenzaron a utilizar mtl en el futuro"
   ]
  },
  {
   "cell_type": "code",
   "execution_count": null,
   "metadata": {},
   "outputs": [],
   "source": []
  },
  {
   "cell_type": "code",
   "execution_count": null,
   "metadata": {},
   "outputs": [],
   "source": []
  }
 ],
 "metadata": {
  "kernelspec": {
   "display_name": "Python 3",
   "language": "python",
   "name": "python3"
  },
  "language_info": {
   "codemirror_mode": {
    "name": "ipython",
    "version": 3
   },
   "file_extension": ".py",
   "mimetype": "text/x-python",
   "name": "python",
   "nbconvert_exporter": "python",
   "pygments_lexer": "ipython3",
   "version": "3.7.4"
  }
 },
 "nbformat": 4,
 "nbformat_minor": 4
}
